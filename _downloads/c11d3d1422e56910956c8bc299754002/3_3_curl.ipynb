{
  "cells": [
    {
      "cell_type": "code",
      "execution_count": null,
      "metadata": {
        "collapsed": false
      },
      "outputs": [],
      "source": [
        "%matplotlib inline"
      ]
    },
    {
      "cell_type": "markdown",
      "metadata": {},
      "source": [
        "\n# Curl Operator\n\nWhen solving PDEs using the finite volume approach, inner products may\ncontain the curl operator. Where $\\vec{u}$ and $\\vec{w}$ are vector\nquantities, we may need to derive a discrete approximation for the following\ninner product:\n\n\\begin{align}(\\vec{u} , \\nabla \\times \\vec{w}) = \\int_\\Omega \\, \\vec{u} \\cdot \\vec{w} \\, dv\\end{align}\n\nIn this section, we demonstrate how to go from the inner product to the\ndiscrete approximation. In doing so, we must construct\ndiscrete differential operators, inner product matricies and consider\nboundary conditions.\n"
      ]
    },
    {
      "cell_type": "markdown",
      "metadata": {},
      "source": [
        "## Background Theory\n\nFor the inner product between a vector ($\\vec{u}$) and the\ncurl of another vector ($\\vec{w}$),\nthere are two options for where the variables should live.\n\n**For** $\\boldsymbol{u}$ **on the faces and** $\\boldsymbol{w}$ **on the edges:**\n\n\\begin{align}\\int_\\Omega \\vec{u} \\cdot (\\nabla \\times \\vec{w} ) \\, dv \\approx \\boldsymbol{u^T M_f C \\, w}\\end{align}\n\nwhere\n\n    - $\\boldsymbol{C}$ is the discrete curl operator from edges to faces\n    - $\\boldsymbol{M_f}$ is the basic inner product matrix for vectors on cell faces\n\n**For** $\\boldsymbol{u}$ **on the edges and** $\\boldsymbol{w}$ **on cell faces** ,\nthe curl would need to map from faces to edges. In this case, it is better to use the identity\n$\\vec{u} \\cdot (\\nabla \\times \\vec{w}) = \\vec{w} \\cdot (\\nabla \\times \\vec{u}) - \\nabla \\cdot (\\vec{u} \\times \\vec{w})$\nand to apply the divergence theorem such that:\n\n\\begin{align}\\int_\\Omega \\vec{u} \\cdot (\\nabla \\times \\vec{w} ) \\, dv\n    = \\int_\\Omega \\vec{w} \\cdot (\\nabla \\times \\vec{u} ) \\, dv - \\oint_{\\partial \\Omega} (\\vec{u} \\times \\vec{w}) \\cdot d\\vec{a}\n    \\approx \\boldsymbol{u^T C^T \\! M_f \\, w } + \\boldsymbol{u^T B \\, w }\n    = \\boldsymbol{u^T \\tilde{C} \\, w }\\end{align}\n\nwhere\n\n    - $\\boldsymbol{C}$ is still the discrete curl operator from edges to faces\n    - $\\boldsymbol{M_f}$ is still the basic inner product matrix for vectors on cell faces\n    - $\\boldsymbol{B}$ is a sparse matrix which imposes boundary conditions on $\\vec{w}$\n    - $\\boldsymbol{\\tilde{C}} = \\boldsymbol{C^T \\! M_f + B}$ acts as a modified curl operator with boundary conditions imposed\n\n\nNote that $\\boldsymbol{u^T B \\, w }=0$ when $\\hat{n} \\times \\vec{w} = 0$ on the boundary.\n\n\n"
      ]
    },
    {
      "cell_type": "markdown",
      "metadata": {},
      "source": [
        "## Import Packages\n\n\n"
      ]
    },
    {
      "cell_type": "code",
      "execution_count": null,
      "metadata": {
        "collapsed": false
      },
      "outputs": [],
      "source": [
        "from discretize.utils import sdiag\nfrom discretize import TensorMesh\nimport numpy as np\nimport matplotlib.pyplot as plt"
      ]
    },
    {
      "cell_type": "markdown",
      "metadata": {},
      "source": [
        "## Curl\n\n\n"
      ]
    },
    {
      "cell_type": "code",
      "execution_count": null,
      "metadata": {
        "collapsed": false
      },
      "outputs": [],
      "source": [
        "# Make basic mesh\nh = np.ones(10)\nmesh = TensorMesh([h, h, h])\n\n# Items required to perform u.T*(Mf*Ce*v)\nMf = mesh.getFaceInnerProduct()  # Basic inner product matrix (faces)\nCe = mesh.edgeCurl  # Edges to faces curl\n\n# Items required to perform u.T*(Me*Cf*v)\nMe = mesh.getEdgeInnerProduct()  # Basic inner product matrix (edges)\nCf = mesh.edgeCurl.T  # Faces to edges curl (assumes Dirichlet)\n\n# Plot Sparse Representation\nfig = plt.figure(figsize=(9, 5))\n\nax1 = fig.add_subplot(121)\nax1.spy(Mf * Ce, markersize=0.5)\nax1.set_title(\"Mf*Ce\", pad=10)\n\nax2 = fig.add_subplot(122)\nax2.spy(Me * Cf, markersize=0.5)\nax2.set_title(\"Me*Cf\", pad=10)"
      ]
    }
  ],
  "metadata": {
    "kernelspec": {
      "display_name": "Python 3",
      "language": "python",
      "name": "python3"
    },
    "language_info": {
      "codemirror_mode": {
        "name": "ipython",
        "version": 3
      },
      "file_extension": ".py",
      "mimetype": "text/x-python",
      "name": "python",
      "nbconvert_exporter": "python",
      "pygments_lexer": "ipython3",
      "version": "3.7.4"
    }
  },
  "nbformat": 4,
  "nbformat_minor": 0
}
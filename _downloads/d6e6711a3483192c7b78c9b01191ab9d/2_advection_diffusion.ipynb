{
  "cells": [
    {
      "cell_type": "code",
      "execution_count": null,
      "metadata": {
        "collapsed": false
      },
      "outputs": [],
      "source": [
        "%matplotlib inline"
      ]
    },
    {
      "cell_type": "markdown",
      "metadata": {},
      "source": [
        "\n# Advection-Diffusion Equation\n\nHere we use the discretize package to solve the 2D advection-diffusion equation.\nWe implement a zero Neumann boundary condition on the unknown variable $p$\nand assume the fluid is incompressible. In the theory section of the discretie website we provided a\n`derivation for the final numerical solution <derivation_examples_advection_diffusion>`.\n\nIf we assume the fluid is incompressible (i.e. $\\nabla \\cdot \\vec{u} = 0$),\nthe advection-diffusion equation with zero Neumann boundary conditions is given by:\n\n\\begin{align}& p_t = \\nabla \\cdot \\alpha \\nabla p - \\vec{u} \\cdot \\nabla p + s \\\\\n    & \\textrm{s.t.} \\;\\;\\; \\frac{\\partial p}{\\partial n} \\Bigg |_{\\partial \\Omega} = 0 \\\\\n    & \\textrm{and} \\;\\;\\; p(t=0) = 0\\end{align}\n\nwhere \n\n    - $p$ is the unknown variable\n    - $p_t$ is its time derivative\n    - $\\alpha$ defines the diffusivity within the domain\n    - $\\vec{u}$ is the velocity field\n    - $s$ is the source term\n\nWe will consider the case where there is a single point source within our domain.\nWhere $s_0$ is a constant, the source term is given by:\n\n\\begin{align}s = s_0 \\delta ( \\vec{r} )\\end{align}\n\n\nThe numerical solution was obtained by discretizing the unknown variable\nto live at cell centers ($\\boldsymbol{p}$) and using backward Euler to\ndiscretize in time. Where $\\Delta t$ is the step length, the system which\nmust be solved at each time step $k$ is given by:\n    \n\\begin{align}\\big [ \\boldsymbol{I} + \\Delta t \\, \\boldsymbol{M} \\big ] \\, \\boldsymbol{p}^{k+1} = \\boldsymbol{p}^k + \\Delta t \\, \\boldsymbol{s}\\end{align}\n\nwhere\n\n\\begin{align}\\boldsymbol{M} = - \\boldsymbol{D \\, M_\\alpha^{-1} \\tilde{G}} +  \n    c\\, \\boldsymbol{A_{fc}} diag(\\boldsymbol{u}) \\, \\boldsymbol{M_f^{-1} \\tilde{G}}\\end{align}\n\nand\n\n\\begin{align}\\boldsymbol{s} = \\boldsymbol{M_c^{-1} \\, q}\\end{align}\n\nDiscrete operators are defined as follows:\n    \n    - $\\boldsymbol{I}$ is the identity matrix\n    - $\\boldsymbol{M_c}$ is the inner product matrix at cell centers\n    - $\\boldsymbol{M_f}$ is the inner product matrix on faces\n    - $\\boldsymbol{M_\\alpha}$ is the inner product matrix at faces for the inverse of the diffusivity\n    - $\\boldsymbol{A_{fc}}$ is averaging matrix from faces to cell centers\n    - $\\boldsymbol{D}$ is the discrete divergence operator\n    - $\\boldsymbol{\\tilde{G}}$ acts as a modified gradient operator which also implements the boundary conditions\n"
      ]
    },
    {
      "cell_type": "markdown",
      "metadata": {},
      "source": [
        "## Import Packages\n\nHere we import the packages required for this tutorial.\n\n\n"
      ]
    },
    {
      "cell_type": "code",
      "execution_count": null,
      "metadata": {
        "collapsed": false
      },
      "outputs": [],
      "source": [
        "from discretize import TensorMesh\nfrom pymatsolver import SolverLU\nimport matplotlib.pyplot as plt\nimport matplotlib as mpl\nimport numpy as np\nfrom discretize.utils import sdiag, mkvc\nmpl.rcParams.update({'font.size':14})"
      ]
    },
    {
      "cell_type": "markdown",
      "metadata": {},
      "source": [
        "## Create a tensor mesh\n\n\n"
      ]
    },
    {
      "cell_type": "code",
      "execution_count": null,
      "metadata": {
        "collapsed": false
      },
      "outputs": [],
      "source": [
        "h = np.ones(75)\nmesh = TensorMesh([h, h], \"CC\")"
      ]
    },
    {
      "cell_type": "markdown",
      "metadata": {},
      "source": [
        "## Define a divergence free vector field on faces\n\n\n"
      ]
    },
    {
      "cell_type": "code",
      "execution_count": null,
      "metadata": {
        "collapsed": false
      },
      "outputs": [],
      "source": [
        "faces_x = mesh.faces_x\nfaces_y = mesh.faces_y\n\nr_x = np.sqrt(np.sum(faces_x ** 2, axis=1))\nr_y = np.sqrt(np.sum(faces_y ** 2, axis=1))\n\nux = 0.5 * (-faces_x[:, 1] / r_x) * (1 + np.tanh(0.15 * (28.0 - r_x)))\nuy = 0.5 * (faces_y[:, 0] / r_y) * (1 + np.tanh(0.15 * (28.0 - r_y)))\n\nu = 10.0 * np.r_[ux, uy]  # Maximum velocity is 10 m/s"
      ]
    },
    {
      "cell_type": "markdown",
      "metadata": {},
      "source": [
        "## Define the source term\n\n\n"
      ]
    },
    {
      "cell_type": "code",
      "execution_count": null,
      "metadata": {
        "collapsed": false
      },
      "outputs": [],
      "source": [
        "# Define vector q where qi=1 at the nearest cell center\nxycc = mesh.cell_centers\nk = (xycc[:, 0] == 0) & (xycc[:, 1] == -15)  # source at (0, -15)\n\nq = np.zeros(mesh.nC)\nq[k] = 1"
      ]
    },
    {
      "cell_type": "markdown",
      "metadata": {},
      "source": [
        "## Define discrete operators and diffusivity\n\n\n"
      ]
    },
    {
      "cell_type": "code",
      "execution_count": null,
      "metadata": {
        "collapsed": false
      },
      "outputs": [],
      "source": [
        "# Define diffusivity for all cells\na = mkvc(8.0 * np.ones(mesh.nC))\n\n# Define discrete operators\nAfc = mesh.average_face_to_cell                   # average face to cell matrix\nMf_inv = mesh.getFaceInnerProduct(invMat=True)    # inverse of inner product matrix at faces\nMc = sdiag(mesh.vol)                              # inner product matrix at centers\nMc_inv = sdiag(1 / mesh.vol)                      # inverse of inner product matrix at centers\n\n# Inverse of the inner product matrix for the reciprocal of the diffusivity\nMf_alpha_inv = mesh.getFaceInnerProduct(a, invProp=True, invMat=True)  \n\nD = mesh.face_divergence                          # divergence operator\n\nmesh.set_cell_gradient_BC([\"neumann\", \"neumann\"]) # Set zero Neumann BC\nG = mesh.cell_gradient                            # modified gradient operator with BC implemented\n\n# Construct matrix M\nM = -D * Mf_alpha_inv * G * Mc + mesh.dim * Afc * sdiag(u) * Mf_inv * G * Mc"
      ]
    },
    {
      "cell_type": "markdown",
      "metadata": {},
      "source": [
        "## Define time discretization using backward Euler\n\n\n"
      ]
    },
    {
      "cell_type": "code",
      "execution_count": null,
      "metadata": {
        "collapsed": false
      },
      "outputs": [],
      "source": [
        "dt = 0.02                          # Step width\np = np.zeros(mesh.nC)              # Initial conditions p(t=0)=0\n\nI = sdiag(np.ones(mesh.nC))        # Identity matrix\nB = I + dt * M                     # Linear system solved at each time step\ns = Mc_inv * q                     # RHS\n\nBinv = SolverLU(B)                 # Define inverse using solver"
      ]
    },
    {
      "cell_type": "markdown",
      "metadata": {},
      "source": [
        "## Carry out time stepping and plot progress\n\n\n"
      ]
    },
    {
      "cell_type": "code",
      "execution_count": null,
      "metadata": {
        "collapsed": false
      },
      "outputs": [],
      "source": [
        "# Plot the vector field\nfig = plt.figure(figsize=(15, 15))\nax = 9 * [None]\n\nax[0] = fig.add_subplot(332)\nmesh.plotImage(\n    u,\n    ax=ax[0],\n    v_type=\"F\",\n    view=\"vec\",\n    stream_opts={\"color\": \"w\", \"density\": 1.0},\n    clim=[0.0, 10.0],\n)\nax[0].set_title(\"Divergence free vector field\")\n\nax[1] = fig.add_subplot(333)\nax[1].set_aspect(10, anchor=\"W\")\ncbar = mpl.colorbar.ColorbarBase(ax[1], orientation=\"vertical\")\ncbar.set_label(\"Velocity (m/s)\", rotation=270, labelpad=15)\n\n# Perform backward Euler and plot at specified times\nn = 3\n\nfor ii in range(300):\n\n    p = Binv * (p + s)\n\n    if ii + 1 in (1, 25, 50, 100, 200, 300):\n        ax[n] = fig.add_subplot(3, 3, n + 1)\n        mesh.plotImage(p, v_type=\"CC\", ax=ax[n], pcolor_opts={\"cmap\": \"gist_heat_r\"})\n        title_str = \"p at t = \" + str((ii + 1) * dt) + \" s\"\n        ax[n].set_title(title_str)\n        n = n + 1\n\nplt.tight_layout()"
      ]
    }
  ],
  "metadata": {
    "kernelspec": {
      "display_name": "Python 3",
      "language": "python",
      "name": "python3"
    },
    "language_info": {
      "codemirror_mode": {
        "name": "ipython",
        "version": 3
      },
      "file_extension": ".py",
      "mimetype": "text/x-python",
      "name": "python",
      "nbconvert_exporter": "python",
      "pygments_lexer": "ipython3",
      "version": "3.7.4"
    }
  },
  "nbformat": 4,
  "nbformat_minor": 0
}
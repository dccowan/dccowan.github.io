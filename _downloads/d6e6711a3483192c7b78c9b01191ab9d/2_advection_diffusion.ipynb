{
  "cells": [
    {
      "cell_type": "code",
      "execution_count": null,
      "metadata": {
        "collapsed": false
      },
      "outputs": [],
      "source": [
        "%matplotlib inline"
      ]
    },
    {
      "cell_type": "markdown",
      "metadata": {},
      "source": [
        "\n# 2D Advection-Diffusion Equation with Zero Neumann Condition\n\nHere we use the *discretize package* to approximate the solution to\nthe 2D advection-diffusion equation with zero Neumann boundary conditions.\nWe assume the fluid is incompressible.\nThis tutorial focusses on:\n\n    - strategies for applying the finite volume method to higher order PDEs\n    - discretizing and solving time-dependent PDEs\n    - including constitutive relationships defined by the reciprocal of a parameter\n    \n"
      ]
    },
    {
      "cell_type": "markdown",
      "metadata": {},
      "source": [
        "## 1. Formulating the Problem\n\nIf we assume the fluid is incompressible (i.e. $\\nabla \\cdot \\vec{u} = 0$),\nthe advection-diffusion equation with zero Neumann boundary conditions is given by:\n\n\\begin{align}\\begin{align}\n    & p_t = \\nabla \\cdot \\alpha \\nabla p - \\vec{u} \\cdot \\nabla p + s \\\\\n    & \\textrm{s.t.} \\;\\;\\; \\frac{\\partial p}{\\partial n} \\Bigg |_{\\partial \\Omega} = 0 \\\\\n    & \\textrm{and} \\;\\;\\; p(t=0) = 0\n    \\end{align}\n    :label: tutorial_eq_2_1_1\\end{align}\n\nwhere \n\n    - $p$ is the unknown variable\n    - $p_t$ is its time-derivative\n    - $\\alpha$ defines the diffusivity within the domain\n    - $\\vec{u}$ is the velocity field\n    - $s$ is the source term\n\nWe will consider the case where there is a single point source within our domain.\nWhere $s_0$ is a constant:\n\n\\begin{align}s = s_0 \\delta ( \\vec{r} )\\end{align}\n\nDirect implementation of the finite volume method is more challenging for higher order PDEs.\nOne strategy is to redefine the problem as a set of first order PDEs:\n\n\\begin{align}\\begin{align}\n    p_t = \\nabla \\cdot \\vec{j} - \\vec{u} \\cdot \\vec{w} + s \\;\\;\\;\\; &(1)\\\\\n    \\vec{w} = \\nabla p \\;\\;\\;\\; &(2)\\\\\n    \\alpha^{-1} \\vec{j} = \\vec{w} \\;\\;\\;\\; &(3)\n    \\end{align}\n    :label: tutorial_eq_2_1_2\\end{align}\n\nWe can now take the inner products between each expression in equation\n:eq:`tutorial_eq_2_1_2` and an appropriate test function.\n\n\n"
      ]
    },
    {
      "cell_type": "markdown",
      "metadata": {},
      "source": [
        "## 2. Taking Inner Products\n\nThe inner product between a scalar test function $\\psi$ and the first equation\nin :eq:`tutorial_eq_2_1_2` is given by:\n\n\\begin{align}\\int_\\Omega \\psi p_t \\, dv = \\int_\\Omega \\psi \\nabla \\cdot \\vec{j} \\, dv + \\int_\\Omega \\psi (\\vec{u} \\cdot \\vec{w}) \\, dv + \\int_\\Omega \\psi s \\, dv\n    :label: tutorial_eq_2_1_3\\end{align}\n\nThe inner product between a vector test function $\\vec{f}$ and the second equation\nin :eq:`tutorial_eq_2_1_2` is given by:\n\n\\begin{align}\\int_\\Omega \\vec{f} \\cdot \\vec{w} = \\int_\\Omega \\vec{f} \\cdot \\nabla p \\, dv\n    :label: tutorial_eq_2_1_4\\end{align}\n\nAnd the inner product between a vector test function $\\vec{f}$ and the third equation\nin :eq:`tutorial_eq_2_1_2` is given by:\n\n\\begin{align}\\int_\\Omega \\vec{f} \\cdot \\alpha^{\\! -1} \\vec{j} \\, dv = \\int_\\Omega \\vec{f} \\cdot \\vec{w} \\, dv\n    :label: tutorial_eq_2_1_5\\end{align}\n\n\n"
      ]
    },
    {
      "cell_type": "markdown",
      "metadata": {},
      "source": [
        "## 3. Discretizing the Inner Products\n\nBecause this is a time-dependent problem, we must consider discretization in both space and time.\nWe generally begin by discretizing in space, then we discretize in time.\nHere we let $\\boldsymbol{p}$ be the discrete representation of the unkown variable $p$ and its time-derivative $p_t$\nat cell centers. Examining expressions :eq:`tutorial_eq_2_1_3`,\n:eq:`tutorial_eq_2_1_4` and :eq:`tutorial_eq_2_1_5`:\n\n    - The scalar test function $\\psi$ must be discretized to cell centers \n    - The source term $s$ must also be discretized to cell centers\n    - For this discretization, the divergence operator maps naturally from faces to cell centers and $\\vec{j}$ must be discretized to faces\n    - For this discretization, the gradient operator maps naturally from cell centers to faces and $\\vec{w}$ must be discretized to faces\n    - Since $\\vec{w}$ is discretized to the faces, so must the vector field $\\vec{u}$ and the vector test function $\\vec{f}$\n\n**Inner Product #1:**\n\nSince the source term in expression :eq:`tutorial_eq_2_1_3` contains a Dirac delta function, \nwe rewrite the expression as: \n\n\\begin{align}\\int_\\Omega \\psi p_t \\, dv = \\int_\\Omega \\psi \\nabla \\cdot \\vec{j} \\, dv + \\int_\\Omega \\psi (\\vec{u} \\cdot \\vec{w}) \\, dv + \\psi q\n    :label: tutorial_eq_2_1_6\\end{align}\n\nwhere $q$ is an integrated source term. Here, discrete representations of scalars ($\\boldsymbol{\\psi}$, $\\boldsymbol{p_t}$ and $\\boldsymbol{q}$)\nwill live at cell centers, while discrete representations of vectors ($\\boldsymbol{j}$, $\\boldsymbol{u}$ and $\\boldsymbol{w}$)\nwill live on the faces.\n\nIn the tutorials for inner products, we showed how to approximate most classes of inner products.\nHowever the third term in expression :eq:`tutorial_eq_2_1_6` is challenging.\nThe inner product for this term is approximated using discrete scalar quantities at cell centers,\nbut discrete vectors $\\boldsymbol{u}$ and $\\boldsymbol{w}$ live on the faces.\nTo remedy this, we multiply the Cartesian components of $\\boldsymbol{u}$ and $\\boldsymbol{w}$\nindependently on their respective faces, then project the quantity to the cell centers\nbefore carrying out the dot product. Our final discretized representation of\nexpression :eq:`tutorial_eq_2_1_6` is as follows:\n\n\\begin{align}\\boldsymbol{\\psi^T M_c \\, p_t} = \\boldsymbol{\\psi^T M_c D \\, j} -\n    c\\, \\boldsymbol{\\psi^T M_c A_{fc}} \\, diag(\\boldsymbol{u}) \\, \\boldsymbol{w} + \\boldsymbol{\\psi^T q}\n    :label: tutorial_eq_2_1_7\\end{align}\n\nwhere\n\n    - $\\boldsymbol{M_c}$ is the inner product matrix at cell centers\n    - $\\boldsymbol{D}$ is the discrete divergence operator from faces to cell centers\n    - $\\boldsymbol{A_{fc}}$ is a projection matrix from faces to cell centers\n    - $c=1,2,3$ is a constant equal to the dimension of the problem (*c* = 2 in this case)\n\n**Inner Product #2:**\n\nConsider expression :eq:`tutorial_eq_2_1_4`.\nThe discrete gradient operator maps naturally from cell centers to faces.\nUnfortunately for boundary faces, this would require we know values of $p$ outside the domain.\nBy using the vector identity $\\vec{f} \\cdot \\nabla p = \\nabla \\cdot p\\vec{f} - p \\nabla \\cdot \\vec{f}$\nand applying the divergence theorem, expression :eq:`tutorial_eq_2_1_4` becomes:\n\n\\begin{align}\\int_\\Omega \\vec{f} \\cdot \\vec{w} = - \\int_\\Omega p \\nabla \\cdot \\vec{f} \\, dv + \\oint_{\\partial \\Omega} p \\hat{n} \\cdot \\vec{f} \\, da\n    :label: tutorial_eq_2_1_8\\end{align}\n\nThe discrete approximation is therefore given by:\n\n\\begin{align}\\boldsymbol{f^T M_f \\, w} = - \\boldsymbol{f^T D^T M_c \\, p + f^T B \\, p} = \\boldsymbol{f^T \\tilde{G} \\, p}\n    :label: tutorial_eq_2_1_9\\end{align}\n\nwhere\n\n    - $\\boldsymbol{f}$ is the discrete repressentation of $\\vec{f}$ on cell faces\n    - $\\boldsymbol{M_f}$ is the inner product matrix on cell faces\n    - $\\boldsymbol{B}$ is a sparse matrix that imposes boundary conditions correctly on $p$\n    - $\\boldsymbol{\\tilde{G}} = \\boldsymbol{-D^T M_c + B}$ acts as a modified gradient operator with boundary conditions implemented\n\n**Inner Product #3:**\n\nIn expression :eq:`tutorial_eq_2_1_5`, we must take the inner product\nwhere the constitutive relation is defined by the reciprocal of a parameter.\nThis was covered in the inner products section for constitutive relationships.\nThe resulting approximation to expression :eq:`tutorial_eq_2_1_5`\nis given by:\n\n\\begin{align}\\boldsymbol{f^T M_\\alpha \\, j} = \\boldsymbol{f^T M_f w}\n    :label: tutorial_eq_2_1_10\\end{align}\n\nwhere $\\boldsymbol{M_\\alpha}$ is the inner product matrix at faces\nfor the reciprocal of the diffusivity.\n\n\n"
      ]
    },
    {
      "cell_type": "markdown",
      "metadata": {},
      "source": [
        "## 4. Solvable Linear System\n\nBefore we can solve the problem numerically, we must amalgamate our\ndiscrete expressions and discretize in time.\nWe begin by substituting the discrete representations of the inner products from expressions\n:eq:`tutorial_eq_2_1_8` and :eq:`tutorial_eq_2_1_10`\ninto expression :eq:`tutorial_eq_2_1_6` and factoring like-terms.\nThe resulting system of equations discretized in space is given by:\n\n\\begin{align}\\boldsymbol{p_t} = \\boldsymbol{\\big [ D \\, M_\\alpha^{-1} \\tilde{G}} -\n    c\\, \\boldsymbol{A_{fc}} diag(\\boldsymbol{u}) \\, \\boldsymbol{M_f^{-1} \\tilde{G} \\big ] \\, p} + \\boldsymbol{M_c^{-1} \\, q}\n    :label: tutorial_eq_2_1_11\\end{align}\n\nTo discretize in time, let us re-express equations :eq:`tutorial_eq_2_1_11` as:\n\n\\begin{align}\\boldsymbol{p_t} = \\boldsymbol{- M \\, p + s}\n    :label: tutorial_eq_2_1_12\\end{align}\n\nwhere\n\n\\begin{align}\\boldsymbol{M} = - \\boldsymbol{D \\, M_\\alpha^{-1} \\tilde{G}} +  \n    c\\, \\boldsymbol{A_{fc}} diag(\\boldsymbol{u}) \\, \\boldsymbol{M_f^{-1} \\tilde{G}}\n    :label: tutorial_eq_2_1_13\\end{align}\n\nand\n\n\\begin{align}\\boldsymbol{s} = \\boldsymbol{M_c^{-1} \\, q}\n    :label: tutorial_eq_2_1_14\\end{align}\n\nThere are a multitude of ways in which discretization in time can be implemented.\nA stable and easy method to implement is the backward Euler.\nBy implementing the backward Euler, we must solve the following linear system\nat each time step $k$:\n\n\\begin{align}\\big [ \\boldsymbol{I} + \\Delta t \\, \\boldsymbol{M} \\big ] \\, \\boldsymbol{p}^{k+1} = \\boldsymbol{p}^k + \\Delta t \\, \\boldsymbol{s}\n    :label: tutorial_eq_2_1_15\\end{align}\n\nwhere $\\boldsymbol{I}$ is the identity matrix and $\\Delta t$ is the step length.\n\n\n\n"
      ]
    },
    {
      "cell_type": "markdown",
      "metadata": {},
      "source": [
        "## 5. Solving the System with Discretize\n\n\n"
      ]
    },
    {
      "cell_type": "markdown",
      "metadata": {},
      "source": [
        "Import the necessary packages for the tutorial.\n\n"
      ]
    },
    {
      "cell_type": "code",
      "execution_count": null,
      "metadata": {
        "collapsed": false
      },
      "outputs": [],
      "source": [
        "from discretize import TensorMesh\nfrom pymatsolver import SolverLU\nimport matplotlib.pyplot as plt\nimport matplotlib as mpl\nimport numpy as np\nfrom discretize.utils import sdiag, mkvc\nmpl.rcParams.update({'font.size':14})\n# sphinx_gallery_thumbnail_number = 2"
      ]
    },
    {
      "cell_type": "markdown",
      "metadata": {},
      "source": [
        "Construct a mesh.\n\n"
      ]
    },
    {
      "cell_type": "code",
      "execution_count": null,
      "metadata": {
        "collapsed": false
      },
      "outputs": [],
      "source": [
        "h = np.ones(75)\nmesh = TensorMesh([h, h], \"CC\")"
      ]
    },
    {
      "cell_type": "markdown",
      "metadata": {},
      "source": [
        "Define a divergence free vector field on the faces and plot.\n\n"
      ]
    },
    {
      "cell_type": "code",
      "execution_count": null,
      "metadata": {
        "collapsed": false
      },
      "outputs": [],
      "source": [
        "faces_x = mesh.faces_x\nfaces_y = mesh.faces_y\n\nr_x = np.sqrt(np.sum(faces_x ** 2, axis=1))\nr_y = np.sqrt(np.sum(faces_y ** 2, axis=1))\n\nux = 0.5 * (-faces_x[:, 1] / r_x) * (1 + np.tanh(0.15 * (28.0 - r_x)))\nuy = 0.5 * (faces_y[:, 0] / r_y) * (1 + np.tanh(0.15 * (28.0 - r_y)))\n\nu_max = 10.0                # Maximum velocity is 10 m/s\nu = u_max * np.r_[ux, uy]\n\nfig = plt.figure(figsize=(8, 6))\nax = 2 * [None]\n\nax[0] = fig.add_axes([0.15, 0.1, 0.6, 0.8])\nmesh.plotImage(\n    u,\n    ax=ax[0],\n    v_type=\"F\",\n    view=\"vec\",\n    stream_opts={\"color\": \"w\", \"density\": 1.0},\n    clim=[0.0, 10.0],\n)\nax[0].set_title(\"Divergence free vector field\")\n\nax[1] = fig.add_axes([0.8, 0.1, 0.05, 0.8])\nax[1].set_aspect(10, anchor=\"W\")\nnorm = mpl.colors.Normalize(vmin=0, vmax=u_max)\ncbar = mpl.colorbar.ColorbarBase(ax[1], norm=norm, orientation=\"vertical\")\ncbar.set_label(\"Velocity (m/s)\", rotation=270, labelpad=15)"
      ]
    },
    {
      "cell_type": "markdown",
      "metadata": {},
      "source": [
        "Construct the source term. Her we define a discrete vector q where\nqi=1 at the nearest cell center and zero for all other cells.\n\n"
      ]
    },
    {
      "cell_type": "code",
      "execution_count": null,
      "metadata": {
        "collapsed": false
      },
      "outputs": [],
      "source": [
        "xycc = mesh.cell_centers\nk = (xycc[:, 0] == 0) & (xycc[:, 1] == -15)  # source at (0, -15)\nq = np.zeros(mesh.nC)\nq[k] = 1"
      ]
    },
    {
      "cell_type": "markdown",
      "metadata": {},
      "source": [
        "Define the diffusivity for all cells. In this case the diffusivity\nis the same for all cells. However, a more complex distribution\nof diffusivities could be created here.\n\n"
      ]
    },
    {
      "cell_type": "code",
      "execution_count": null,
      "metadata": {
        "collapsed": false
      },
      "outputs": [],
      "source": [
        "a = mkvc(8.0 * np.ones(mesh.nC))"
      ]
    },
    {
      "cell_type": "markdown",
      "metadata": {},
      "source": [
        "Define any discrete operators and inner product matrices require to\nsolve the problem.\n\n"
      ]
    },
    {
      "cell_type": "code",
      "execution_count": null,
      "metadata": {
        "collapsed": false
      },
      "outputs": [],
      "source": [
        "Afc = mesh.average_face_to_cell                        # average face to cell matrix\nMf_inv = mesh.getFaceInnerProduct(invert_matrix=True)  # inverse of inner product matrix at faces\nMc = sdiag(mesh.vol)                                   # inner product matrix at centers\nMc_inv = sdiag(1 / mesh.vol)                           # inverse of inner product matrix at centers\nMf_alpha_inv = mesh.getFaceInnerProduct(\n    a, invert_model=True, invert_matrix=True\n)                       # Inverse of the inner product matrix for the reciprocal of the diffusivity\n\nD = mesh.face_divergence                           # divergence operator\n\nmesh.set_cell_gradient_BC([\"neumann\", \"neumann\"])  # Set zero Neumann BC\nG = mesh.cell_gradient                             # modified gradient operator with BC implemented"
      ]
    },
    {
      "cell_type": "markdown",
      "metadata": {},
      "source": [
        "Construct the linear system that is solved at each time step.\n\n"
      ]
    },
    {
      "cell_type": "code",
      "execution_count": null,
      "metadata": {
        "collapsed": false
      },
      "outputs": [],
      "source": [
        "M = -D * Mf_alpha_inv * G * Mc + mesh.dim * Afc * sdiag(u) * Mf_inv * G * Mc\n\ndt = 0.02                          # Step width\np = np.zeros(mesh.nC)              # Initial conditions p(t=0)=0\n\nI = sdiag(np.ones(mesh.nC))        # Identity matrix\nB = I + dt * M                     # Linear system solved at each time step\ns = Mc_inv * q                     # RHS\n\nBinv = SolverLU(B)                 # Define inverse of B using solver"
      ]
    },
    {
      "cell_type": "markdown",
      "metadata": {},
      "source": [
        "Perform backward Euler at each time step and plot at specified times.\n\n"
      ]
    },
    {
      "cell_type": "code",
      "execution_count": null,
      "metadata": {
        "collapsed": false
      },
      "outputs": [],
      "source": [
        "fig = plt.figure(figsize=(15, 10))\nax = 6 * [None]\nn = 0\n\nfor ii in range(300):\n\n    p = Binv * (p + s)\n\n    if ii + 1 in (1, 25, 50, 100, 200, 300):\n        ax[n] = fig.add_subplot(2, 3, n+1)\n        mesh.plotImage(p, v_type=\"CC\", ax=ax[n], pcolor_opts={\"cmap\": \"gist_heat_r\"})\n        title_str = \"p at t = \" + str((ii + 1) * dt) + \" s\"\n        ax[n].set_title(title_str)\n        n = n + 1\n\nplt.tight_layout()"
      ]
    }
  ],
  "metadata": {
    "kernelspec": {
      "display_name": "Python 3",
      "language": "python",
      "name": "python3"
    },
    "language_info": {
      "codemirror_mode": {
        "name": "ipython",
        "version": 3
      },
      "file_extension": ".py",
      "mimetype": "text/x-python",
      "name": "python",
      "nbconvert_exporter": "python",
      "pygments_lexer": "ipython3",
      "version": "3.7.4"
    }
  },
  "nbformat": 4,
  "nbformat_minor": 0
}
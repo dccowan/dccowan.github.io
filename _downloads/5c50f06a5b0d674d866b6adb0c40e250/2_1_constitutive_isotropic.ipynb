{
  "cells": [
    {
      "cell_type": "code",
      "execution_count": null,
      "metadata": {
        "collapsed": false
      },
      "outputs": [],
      "source": [
        "%matplotlib inline"
      ]
    },
    {
      "cell_type": "markdown",
      "metadata": {},
      "source": [
        "\n# Constitutive Relations (Isotropic)\n\nA constitutive relationship quantifies the response of a material to an external stimulus.\nExamples include Ohm's law and Hooke's law.\nWhen the constitutive relationship is isotropic, the relationship\nis between quantities is may be defined by a constant.\n\nWhen solving PDEs using the finite volume approach, inner products may\ncontain constitutive relations. In this tutorial, you will learn how to:\n\n    - construct the inner-product matrix in the case of isotropic constitutive relations\n    - construct the inverse of the inner-product matrix\n    - work with constitutive relations defined by the reciprocal of a parameter\n"
      ]
    },
    {
      "cell_type": "markdown",
      "metadata": {},
      "source": [
        "## Background Theory\n\nLet $\\vec{v}$ and $\\vec{w}$ be two physically related\nquantities. If their relationship is isotropic (defined by a constant\n$\\sigma$), then the constitutive relation is given by:\n\n\\begin{align}\\vec{v} = \\sigma \\vec{w}\\end{align}\n\nThe inner product between a vector $\\vec{u}$ and the right-hand side\nof this expression is given by:\n\n\\begin{align}(\\vec{u}, \\sigma \\vec{w} ) = \\int_\\Omega \\vec{v} \\cdot \\sigma \\vec{w} \\, dv\\end{align}\n\nAssuming the constitutive relationship is spatially invariant within each\ncell of a mesh, the inner product can be approximated numerically using\nan *inner-product matrix* such that:\n\n\\begin{align}(\\vec{u}, \\sigma \\vec{w} ) \\approx \\mathbf{u^T M w}\\end{align}\n\nwhere the inner product matrix $\\mathbf{M}$ depends on:\n\n    1. the dimensions and discretization of the mesh\n    2. where discrete variables $\\mathbf{u}$ and $\\mathbf{w}$ live\n    3. the spatial distribution of the property $\\sigma$\n\n\n\n"
      ]
    },
    {
      "cell_type": "markdown",
      "metadata": {},
      "source": [
        "## Import Packages\n\n\n"
      ]
    },
    {
      "cell_type": "code",
      "execution_count": null,
      "metadata": {
        "collapsed": false
      },
      "outputs": [],
      "source": [
        "from discretize import TensorMesh\nimport numpy as np\nimport matplotlib.pyplot as plt\n\n# sphinx_gallery_thumbnail_number = 1"
      ]
    },
    {
      "cell_type": "markdown",
      "metadata": {},
      "source": [
        "## Inner Product for a Single Cell in 2D and 3D\n\nHere we construct the inner product matrices for a single cell in 2D and in 3D.\nWhen approximating the inner product according to the finite volume approach,\nthe constitutive parameters are defined at cell centers; even if the\nfields/fluxes live at cell edges/faces.\n\n\n"
      ]
    },
    {
      "cell_type": "code",
      "execution_count": null,
      "metadata": {
        "collapsed": false
      },
      "outputs": [],
      "source": [
        "# Create a single 3D cell\nh = np.ones(1)\nmesh_2d = TensorMesh([h, h])\nmesh_3d = TensorMesh([h, h, h])\n\n# Constant defining the constitutive relation for the cell\nsig = 10\nsig = np.array([sig])\n\n# Inner products for a single 2D cell\nMf_2d = mesh_2d.get_face_inner_product(sig)  # Faces inner product matrix\nMe_2d = mesh_2d.get_edge_inner_product(sig)  # Edges inner product matrix\n\n# Inner products for a single 2D cell\nMf_3d = mesh_3d.get_face_inner_product(sig)  # Faces inner product matrix\nMe_3d = mesh_3d.get_edge_inner_product(sig)  # Edges inner product matrix\n\n# Plotting matrix entries\nfig = plt.figure(figsize=(9, 9))\n\nax11 = fig.add_subplot(221)\nax11.imshow(Mf_2d.todense())\nax11.set_title(\"Faces inner product (2D)\")\n\nax12 = fig.add_subplot(222)\nax12.imshow(Me_2d.todense())\nax12.set_title(\"Edges inner product (2D)\")\n\nax21 = fig.add_subplot(223)\nax21.imshow(Mf_3d.todense())\nax21.set_title(\"Faces inner product (3D)\")\n\nax22 = fig.add_subplot(224)\nax22.imshow(Me_3d.todense())\nax22.set_title(\"Edges inner product (3D)\")"
      ]
    },
    {
      "cell_type": "markdown",
      "metadata": {},
      "source": [
        "## Spatially Variant Parameters\n\nIn practice, the parameter $\\sigma$ will vary spatially.\nIn this case, we define the parameter $\\sigma$ for each cell.\nWhen creating the inner product matrix, we enter these parameters as\na numpy array. This is demonstrated below. Properties of the resulting\ninner product matrices are discussed.\n\n\n"
      ]
    },
    {
      "cell_type": "code",
      "execution_count": null,
      "metadata": {
        "collapsed": false
      },
      "outputs": [],
      "source": [
        "# Create a small 3D mesh\nh = np.ones(5)\nmesh = TensorMesh([h, h, h])\n\n# Define contitutive relation for each cell\nsig = np.random.rand(mesh.nC)\n\n# Define inner product matrices\nMe = mesh.get_edge_inner_product(sig)  # Edges inner product matrix\nMf = mesh.get_face_inner_product(sig)  # Faces inner product matrix\n\n# Properties of inner product matricies\nprint(\"\\n EDGE INNER PRODUCT MATRIX\")\nprint(\"- Number of edges              :\", mesh.nE)\nprint(\"- Dimensions of operator       :\", str(mesh.nE), \"x\", str(mesh.nE))\nprint(\"- Number non-zero (isotropic)  :\", str(Me.nnz), \"\\n\")\n\nprint(\"\\n FACE INNER PRODUCT MATRIX\")\nprint(\"- Number of faces              :\", mesh.nF)\nprint(\"- Dimensions of operator       :\", str(mesh.nF), \"x\", str(mesh.nF))\nprint(\"- Number non-zero (isotropic)  :\", str(Mf.nnz), \"\\n\")"
      ]
    },
    {
      "cell_type": "markdown",
      "metadata": {},
      "source": [
        "## Inverse of the Inner Product Matrix\n\nYou may need to compute the inverse of the inner product matrix for \nconstitutive relationships. Here we show how to call this\nusing the *invert_matrix* keyword argument.\nFor the isotropic case, the inner product matrix is diagonal.\nAs a result, its inverse can be easily formed. \n\nWe validate the accuracy for the inverse of the inner product matrix\nfor edges and faces by computing the following L2-norm for each:\n\n\\begin{align}\\| \\mathbf{u - M^{-1} M u} \\|^2\\end{align}\n\nwhich we expect to be small.\n\n\n"
      ]
    },
    {
      "cell_type": "code",
      "execution_count": null,
      "metadata": {
        "collapsed": false
      },
      "outputs": [],
      "source": [
        "# Create a small 3D mesh\nh = np.ones(5)\nmesh = TensorMesh([h, h, h])\n\n# Define the constitutive relationship for each cell\nsig = np.random.rand(mesh.nC)\n\n# Inner product and inverse at edges\nMe = mesh.get_edge_inner_product(sig)\nMe_inv = mesh.get_edge_inner_product(sig, invert_matrix=True)\n\n# Inner product and inverse at faces\nMf = mesh.get_face_inner_product(sig)\nMf_inv = mesh.get_face_inner_product(sig, invert_matrix=True)\n\n# Generate some random vectors\nvec_e = np.random.rand(mesh.nE)\nvec_f = np.random.rand(mesh.nF)\n\n# Compute norms\nnorm_e = np.linalg.norm(vec_e - Me_inv * Me * vec_e)\nnorm_f = np.linalg.norm(vec_f - Mf_inv * Mf * vec_f)\n\n# Verify accuracy\nprint(\"ACCURACY\")\nprint(\"Norm for edges:  \", norm_e)\nprint(\"Norm for faces:  \", norm_f)"
      ]
    }
  ],
  "metadata": {
    "kernelspec": {
      "display_name": "Python 3",
      "language": "python",
      "name": "python3"
    },
    "language_info": {
      "codemirror_mode": {
        "name": "ipython",
        "version": 3
      },
      "file_extension": ".py",
      "mimetype": "text/x-python",
      "name": "python",
      "nbconvert_exporter": "python",
      "pygments_lexer": "ipython3",
      "version": "3.7.4"
    }
  },
  "nbformat": 4,
  "nbformat_minor": 0
}
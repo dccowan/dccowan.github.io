{
  "cells": [
    {
      "cell_type": "code",
      "execution_count": null,
      "metadata": {
        "collapsed": false
      },
      "outputs": [],
      "source": [
        "%matplotlib inline"
      ]
    },
    {
      "cell_type": "markdown",
      "metadata": {},
      "source": [
        "\n# 2D Poisson Equation with Zero Neumann Condition (Cell Centered Formulation)\n\nHere we use the *discretize* package to approximate the solution to a 2D\nPoisson equation with zero Neumann boundary conditions.\nFor our tutorial, we consider the free-space electrostatic problem\nfor 2 electric point charges of opposite sign.\nThis tutorial focusses on:\n\n    - approximating basic types of inner products\n    - imposing the boundary condition by approximating a surface integral\n    - basic disretization of point sources\n"
      ]
    },
    {
      "cell_type": "markdown",
      "metadata": {},
      "source": [
        "## 1. Formulating the Problem\n\nFor this tutorial, we would like to compute the electric potential ($\\phi$)\nand electric fields ($\\mathbf{e}$) in 2D that result from\na distribution of point charges in a vacuum. Given the electric permittiviy\nis uniform within the domain and equal to the permittivity of free space, the physics\nare defined by a 2D Poisson equation:\n\n\\begin{align}\\nabla^2 \\phi = - \\frac{\\rho}{\\epsilon_0}\\end{align}\n\nwhere $\\rho$ is the charge density and $\\epsilon_0$ is\nthe permittivity of free space. A more practical\nformulation for applying the finite volume method is to \ndefine the problem as two fist-order differential equations.\nStarting with Gauss's law and Faraday's law in the case of\nelectrostatics (:cite:`griffiths1999`):\n\n\\begin{align}&\\nabla \\cdot \\vec{e} = \\frac{\\rho}{\\epsilon_0} \\\\\n    &\\nabla \\times \\vec{e} = \\boldsymbol{0} \\;\\;\\; \\Rightarrow \\;\\;\\; \\vec{e} = -\\nabla \\phi \\\\\n    &\\textrm{s.t.} \\;\\;\\; \\frac{\\partial \\phi}{\\partial n} \\, \\Big |_{\\partial \\Omega} = - \\hat{n} \\cdot \\vec{e} \\, \\Big |_{\\partial \\Omega} = 0\\end{align}\n\nwhere the Neumann boundary condition on $\\phi$ implies no electric flux leaves the system.\nFor 2 point charges of equal and opposite sign, the charge density is given by:\n\n\\begin{align}\\rho = \\rho_0 \\big [ \\delta ( \\boldsymbol{r_+}) - \\delta (\\boldsymbol{r_-} ) \\big ]\n    :label: tutorial_eq_1_2_1\\end{align}\n\nwhere $\\rho_0$ is a constant.\nWe chose this charge distribution so that we would not violate the boundary conditions.\nSince the total electric charge is zero, the net flux leaving the system is zero.\n\n\n"
      ]
    },
    {
      "cell_type": "markdown",
      "metadata": {},
      "source": [
        "## 2. Taking Inner Products\n\nTo solve this problem numerically, we take the inner product\nof each differential equation with an appropriate test function.\nWhere $\\psi$ is a scalar test function and $\\vec{u}$ is a\nvector test function:\n\n\\begin{align}\\int_\\Omega \\psi (\\nabla \\cdot \\vec{e}) \\, dv = \\frac{1}{\\epsilon_0} \\int_\\Omega \\psi \\rho \\, dv\n    :label: tutorial_eq_1_2_3\\end{align}\n\nand\n\n\\begin{align}\\int_\\Omega \\vec{u} \\cdot \\vec{e} \\, dv = - \\int_\\Omega \\vec{u} \\cdot (\\nabla \\phi ) \\, dv\n    :label: tutorial_eq_1_2_4\\end{align}\n\nIn the case of Gauss' law, we have a volume integral containing the Dirac delta function.\nThus expression :eq:`tutorial_eq_1_2_3` becomes:\n\n\\begin{align}\\int_\\Omega \\psi (\\nabla \\cdot \\vec{e}) \\, dv = \\frac{1}{\\epsilon_0} \\psi \\, q\n    :label: tutorial_eq_1_2_5\\end{align}\n\nwhere $q$ represents an integrated charge density.\n\n\n"
      ]
    },
    {
      "cell_type": "markdown",
      "metadata": {},
      "source": [
        "## 3. Discretizing the Inner Products\n\nHere, we let $\\boldsymbol{\\phi}$ be the discrete representation\nof the electic potential $\\phi$ at cell centers. Since $\\vec{e} = -\\nabla \\phi$,\nit is natural for discrete representation of the electric field $\\boldsymbol{e}$\nto live on the faces; implying the discrete divergence operator maps from faces to cell centers.\n\nIn tutorials for inner products, we showed how to approximate most classes\nof inner products. Since the numerical divergence of $\\boldsymbol{e}$ is\nmapped to cell centers, the discrete representation of the test function $\\boldsymbol{\\psi}$\nand the integrated charge density $\\boldsymbol{q}$ must live at cell centers.\n\nApproximating the inner products in expression :eq:`tutorial_eq_1_2_5`\naccording to the finite volume method, we obtain:\n\n\\begin{align}\\boldsymbol{\\psi^T M_c D e} = \\frac{1}{\\epsilon_0} \\boldsymbol{\\psi^T q}\n    :label: tutorial_eq_1_2_10\\end{align}\n\nwhere\n\n    - $\\boldsymbol{M_c}$ is the inner product matrix at cell centers,\n    - $\\boldsymbol{D}$ is the discrete divergence operator\n    - $\\boldsymbol{q}$ is a discrete representation for the integrated charge density for each cell\n\nThe easiest way to discretize the source is to let $\\boldsymbol{q_i}=\\rho_0$ at the nearest\ncell center to the positive charge and to let $\\boldsymbol{q_i}=-\\rho_0$ at\nthe nearest cell center to the negative charge. The value is zero for all other cells.\n\nNow we approximate the inner product in expression :eq:`tutorial_eq_1_2_4`.\nSince $\\boldsymbol{\\phi}$ lives at cell centers, it would be natural for the\ndiscrete gradient operator to map from centers to faces. Unfortunately for \nboundary faces, this would require knowledge of the electric potential at cell\ncenters outside our domain.\nFor the right-hand side, we must use the identity\n$\\vec{u} \\cdot \\nabla \\phi = \\nabla \\cdot \\phi\\vec{u} - \\phi \\nabla \\cdot \\vec{u}$\nand apply the divergence theorem such that expression :eq:`tutorial_eq_1_2_4` becomes:\n\n\\begin{align}\\int_\\Omega \\vec{u} \\cdot \\vec{e} \\, dv = \\int_\\Omega \\phi \\nabla \\cdot \\vec{u} \\, dv - \\oint_{\\partial \\Omega} \\phi \\hat{n} \\cdot \\vec{u} \\, da\n    :label: tutorial_eq_1_2_11\\end{align}\n\nAccording to expression :eq:`tutorial_eq_1_2_1`,\n$- \\frac{\\partial \\phi}{\\partial n} = 0$ on the boundaries.\nTo accurately compute the electric potentials at cell centers,\nwe must implement the boundary conditions by approximating the surface integral.\nIn this case, expression :eq:`tutorial_eq_1_2_11` is approximated by:\n\n\\begin{align}\\boldsymbol{u^T M_f \\, e} = \\boldsymbol{u^T D^T M_c \\, \\phi} - \\boldsymbol{u^T B \\, \\phi} = - \\boldsymbol{\\tilde{G} \\, \\phi}\n    :label: tutorial_eq_1_2_12\\end{align}\n\nwhere\n\n    - $\\boldsymbol{M_c}$ is the inner product matrix at cell centers\n    - $\\boldsymbol{M_f}$ is the inner product matrix at faces\n    - $\\boldsymbol{D}$ is the discrete divergence operator\n    - $\\boldsymbol{B}$ is a sparse matrix that imposes the Neumann boundary condition\n    - $\\boldsymbol{\\tilde{G}} = - \\boldsymbol{D^T M_c} + \\boldsymbol{B}$ acts as a modified gradient operator with boundary conditions included\n\n\n"
      ]
    },
    {
      "cell_type": "markdown",
      "metadata": {},
      "source": [
        "## 4. Solvable Linear System\n\nBy combining the discrete representations from expressions\n:eq:`tutorial_eq_1_2_10` and :eq:`tutorial_eq_1_2_12` and factoring like-terms\nwe obtain:\n\n\\begin{align}- \\boldsymbol{M_c D M_f^{-1} \\tilde{G} \\, \\phi} = \\frac{1}{\\epsilon_0} \\boldsymbol{q}\n    :label: tutorial_eq_1_2_13\\end{align}\n\nOnce the electric potential at cell centers has been computed, the electric field on\nthe faces can be computed using expression :eq:`tutorial_eq_1_2_12`:\n\n\\begin{align}\\boldsymbol{e} = - \\boldsymbol{M_f^{-1} \\tilde{G} \\, \\phi}\\end{align}\n\n\n"
      ]
    },
    {
      "cell_type": "markdown",
      "metadata": {},
      "source": [
        "## 5. Implement Discretize\n\n"
      ]
    },
    {
      "cell_type": "markdown",
      "metadata": {},
      "source": [
        "Import the necessary packages for the tutorial.\n\n"
      ]
    },
    {
      "cell_type": "code",
      "execution_count": null,
      "metadata": {
        "collapsed": false
      },
      "outputs": [],
      "source": [
        "from discretize import TensorMesh\nfrom pymatsolver import SolverLU\nimport matplotlib.pyplot as plt\nimport matplotlib as mpl\nimport numpy as np\nfrom discretize.utils import sdiag\n\nmpl.rcParams.update({'font.size':14})"
      ]
    },
    {
      "cell_type": "markdown",
      "metadata": {},
      "source": [
        "Construct a mesh.\n\n"
      ]
    },
    {
      "cell_type": "code",
      "execution_count": null,
      "metadata": {
        "collapsed": false
      },
      "outputs": [],
      "source": [
        "h = 2*np.ones(51)\nmesh = TensorMesh([h, h], \"CC\")"
      ]
    },
    {
      "cell_type": "markdown",
      "metadata": {},
      "source": [
        "Construct the necessary discrete operators and inner product matrices.\n\n"
      ]
    },
    {
      "cell_type": "code",
      "execution_count": null,
      "metadata": {
        "collapsed": false
      },
      "outputs": [],
      "source": [
        "DIV = mesh.faceDiv                                        # discrete divergence operator\nMc = sdiag(mesh.vol)                                      # cell center inner product matrix\nMf_inv = mesh.get_face_inner_product(invert_matrix=True)  # inverse of face inner product matrix\n\nmesh.set_cell_gradient_BC(['neumann','neumann'])  # Set zero Neumann condition on gradient\nG = mesh.cell_gradient                            # Modified gradient operator G = -D^T * Mc + B"
      ]
    },
    {
      "cell_type": "markdown",
      "metadata": {},
      "source": [
        "Form the linear system of equations to be solved.\n\n"
      ]
    },
    {
      "cell_type": "code",
      "execution_count": null,
      "metadata": {
        "collapsed": false
      },
      "outputs": [],
      "source": [
        "A = - Mc * DIV * Mf_inv * G"
      ]
    },
    {
      "cell_type": "markdown",
      "metadata": {},
      "source": [
        "Construct the right-hand side.\n\n"
      ]
    },
    {
      "cell_type": "code",
      "execution_count": null,
      "metadata": {
        "collapsed": false
      },
      "outputs": [],
      "source": [
        "xycc = mesh.gridCC\nkneg = (xycc[:, 0] == -10) & (xycc[:, 1] == 0)      # -ve charge at (-10, 0)\nkpos = (xycc[:, 0] == 10) & (xycc[:, 1] == 0)       # +ve charge at (10, 0)\n\nrho = np.zeros(mesh.nC)\nrho[kneg] = -1\nrho[kpos] = 1"
      ]
    },
    {
      "cell_type": "markdown",
      "metadata": {},
      "source": [
        "Solve for the electric potential at cell centers and the electric field\non the faces.\n\n"
      ]
    },
    {
      "cell_type": "code",
      "execution_count": null,
      "metadata": {
        "collapsed": false
      },
      "outputs": [],
      "source": [
        "AinvM = SolverLU(A)     # Define the inverse of A using direct solver\nphi = AinvM * rho       # Compute electric potential at cell centers\nE = - Mf_inv * G * phi  # Compute electric field on faces"
      ]
    },
    {
      "cell_type": "markdown",
      "metadata": {},
      "source": [
        "Plot the source term, electric potential and electric field.\n\n"
      ]
    },
    {
      "cell_type": "code",
      "execution_count": null,
      "metadata": {
        "collapsed": false
      },
      "outputs": [],
      "source": [
        "fig = plt.figure(figsize=(12, 4))\n\nax1 = fig.add_subplot(131)\nmesh.plotImage(rho, v_type=\"CC\", ax=ax1)\nax1.set_title(\"Charge Density\")\n\nax2 = fig.add_subplot(132)\nmesh.plotImage(phi, v_type=\"CC\", ax=ax2)\nax2.set_title(\"Electric Potential\")\n\nax3 = fig.add_subplot(133)\nmesh.plotImage(\n    E, ax=ax3, v_type=\"F\", view=\"vec\", stream_opts={\"color\": \"w\", \"density\": 1.0}\n)\nax3.set_title(\"Electric Fields\")\n\nplt.tight_layout()"
      ]
    }
  ],
  "metadata": {
    "kernelspec": {
      "display_name": "Python 3",
      "language": "python",
      "name": "python3"
    },
    "language_info": {
      "codemirror_mode": {
        "name": "ipython",
        "version": 3
      },
      "file_extension": ".py",
      "mimetype": "text/x-python",
      "name": "python",
      "nbconvert_exporter": "python",
      "pygments_lexer": "ipython3",
      "version": "3.7.4"
    }
  },
  "nbformat": 4,
  "nbformat_minor": 0
}
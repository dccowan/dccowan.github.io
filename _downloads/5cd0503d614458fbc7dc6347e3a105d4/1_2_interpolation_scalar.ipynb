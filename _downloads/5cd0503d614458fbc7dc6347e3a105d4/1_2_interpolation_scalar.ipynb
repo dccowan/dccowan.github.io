{
  "cells": [
    {
      "cell_type": "code",
      "execution_count": null,
      "metadata": {
        "collapsed": false
      },
      "outputs": [],
      "source": [
        "%matplotlib inline"
      ]
    },
    {
      "cell_type": "markdown",
      "metadata": {},
      "source": [
        "\n# Interpolating and Averaging Scalar Quantities in 2D and 3D\n\nInterpolation is used when a discrete quantity is known on the mesh (centers, nodes, edges or faces),\nbut we would like to estimate its value at locations within the continuous domain.\nFor any mesh type, *discretize* allows the user to construct a sparse interpolation matrix\nfor a corresponding set of locations.\n\nIn *discretize*, averaging matrices are constructed when a discrete quantity must be mapped\nbetween centers, nodes, edges or faces.\nAveraging matrices are a property of the mesh and are constructed when called.\n\nIn this tutorial, we demonstrate:\n\n        - how to construct interpolation and averaging matrices\n        - how to apply the interpolation and averaging to scalar functions\n    \n"
      ]
    },
    {
      "cell_type": "markdown",
      "metadata": {},
      "source": [
        "## Background Theory\n\nWe will begin by presenting the theory for 2D interpolation, then extend the\ntheory to cover 3D interpolation. In 2D, the location of the interpolated\nquantity lies either within 4 nodes or cell centers.\n\n.. figure:: ../../images/interpolation_2d.png\n    :align: center\n    :width: 300\n\n    A tensor mesh in 2D denoting interpolation from nodes (blue) and cell centers (red).\n\nLet $(x^*, y^*)$ be within a cell whose nodes are located at\n$(x_1, y_1)$, $(x_2, y_1)$, $(x_1, y_2)$ and $(x_2, y_2)$.\nIf we define $u_0 = u(x_1, y_1)$, $u_1 = u(x_2, y_1)$, $u_2 = u(x_1, y_2)$ and\n$u_3 = u(x_2, y_2)$, then\n\n\\begin{align}u(x^*, y^*) \\approx a_0 u_0 + a_1 u_1 + a_2 u_2 + a_3 u_3\\end{align}\n\nwhere $a_0$, $a_1$, $a_2$ and $a_3$ are coefficients determined from equations\ngoverning `bilinear interpolation <https://en.wikipedia.org/wiki/Bilinear_interpolation>`__ .\nThese coefficients represent the 4 non-zero values within the corresponding row of the interpolation matrix $\\boldsymbol{P}$.\n\nWhere the values of $u(x,y)$ at all nodes are organized into a single vector $\\boldsymbol{u}$,\nand $\\boldsymbol{u^*}$ is a vector containing the approximations of $u(x,y)$ at an arbitrary number of locations:\n\n\\begin{align}\\boldsymbol{u^*} \\approx \\boldsymbol{P\\, u}\n    :label: operators_interpolation_general\\end{align}\n\nIn each row of $\\boldsymbol{P}$, the position of the non-zero elements $a_0$, $a_1$, $a_2$ and $a_3$\ncorresponds to the indecies of the 4 nodes comprising a specific cell.\nOnce again the shape of $\\boldsymbol{P}$ is the number of locations by the number of nodes.\n\n**What if the function is defined at cell centers?**\n\nA similar result can be obtained by interpolating a function define at cell centers.\nIn this case, we let $(x^*, y^*)$ lie within 4 cell centers located at\n$(\\bar{x}_1, \\bar{y}_1)$, $(\\bar{x}_2, \\bar{y}_1)$, $(\\bar{x}_1, \\bar{y}_2)$ and $(\\bar{x}_2, \\bar{y}_2)$.\n\n\\begin{align}u(x^*, y^*) \\approx a_0 \\bar{u}_0 + a_1 \\bar{u}_1 + a_2 \\bar{u}_2 + a_3 \\bar{u}_3\\end{align}\n\nThe resulting interpolation is defined similar to expression :eq:`operators_interpolation_general`.\nHowever the size of the resulting interpolation matrix is the number of locations by number of cells.\n\n**What about for 3D case?**\n\nThe derivation for the 3D case is effectively the same, except 8 node or center locations must\nbe used in the interpolation. Thus:\n\n\\begin{align}u(x^*, y^*, z^*) \\approx \\sum_{k=0}^7 a_k u_k\\end{align}\n\nThis creates an interpolation matrix $\\boldsymbol{P}$ with 8 non-zero entries per row.\nTo learn how to compute the value of the coefficients $a_k$,\nsee `trilinear interpolation (3D) <https://en.wikipedia.org/wiki/Trilinear_interpolation>`__\n\n\n"
      ]
    },
    {
      "cell_type": "markdown",
      "metadata": {},
      "source": [
        "## Import Packages\n\n\n"
      ]
    },
    {
      "cell_type": "code",
      "execution_count": null,
      "metadata": {
        "collapsed": false
      },
      "outputs": [],
      "source": [
        "from discretize import TensorMesh, TreeMesh\nfrom discretize.utils import refine_tree_xyz\nimport matplotlib as mpl\nimport matplotlib.pyplot as plt\nimport numpy as np\nmpl.rcParams.update({'font.size':14})\n\n# sphinx_gallery_thumbnail_number = 1"
      ]
    },
    {
      "cell_type": "markdown",
      "metadata": {},
      "source": [
        "## Constructing and Applying a 2D/3D Interpolation Matrix\n\nHere we discretize a scalar quantity to live at cell centers of a tree mesh.\nWe then use the interpolation matrix to approximate the values of the\nscalar function along a profile. The approach for 2D and 3D meshes\nare essentially the same.\n\n\n"
      ]
    },
    {
      "cell_type": "code",
      "execution_count": null,
      "metadata": {
        "collapsed": false
      },
      "outputs": [],
      "source": [
        "# Construct a tree mesh\nh = 2* np.ones(128)\nmesh = TreeMesh([h, h], x0=\"CC\")\n\nxy = np.c_[0., 0.]\nmesh = refine_tree_xyz(mesh, xy, octree_levels=[8, 8, 8], method=\"radial\", finalize=False)\nmesh.finalize()  # Must finalize tree mesh before use\n\n# Define the points along the profile\nd = np.linspace(-100, 100, 21)  # distance along profile\nphi = 35.                       # heading of profile\nxp = d*np.cos(np.pi*phi/180.)\nyp = d*np.sin(np.pi*phi/180.)\n\n# Define a continuous 2D scalar function\ndef fun(x, y):\n    return np.exp(-(x ** 2 + y ** 2) / 40 ** 2)\n\n# Get all cell center locations from the mesh and evaluate function\n# at the centers. Also compute true value at interpolation locations\ncenters = mesh.cell_centers\nv_centers = fun(centers[:, 0], centers[:, 1])\nv_true = fun(xp, yp)\n\n# Create interpolation matrix and apply. When creating the interpolation matrix,\n# we must define where the discrete quantity lives and where it is being\n# interpolated to.\nlocations = np.c_[xp, yp]\nP = mesh.get_interpolation_matrix(locations, 'CC')\nv_interp = P * v_centers\n\n# Plot mesh and profile line\nfig = plt.figure(figsize=(14, 4.5))\n\nax1 = fig.add_axes([0.1, 0.15, 0.25, 0.75])\nmesh.plot_grid(ax=ax1)\nax1.plot(xp, yp, 'ko')\nax1.set_xlim(np.min(mesh.nodes_x), np.max(mesh.nodes_x))\nax1.set_ylim(np.min(mesh.nodes_y), np.max(mesh.nodes_y))\nax1.set_xlabel('X')\nax1.set_ylabel('Y')\nax1.set_title('Tree mesh and profile line')\n\nax2 = fig.add_axes([0.43, 0.15, 0.5, 0.75])\nax2.plot(\n    d, v_true, \"k-\",\n    d, v_interp, \"bo\",\n    d, np.c_[v_true - v_interp], \"ro\",\n)\nax2.set_ylim([-0.1, 1.3])\nax2.set_title(\"Comparison plot\")\nax2.set_xlabel(\"Position along profile\")\nax2.legend((\n    \"true value\", \"interpolated from centers\", \"error\"\n))\n\nfig.show()"
      ]
    },
    {
      "cell_type": "markdown",
      "metadata": {},
      "source": [
        "## Constructing and Applying a 2D Averaging Matrix\n\nHere we compute a scalar function at cell centers.\nWe then create an averaging operator to approximated the function\nat the faces. We choose to define a scalar function that is \nstrongly discontinuous in some places\nto demonstrate how the averaging operator will smooth out\ndiscontinuities.\n\n\n"
      ]
    },
    {
      "cell_type": "code",
      "execution_count": null,
      "metadata": {
        "collapsed": false
      },
      "outputs": [],
      "source": [
        "# Create mesh and obtain averaging operators\nh = 2 * np.ones(50)\nmesh = TensorMesh([h, h], x0=\"CC\")\n\n# Create a variable on cell centers\nv = 100.0 * np.ones(mesh.nC)\nxy = mesh.gridCC\nv[(xy[:, 1] > 0)] = 0.0\nv[(xy[:, 1] < -10.0) & (xy[:, 0] > -10.0) & (xy[:, 0] < 10.0)] = 50.0\n\n# Create averaging operator\nA = mesh.average_cell_to_face  # cell centers to faces\n\n# Apply averaging operator\nu = A*v\n\n# Plot\nfig = plt.figure(figsize=(11, 5))\nax1 = fig.add_subplot(121)\nmesh.plot_image(v, ax=ax1)\nax1.set_title(\"Variable at cell centers\")\n\nax2 = fig.add_subplot(122)\nmesh.plot_image(u, ax=ax2, v_type=\"F\")\nax2.set_title(\"Averaged to faces\")\n\nfig.show()"
      ]
    }
  ],
  "metadata": {
    "kernelspec": {
      "display_name": "Python 3",
      "language": "python",
      "name": "python3"
    },
    "language_info": {
      "codemirror_mode": {
        "name": "ipython",
        "version": 3
      },
      "file_extension": ".py",
      "mimetype": "text/x-python",
      "name": "python",
      "nbconvert_exporter": "python",
      "pygments_lexer": "ipython3",
      "version": "3.7.4"
    }
  },
  "nbformat": 4,
  "nbformat_minor": 0
}
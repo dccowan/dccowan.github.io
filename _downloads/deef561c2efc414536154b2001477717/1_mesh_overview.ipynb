{
  "cells": [
    {
      "cell_type": "code",
      "execution_count": null,
      "metadata": {
        "collapsed": false
      },
      "outputs": [],
      "source": [
        "%matplotlib inline"
      ]
    },
    {
      "cell_type": "markdown",
      "metadata": {},
      "source": [
        "\n# Meshes Overview\n\nHere we provide a basic overview of the meshes supported by *discretize*\nand define some useful terminology.\nDetailed tutorials covering the construction and properties of each mesh type are found in\nseparate tutorials.\n"
      ]
    },
    {
      "cell_type": "markdown",
      "metadata": {},
      "source": [
        "## Meshes Supported by Discretize\n\nA multitude of mesh types are supported by the *discretize* package.\nEach mesh type has its advantages and disadvantages when being considered to solve\ndifferential equations with the finite volume approach.\nThe user should consider the dimension (1D, 2D, 3D) and\nany spatial symmetry in the PDE when choosing a mesh type.\nMesh types supported by *discretize* include:\n\n    - **Tensor Meshes:** A mesh where the grid locations are organized according to tensor products\n    - **Tree Meshes:** A mesh where the dimensions of cells are $2^n$ larger than the dimension of the smallest cell size\n    - **Curvilinear Meshes:** A tensor mesh where the axes are curvilinear\n    - **Cylindrical Meshes:** A pseudo-2D mesh for solving 3D problems with perfect symmetry in the radial direction\n\n.. figure:: ../../images/mesh_types.png\n    :align: center\n    :width: 700\n\n    Examples of different mesh types supported by the *discretize* package.\n\n\n"
      ]
    },
    {
      "cell_type": "markdown",
      "metadata": {},
      "source": [
        "## Cells and Where Variables Live\n\nThe small volumes within the mesh are called *cells*.\nIn *discretize*, we use a staggered mimetic finite volume approach :cite:`haber2014,HymanShashkov1999`.\nThis approach requires discrete variables to live at cell-centers, nodes, faces, or edges.\nBelow, we illustrate the valid locations for discrete quantities for a single cell where:\n\n  - **Centers:** center locations of each cell\n  - **Nodes:** locations of intersection between grid lines defining the mesh\n  - **X, Y and Z edges:** edges whose tangent lines are parallel to the X, Y and Z axes, respectively\n  - **X, Y and Z faces:** faces which are normal to the orientation of the X, Y and Z axes, respectively\n\n\n.. figure:: ../../images/cell_locations.png\n    :align: center\n    :width: 700\n\n    Locations of centers, nodes, faces and edges for 2D cells (left) and 3D cells (right).\n\nBelow, we create a 2D tensor mesh and plot a visual representation of where discretized\nquantities are able to live.\n\n\n"
      ]
    },
    {
      "cell_type": "code",
      "execution_count": null,
      "metadata": {
        "collapsed": false
      },
      "outputs": [],
      "source": [
        "import numpy as np\nimport discretize\nimport matplotlib.pyplot as plt\nplt.rcParams.update({'font.size':14})\n\n# sphinx_gallery_thumbnail_number = 1\n\nhx = np.r_[3, 1, 1, 3]\nhy = np.r_[3, 2, 1, 1, 1, 1, 2, 3]\ntensor_mesh = discretize.TensorMesh([hx, hy])\n\n# Plot\nfig, axes = plt.subplots(1, 3, figsize=(14.5, 5))\ntensor_mesh.plot_grid(ax=axes[0], nodes=True, centers=True)\naxes[0].legend((\"Nodes\", \"Centers\"))\naxes[0].set_title(\"Nodes and cell centers\")\n\ntensor_mesh.plot_grid(ax=axes[1], edges=True)\naxes[1].legend((\"X-edges\", \"Y-edges\"))\naxes[1].set_title(\"Cell edges\")\n\ntensor_mesh.plot_grid(ax=axes[2], faces=True)\naxes[2].legend((\"X-faces\", \"Y-faces\"))\naxes[2].set_title(\"Cell faces\")"
      ]
    }
  ],
  "metadata": {
    "kernelspec": {
      "display_name": "Python 3",
      "language": "python",
      "name": "python3"
    },
    "language_info": {
      "codemirror_mode": {
        "name": "ipython",
        "version": 3
      },
      "file_extension": ".py",
      "mimetype": "text/x-python",
      "name": "python",
      "nbconvert_exporter": "python",
      "pygments_lexer": "ipython3",
      "version": "3.7.4"
    }
  },
  "nbformat": 4,
  "nbformat_minor": 0
}
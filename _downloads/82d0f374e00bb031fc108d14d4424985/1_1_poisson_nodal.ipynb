{
  "cells": [
    {
      "cell_type": "code",
      "execution_count": null,
      "metadata": {
        "collapsed": false
      },
      "outputs": [],
      "source": [
        "%matplotlib inline"
      ]
    },
    {
      "cell_type": "markdown",
      "metadata": {},
      "source": [
        "\n# 2D Poisson Equation with Zero Neumann Condition (Nodal Formulation)\n\nHere we use the *discretize* package to approximate the solution to a 2D\nPoisson equation with zero Neumann boundary conditions.\nFor our tutorial, we consider the free-space electrostatic problem\nfor 2 electric point charges of opposite sign.\nThis tutorial focusses on:\n\n    - approximating basic types of inner products\n    - discretization which imposes the boundary conditions naturally\n    - basic disretization of point sources\n"
      ]
    },
    {
      "cell_type": "markdown",
      "metadata": {},
      "source": [
        "## 1. Formulating the Problem\n\nFor this tutorial, we would like to compute the electric potential ($\\phi$)\nand electric fields ($\\mathbf{e}$) in 2D that result from\na distribution of point charges in a vacuum. Given the electric permittiviy\nis uniform within the domain and equal to the permittivity of free space, the physics\nare defined by a 2D Poisson equation:\n\n\\begin{align}\\nabla^2 \\phi = - \\frac{\\rho}{\\epsilon_0}\\end{align}\n\nwhere $\\rho$ is the charge density and $\\epsilon_0$ is\nthe permittivity of free space. A more practical\nformulation for applying the finite volume method is to \ndefine the problem as two fist-order differential equations.\nStarting with Gauss's law and Faraday's law in the case of\nelectrostatics (:cite:`griffiths1999`):\n\n\\begin{align}&\\nabla \\cdot \\vec{e} = \\frac{\\rho}{\\epsilon_0} \\\\\n    &\\nabla \\times \\vec{e} = \\boldsymbol{0} \\;\\;\\; \\Rightarrow \\;\\;\\; \\vec{e} = -\\nabla \\phi \\\\\n    &\\textrm{s.t.} \\;\\;\\; \\frac{\\partial \\phi}{\\partial n} \\, \\Big |_{\\partial \\Omega} = - \\hat{n} \\cdot \\vec{e} \\, \\Big |_{\\partial \\Omega} = 0\\end{align}\n\nwhere the Neumann boundary condition on $\\phi$ implies no electric flux leaves the system.\nFor 2 point charges of equal and opposite sign, the charge density is given by:\n\n\\begin{align}\\rho = \\rho_0 \\big [ \\delta ( \\boldsymbol{r_+}) - \\delta (\\boldsymbol{r_-} ) \\big ]\n    :label: tutorial_eq_1_1_2\\end{align}\n\nwhere $\\rho_0$ is a constant.\nWe chose this charge distribution so that we would not violate the boundary conditions.\nSince the total electric charge is zero, the net flux leaving the system is zero.\n\n\n"
      ]
    },
    {
      "cell_type": "markdown",
      "metadata": {},
      "source": [
        "## 2. Taking Inner Products\n\nTo solve this problem numerically, we take the inner product\nof each differential equation with an appropriate test function.\nWhere $\\psi$ is a scalar test function and $\\vec{u}$ is a\nvector test function:\n\n\\begin{align}\\int_\\Omega \\psi (\\nabla \\cdot \\vec{e}) \\, dv = \\frac{1}{\\epsilon_0} \\int_\\Omega \\psi \\rho \\, dv\n    :label: tutorial_eq_1_1_3\\end{align}\n\nand\n\n\\begin{align}\\int_\\Omega \\vec{u} \\cdot \\vec{e} \\, dv = - \\int_\\Omega \\vec{u} \\cdot (\\nabla \\phi ) \\, dv\n    :label: tutorial_eq_1_1_4\\end{align}\n\nIn the case of Gauss' law, we have a volume integral containing the Dirac delta function.\nThus expression :eq:`tutorial_eq_1_1_3` becomes:\n\n\\begin{align}\\int_\\Omega \\psi (\\nabla \\cdot \\vec{e}) \\, dv = \\frac{1}{\\epsilon_0} \\psi \\, q\n    :label: tutorial_eq_1_1_5\\end{align}\n\nwhere $q$ represents an integrated charge density.\n\n\n"
      ]
    },
    {
      "cell_type": "markdown",
      "metadata": {},
      "source": [
        "## 3. Discretizing the Inner Products\n\nHere, we let $\\boldsymbol{\\phi}$ be the discrete representation\nof the electic potential $\\phi$ on the nodes. Since $\\vec{e} = -\\nabla \\phi$,\nit is natural for the discrete representation of the electric fields $\\boldsymbol{e}$\nto live on the edges; allowing the discrete gradient operator to map from nodes to edges.\n\nIn tutorials for inner products, we showed how to approximate most classes\nof inner products. Since the electric field is discretized at edges, so much the\ndiscrete representation of the test function $\\boldsymbol{u}$.\nApproximating the inner products in expression :eq:`tutorial_eq_1_1_4`\naccording to the finite volume method, we obtain:\n\n\\begin{align}\\boldsymbol{u^T M_e \\, e} = - \\boldsymbol{u^T M_e G \\, \\phi}\n    :label: tutorial_eq_1_1_6\\end{align}\n\nwhere\n\n    - $\\boldsymbol{M_e}$ is the inner product matrix at edges\n    - $\\boldsymbol{G}$ is the discrete gradient operator from nodes to edges\n\nNow we approximate the inner products in expression :eq:`tutorial_eq_1_1_5`.\nSince $\\boldsymbol{e}$ lives on the edges, it would be natural for the\ndiscrete divergence operator to map from edges to nodes. Unfortunately for nodes\nat the boundary, this would require knowledge of the electric field at edges\noutside our domain.\n\nFor the left-hand side of expression :eq:`tutorial_eq_1_1_5`, we must use the\nidentity $\\psi \\nabla \\cdot \\vec{e} = \\nabla \\cdot \\psi\\vec{e} - \\vec{e} \\cdot \\nabla \\psi$\nand apply the divergence theorem such that expression :eq:`tutorial_eq_1_1_5` becomes:\n\n\\begin{align}- \\int_\\Omega \\vec{e} \\cdot \\nabla \\psi \\, dv + \\oint_{\\partial \\Omega} \\psi (\\hat{n} \\cdot \\vec{e}) \\, da = \\frac{1}{\\epsilon_0} \\psi \\, q\n    :label: tutorial_eq_1_1_7\\end{align}\n\nSince $\\hat{n} \\cdot \\vec{e}$ is zero on the boundary, the surface integral is equal to zero.\nWe have chosen a discretization where boundary conditions are imposed naturally!\n\nTest function $\\psi$ and the integrated charge density $q$ are defined such that their\ndiscrete representations $\\boldsymbol{\\psi}$ and $\\boldsymbol{q}$ must live on the nodes.\nThe discrete approximation to expression :eq:`tutorial_eq_1_1_7` is given by:\n\n\\begin{align}- \\boldsymbol{\\psi^T G^T M_e \\, e} = \\frac{1}{} \\boldsymbol{\\psi^T q}\n    :label: tutorial_eq_1_1_8\\end{align}\n\nThe easiest way to discretize the source is to let $\\boldsymbol{q_i}=\\rho_0$ at the nearest node to the positive charge and\nlet $\\boldsymbol{q_i}=-\\rho_0$ at the nearest node to the negative charge.\nThe value is zero for all other nodes.\n\n\n"
      ]
    },
    {
      "cell_type": "markdown",
      "metadata": {},
      "source": [
        "## 4. Solvable Linear System\n\nBy combining the discrete representations from expressions\n:eq:`tutorial_eq_1_1_6` and :eq:`tutorial_eq_1_1_8` and factoring like-terms\nwe obtain:\n\n\\begin{align}\\boldsymbol{G^T M_e G \\, \\phi} = \\frac{1}{\\epsilon_0} \\boldsymbol{q}\n    :label: tutorial_eq_1_1_9\\end{align}\n\nLet $\\boldsymbol{A} = \\boldsymbol{G^T M_e G}$.\nThe linear system $\\boldsymbol{A}$ has a single null vector and is not invertible.\nTo remedy this, we define a reference potential on the boundary\nby setting $A_{0,0} = 1$ and by setting all other values in that row to 0.\nWe can now solve for the electric potential on the nodes.\n\nOnce the electric potential at nodes has been computed, the electric field on\nthe edges can be computed using expression :eq:`tutorial_eq_1_1_6`:\n\n\\begin{align}\\boldsymbol{e} = - \\boldsymbol{G \\, \\phi}\\end{align}\n\n\n"
      ]
    },
    {
      "cell_type": "markdown",
      "metadata": {},
      "source": [
        "## 5. Implement Discretize\n\n"
      ]
    },
    {
      "cell_type": "markdown",
      "metadata": {},
      "source": [
        "Import the necessary packages for the tutorial.\n\n"
      ]
    },
    {
      "cell_type": "code",
      "execution_count": null,
      "metadata": {
        "collapsed": false
      },
      "outputs": [],
      "source": [
        "from discretize import TensorMesh\nfrom pymatsolver import SolverLU\nimport matplotlib.pyplot as plt\nimport matplotlib as mpl\nimport numpy as np\nfrom discretize.utils import sdiag\n\nmpl.rcParams.update({'font.size':14})"
      ]
    },
    {
      "cell_type": "markdown",
      "metadata": {},
      "source": [
        "Construct a mesh.\n\n"
      ]
    },
    {
      "cell_type": "code",
      "execution_count": null,
      "metadata": {
        "collapsed": false
      },
      "outputs": [],
      "source": [
        "h = np.ones(100)\nmesh = TensorMesh([h, h], \"CC\")"
      ]
    },
    {
      "cell_type": "markdown",
      "metadata": {},
      "source": [
        "Construct the required discrete operators and inner product matrices.\n\n"
      ]
    },
    {
      "cell_type": "code",
      "execution_count": null,
      "metadata": {
        "collapsed": false
      },
      "outputs": [],
      "source": [
        "G = mesh.nodal_gradient               # gradient operator (nodes to edges)\nMe = mesh.get_edge_inner_product()    # edge inner product matrix"
      ]
    },
    {
      "cell_type": "markdown",
      "metadata": {},
      "source": [
        "Form the linear system and remove the null-space.\n\n"
      ]
    },
    {
      "cell_type": "code",
      "execution_count": null,
      "metadata": {
        "collapsed": false
      },
      "outputs": [],
      "source": [
        "A = G.T * Me * G\nA[0,0] = 1.\nA[0, 1:] = 0"
      ]
    },
    {
      "cell_type": "markdown",
      "metadata": {},
      "source": [
        "Construct the right-hand side.\n\n"
      ]
    },
    {
      "cell_type": "code",
      "execution_count": null,
      "metadata": {
        "collapsed": false
      },
      "outputs": [],
      "source": [
        "xyn = mesh.nodes\nkneg = (xyn[:, 0] == -10) & (xyn[:, 1] == 0)   # -ve charge at (-10, 0)\nkpos = (xyn[:, 0] == 10) & (xyn[:, 1] == 0)    # +ve charge at (10, 0)\n\nrho = np.zeros(mesh.n_nodes)\nrho[kneg] = -1\nrho[kpos] = 1"
      ]
    },
    {
      "cell_type": "markdown",
      "metadata": {},
      "source": [
        "Solve for the electric potential on the nodes and the electric field\non the edges.\n\n"
      ]
    },
    {
      "cell_type": "code",
      "execution_count": null,
      "metadata": {
        "collapsed": false
      },
      "outputs": [],
      "source": [
        "AinvM = SolverLU(A)  # Define the inverse of A using direct solver\nphi = AinvM * rho    # Compute electric potential on nodes\nE = - G * phi        # Compute electric field on edges"
      ]
    },
    {
      "cell_type": "markdown",
      "metadata": {},
      "source": [
        "Plot the source term, electric potential and electric field.\n\n"
      ]
    },
    {
      "cell_type": "code",
      "execution_count": null,
      "metadata": {
        "collapsed": false
      },
      "outputs": [],
      "source": [
        "fig = plt.figure(figsize=(12, 4))\n\nax1 = fig.add_subplot(131)\nmesh.plotImage(rho, v_type=\"N\", ax=ax1)\nax1.set_title(\"Charge Density\")\n\nax2 = fig.add_subplot(132)\nmesh.plotImage(phi, v_type=\"N\", ax=ax2)\nax2.set_title(\"Electric Potential\")\n\nax3 = fig.add_subplot(133)\nmesh.plotImage(\n    E, ax=ax3, v_type=\"E\", view=\"vec\", stream_opts={\"color\": \"w\", \"density\": 1.0}\n)\nax3.set_title(\"Electric Fields\")\n\nplt.tight_layout()"
      ]
    }
  ],
  "metadata": {
    "kernelspec": {
      "display_name": "Python 3",
      "language": "python",
      "name": "python3"
    },
    "language_info": {
      "codemirror_mode": {
        "name": "ipython",
        "version": 3
      },
      "file_extension": ".py",
      "mimetype": "text/x-python",
      "name": "python",
      "nbconvert_exporter": "python",
      "pygments_lexer": "ipython3",
      "version": "3.7.4"
    }
  },
  "nbformat": 4,
  "nbformat_minor": 0
}
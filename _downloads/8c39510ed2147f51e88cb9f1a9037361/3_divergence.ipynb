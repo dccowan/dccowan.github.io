{
  "cells": [
    {
      "cell_type": "code",
      "execution_count": null,
      "metadata": {
        "collapsed": false
      },
      "outputs": [],
      "source": [
        "%matplotlib inline"
      ]
    },
    {
      "cell_type": "markdown",
      "metadata": {},
      "source": [
        "\n# Divergence Operator\n\nFor geophysical problems, the relationship between two physical quantities may include the divergence:\n\n\\begin{align}\\nabla \\cdot \\vec{u} = \\dfrac{\\partial u_x}{\\partial x} + \\dfrac{\\partial u_y}{\\partial y} + \\dfrac{\\partial u_y}{\\partial y}\\end{align}\n\nFor discretized quantities living on 2D or 3D meshes, sparse matricies can be used to\napproximate the divergence operator. For each mesh type, the divergence\noperator is a property that is only constructed when called.\n\nThis tutorial focusses on:\n\n    - how to construct the divergence operator\n    - applying the divergence operator to a discrete quantity\n    - mapping and dimensions\n"
      ]
    },
    {
      "cell_type": "markdown",
      "metadata": {},
      "source": [
        "## Background Theory\n\nLet us define a continuous scalar function $\\phi$ and a continuous vector function $\\vec{u}$ such that:\n\n\\begin{align}\\phi = \\nabla \\cdot \\vec{u}\\end{align}\n\nAnd let $\\boldsymbol{\\phi}$ and $\\boldsymbol{u}$ be the discrete representations of $\\phi$ and $\\vec{u}$\nthat live on the mesh. Provided we know the discrete values $\\boldsymbol{u}$,\nour goal is to use discrete differentiation to approximate the values of $\\boldsymbol{\\phi}$.\nWe begin by considering a single cell (2D or 3D). We let the indices $i$, $j$ and $k$ \ndenote positions along the x, y and z axes, respectively.\n\n.. figure:: ../../images/divergence_discretization.png\n    :align: center\n    :width: 600\n\n    Discretization for approximating the divergence at the center of a single 2D cell (left) and 3D cell (right).\n\nAs we will see, it makes the most sense for $\\boldsymbol{\\phi}$ to live at the cell centers and\nfor the components of $\\boldsymbol{u}$ to live on the faces. If $u_x$ lives on x-faces, then its discrete\nderivative with respect to $x$ lives at the cell center. And if $u_y$ lives on y-faces its discrete\nderivative with respect to $y$ lives at the cell center. Likewise for $u_z$. Thus to approximate the\ndivergence of $\\vec{u}$ at the cell center, we simply need to sum the discrete derivatives of $u_x$, $u_y$\nand $u_z$ that are defined at the cell center. Where $h_x$, $h_y$ and $h_z$ represent the dimension of the cell along the x, y and\nz directions, respectively:\n\n\\begin{align}\\begin{align}\n    \\mathbf{In \\; 2D:} \\;\\; \\phi(i,j) \\approx \\; & \\frac{u_x(i,j+\\frac{1}{2}) - u_x(i,j-\\frac{1}{2})}{h_x} \\\\\n    & + \\frac{u_y(i+\\frac{1}{2},j) - u_y(i-\\frac{1}{2},j)}{h_y}\n    \\end{align}\\end{align}\n\n|\n\n\\begin{align}\\begin{align}\n    \\mathbf{In \\; 3D:} \\;\\; \\phi(i,j,k) \\approx \\; & \\frac{u_x(i+\\frac{1}{2},j,k) - u_x(i-\\frac{1}{2},j,k)}{h_x} \\\\\n    & + \\frac{u_y(i,j+\\frac{1}{2},k) - u_y(i,j-\\frac{1}{2},k)}{h_y} \\\\\n    & + \\frac{u_z(i,j,k+\\frac{1}{2}) - u_z(i,j,k-\\frac{1}{2})}{h_z}\n    \\end{align}\\end{align}\n\n\nUltimately we are trying to approximate the divergence at the center of every cell in a mesh.\nAdjacent cells share faces. If the components $u_x$, $u_y$ and $u_z$ are\ncontinuous across their respective faces, then $\\boldsymbol{\\phi}$ and $\\boldsymbol{u}$\ncan be related by a sparse matrix-vector product:\n\n\\begin{align}\\boldsymbol{\\phi} = \\boldsymbol{D \\, u}\\end{align}\n\nwhere $\\boldsymbol{D}$ is the divergence matrix from faces to cell centers,\n$\\boldsymbol{\\phi}$ is a vector containing the discrete approximations of $\\phi$ at all cell centers,\nand $\\boldsymbol{u}$ stores the components of $\\vec{u}$ on cell faces as a vector of the form:\n\n\\begin{align}\\boldsymbol{u} = \\begin{bmatrix} \\boldsymbol{u_x} \\\\ \\boldsymbol{u_y} \\\\ \\boldsymbol{u_z} \\end{bmatrix}\\end{align}\n\n\n"
      ]
    },
    {
      "cell_type": "markdown",
      "metadata": {},
      "source": [
        "## Import Packages\n\nHere we import the packages required for this tutorial.\n\n\n"
      ]
    },
    {
      "cell_type": "code",
      "execution_count": null,
      "metadata": {
        "collapsed": false
      },
      "outputs": [],
      "source": [
        "from discretize import TensorMesh, TreeMesh\nfrom discretize.utils import mkvc, refine_tree_xyz\nimport matplotlib.pyplot as plt\nimport numpy as np\n\n# sphinx_gallery_thumbnail_number = 1"
      ]
    },
    {
      "cell_type": "markdown",
      "metadata": {},
      "source": [
        "## 2D Example\n\nHere we apply the divergence operator to a vector\nthat lives on the faces of a 2D tensor mesh.\nWe then plot the results.\n\n\n"
      ]
    },
    {
      "cell_type": "code",
      "execution_count": null,
      "metadata": {
        "collapsed": false
      },
      "outputs": [],
      "source": [
        "# Create a uniform grid\nh = np.ones(20)\nmesh = TensorMesh([h, h], \"CC\")\n\n# Get divergence\nDIV = mesh.face_divergence  # Divergence from faces to cell centers\n\n# Evaluate divergence of a vector function in x and y\nfaces_x = mesh.gridFx\nfaces_y = mesh.gridFy\n\nvx = (faces_x[:, 0] / np.sqrt(np.sum(faces_x ** 2, axis=1))) * np.exp(\n    -(faces_x[:, 0] ** 2 + faces_x[:, 1] ** 2) / 6 ** 2\n)\n\nvy = (faces_y[:, 1] / np.sqrt(np.sum(faces_y ** 2, axis=1))) * np.exp(\n    -(faces_y[:, 0] ** 2 + faces_y[:, 1] ** 2) / 6 ** 2\n)\n\nv = np.r_[vx, vy]\ndiv_v = DIV * v\n\n# Plot divergence of v\nfig = plt.figure(figsize=(11, 5))\n\nax1 = fig.add_subplot(121)\nmesh.plotImage(\n    v, ax=ax1, v_type=\"F\", view=\"vec\", stream_opts={\"color\": \"w\", \"density\": 1.0}\n)\nax1.set_title(\"v at cell faces\")\n\nax2 = fig.add_subplot(122)\nmesh.plotImage(div_v, ax=ax2)\nax2.set_title(\"divergence of v at cell centers\")\n\nfig.show()"
      ]
    },
    {
      "cell_type": "markdown",
      "metadata": {},
      "source": [
        "## Mapping and Dimensions\n\nWhen discretizing and solving differential equations, it is\nnatural for:\n\n   - Scalar quantities on nodes or at cell centers\n   - Vector quantities on cell edges or on cell faces\n\nAs a result, the divergence operator will map from one part of\nthe mesh to another; either edges to nodes or faces to cell centers.\n\nHere we construct the divergence operator for a tensor mesh and for\na tree mesh. By plotting the operators on a spy plot, we gain\nan understanding of the dimensions\nof the divergence operator and its structure.\n\n\n"
      ]
    },
    {
      "cell_type": "code",
      "execution_count": null,
      "metadata": {
        "collapsed": false
      },
      "outputs": [],
      "source": [
        "# Create a basic tensor mesh\nh = np.ones(20)\ntensor_mesh = TensorMesh([h, h], \"CC\")\n\n# Create a basic tree mesh\nh = np.ones(32)\ntree_mesh = TreeMesh([h, h], origin=\"CC\")\nxp, yp = np.meshgrid([-8., 8.], [-8., 8.])\nxy = np.c_[mkvc(xp), mkvc(yp)]\ntree_mesh = refine_tree_xyz(tree_mesh, xy, octree_levels=[1, 1], method=\"box\", finalize=False)\ntree_mesh.finalize()\n\n# Plot meshes\nfig, ax = plt.subplots(1, 2, figsize=(11, 5))\n\ntensor_mesh.plot_grid(ax=ax[0])\nax[0].set_title(\"Tensor Mesh\")\n\ntree_mesh.plot_grid(ax=ax[1])\nax[1].set_title(\"Tree Mesh\")\n\n# Construct divergence operators\ntensor_divergence = tensor_mesh.face_divergence  # 2D divergence from faces to centers\ntree_divergence = tree_mesh.face_divergence  # 2D divergence from faces to centers\n\n# Plot divergence operators\nfig = plt.figure(figsize=(6, 5))\n\nax1 = fig.add_axes([0.15, 0.55, 0.8, 0.35])\nax1.spy(tensor_divergence, markersize=0.5)\nax1.set_title(\"2D Tensor Mesh Divergence\")\n\nax2 = fig.add_axes([0.15, 0.05, 0.8, 0.35])\nax2.spy(tree_divergence, markersize=0.5)\nax2.set_title(\"2D Tree Mesh Divergence\")\n\nfig.show()\n\nprint(\"Faces to Centers on Tensor Mesh:\")\nprint(\"- Number of faces:\", str(tensor_mesh.nF))\nprint(\"- Number of cells:\", str(tensor_mesh.nC))\nprint(\"- Dimensions of operator:\", str(tensor_mesh.nC), \"x\", str(tensor_mesh.nF))\nprint(\"- Number of non-zero elements:\", str(tensor_divergence.nnz), \"\\n\")\n\nprint(\"Faces to Centers on Tree Mesh:\")\nprint(\"- Number of faces:\", str(tree_mesh.nF))\nprint(\"- Number of cells:\", str(tree_mesh.nC))\nprint(\"- Dimensions of operator:\", str(tree_mesh.nC), \"x\", str(tree_mesh.nF))\nprint(\"- Number of non-zero elements:\", str(tree_divergence.nnz), \"\\n\")"
      ]
    }
  ],
  "metadata": {
    "kernelspec": {
      "display_name": "Python 3",
      "language": "python",
      "name": "python3"
    },
    "language_info": {
      "codemirror_mode": {
        "name": "ipython",
        "version": 3
      },
      "file_extension": ".py",
      "mimetype": "text/x-python",
      "name": "python",
      "nbconvert_exporter": "python",
      "pygments_lexer": "ipython3",
      "version": "3.7.4"
    }
  },
  "nbformat": 4,
  "nbformat_minor": 0
}
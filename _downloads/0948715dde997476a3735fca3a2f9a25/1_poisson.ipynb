{
  "cells": [
    {
      "cell_type": "code",
      "execution_count": null,
      "metadata": {
        "collapsed": false
      },
      "outputs": [],
      "source": [
        "%matplotlib inline"
      ]
    },
    {
      "cell_type": "markdown",
      "metadata": {},
      "source": [
        "\n# Poisson Equation with Zero Neumann Boundary Condition\n\nHere we use the discretize package to solve for the electric potential\n($\\phi$) and electric fields ($\\mathbf{e}$) in 2D that result from\na static charge distribution. Provided the electric permittiviy is uniform\nwithin the domain, the physics are represented by a Poisson equation.\nThe solution can easily be adapted to solve the same problem in 3D.\nIn the theory section of the discretie website we provided a\n`derivation for the final numerical solution <derivation_examples_poisson>`.\n\nStarting with Gauss' law and Faraday's law:\n    \n\\begin{align}&\\nabla \\cdot \\mathbf{E} = \\frac{\\rho}{\\epsilon_0} \n\n    &\\nabla \\times \\mathbf{E} = \\mathbf{0} \\;\\;\\; \\Rightarrow \\;\\;\\; \\mathbf{E} = -\\nabla \\phi \n\n    &\\textrm{s.t.} \\;\\;\\; \\hat{n} \\cdot \\vec{e} \\Big |_{\\partial \\Omega} =\n    -\\frac{\\partial \\phi}{\\partial n} \\Big |_{\\partial \\Omega} = 0\\end{align}\nwhere $\\rho$ is the charge density and $\\epsilon_0$ is the\npermittivity of free space. We will consider the case where there is both a\npositive and a negative charge of equal magnitude within our domain. Thus:\n\n\\begin{align}\\rho = \\rho_0 \\big [ \\delta ( \\mathbf{r_+}) - \\delta (\\mathbf{r_-} ) \\big ]\\end{align}\n\n\nFor $\\phi$ defined on the nodes, the numerical solution is obtained by\nsolving the following linear system:\n    \n\\begin{align}\\boldsymbol{G^T M_e G \\, \\phi} = \\frac{1}{\\epsilon_0} \\boldsymbol{q}\\end{align}\n\nAnd for $\\phi$ discretized at cell centers, the numerical solution is\nobtained by solving:\n\n\\begin{align}- \\boldsymbol{M_c D M_f^{-1} \\tilde{G} \\, \\phi} = \\frac{1}{\\epsilon_0} \\boldsymbol{q}\\end{align}\n\nwhere\n\n    - $\\boldsymbol{M_c}$ is the inner product matrix for cell centered quantities\n    - $\\boldsymbol{M_e}$ is the inner product matrix for edge quantities\n    - $\\boldsymbol{M_f}$ is the inner product matrix for face quantities\n    - $\\boldsymbol{G}$ is the discrete gradient operator\n    - $\\boldsymbol{D}$ is the discrete divergence operator\n    - $\\boldsymbol{B}$ is a sparse matrix that implements the boundary condition\n    - $\\boldsymbol{\\tilde{G}}=\\boldsymbol{-D^T M_c + B}$ is the modified gradient operator\n    - $\\boldsymbol{q}$ is a discrete representation of the source term\n"
      ]
    },
    {
      "cell_type": "markdown",
      "metadata": {},
      "source": [
        "## Import Packages\n\nHere we import the packages required for this tutorial.\n\n\n"
      ]
    },
    {
      "cell_type": "code",
      "execution_count": null,
      "metadata": {
        "collapsed": false
      },
      "outputs": [],
      "source": [
        "from discretize import TensorMesh\nfrom pymatsolver import SolverLU\nimport matplotlib.pyplot as plt\nimport matplotlib as mpl\nimport numpy as np\nfrom discretize.utils import sdiag\n\nmpl.rcParams.update({'font.size':14})"
      ]
    },
    {
      "cell_type": "markdown",
      "metadata": {},
      "source": [
        "## Electric Potential Defined on the Nodes\n\nHere, we solve the problem for the nodal discretization\nof the electric potential.\n\n\n"
      ]
    },
    {
      "cell_type": "code",
      "execution_count": null,
      "metadata": {
        "collapsed": false
      },
      "outputs": [],
      "source": [
        "# Create a tensor mesh\nh = np.ones(100)\nmesh = TensorMesh([h, h], \"CC\")\n\n# Define discrete operators\nG = mesh.nodal_gradient                        # gradient operator\nMe = mesh.get_edge_inner_product()             # edge inner product matrix\n\n# Define linear system and remove null space\nA = G.T * Me * G\nA[0,0] = 1.\nA[0, 1:] = 0\n\n# Define RHS (total charge on each node)\nxyn = mesh.nodes\nkneg = (xyn[:, 0] == -10) & (xyn[:, 1] == 0)   # -ve charge at (-10, 0)\nkpos = (xyn[:, 0] == 10) & (xyn[:, 1] == 0)    # +ve charge at (10, 0)\n\nrho = np.zeros(mesh.n_nodes)\nrho[kneg] = -1\nrho[kpos] = 1\n\n# LU factorization and solve\nAinvM = SolverLU(A)\nphi = AinvM * rho\n\n# Compute electric fields\nE = - G * phi\n\n# Plotting\nfig = plt.figure(figsize=(12, 4))\n\nax1 = fig.add_subplot(131)\nmesh.plotImage(rho, v_type=\"N\", ax=ax1)\nax1.set_title(\"Charge Density\")\n\nax2 = fig.add_subplot(132)\nmesh.plotImage(phi, v_type=\"N\", ax=ax2)\nax2.set_title(\"Electric Potential\")\n\nax3 = fig.add_subplot(133)\nmesh.plotImage(\n    E, ax=ax3, v_type=\"E\", view=\"vec\", stream_opts={\"color\": \"w\", \"density\": 1.0}\n)\nax3.set_title(\"Electric Fields\")\n\nplt.tight_layout()"
      ]
    },
    {
      "cell_type": "markdown",
      "metadata": {},
      "source": [
        "## Electric Potential at Cell Centers\nHere, we solve the problem for the cell centered discretization\nof the electric potential.\n\n\n"
      ]
    },
    {
      "cell_type": "code",
      "execution_count": null,
      "metadata": {
        "collapsed": false
      },
      "outputs": [],
      "source": [
        "# Create a tensor mesh\nh = 2*np.ones(51)\nmesh = TensorMesh([h, h], \"CC\")\n\n# Define discrete operators\nDIV = mesh.faceDiv                                  # discrete divergence operator\nMc = sdiag(mesh.vol)                                # cell center inner product matrix\nMf_inv = mesh.get_face_inner_product(invMat=True)   # inverse of face inner product matrix\n\nmesh.set_cell_gradient_BC(['neumann','neumann'])    # Set zero Neumann condition on gradient\nG = mesh.cell_gradient                              # Modified gradient operator G = -D^T Mc + B\n\n# Define the linear system of equations\nA = - Mc * DIV * Mf_inv * G\n\n# Define RHS (total charge projected to nearest cell center)\nxycc = mesh.gridCC\nkneg = (xycc[:, 0] == -10) & (xycc[:, 1] == 0)      # -ve charge at (-10, 0)\nkpos = (xycc[:, 0] == 10) & (xycc[:, 1] == 0)       # +ve charge at (10, 0)\n\nrho = np.zeros(mesh.nC)\nrho[kneg] = -1\nrho[kpos] = 1\n\n# LU factorization and solve\nAinvM = SolverLU(A)\nphi = AinvM * rho\n\n# Compute electric fields\nE = - Mf_inv * G * phi\n\n# Plotting\nfig = plt.figure(figsize=(12, 4))\n\nax1 = fig.add_subplot(131)\nmesh.plotImage(rho, v_type=\"CC\", ax=ax1)\nax1.set_title(\"Charge Density\")\n\nax2 = fig.add_subplot(132)\nmesh.plotImage(phi, v_type=\"CC\", ax=ax2)\nax2.set_title(\"Electric Potential\")\n\nax3 = fig.add_subplot(133)\nmesh.plotImage(\n    E, ax=ax3, v_type=\"F\", view=\"vec\", stream_opts={\"color\": \"w\", \"density\": 1.0}\n)\nax3.set_title(\"Electric Fields\")\n\nplt.tight_layout()"
      ]
    }
  ],
  "metadata": {
    "kernelspec": {
      "display_name": "Python 3",
      "language": "python",
      "name": "python3"
    },
    "language_info": {
      "codemirror_mode": {
        "name": "ipython",
        "version": 3
      },
      "file_extension": ".py",
      "mimetype": "text/x-python",
      "name": "python",
      "nbconvert_exporter": "python",
      "pygments_lexer": "ipython3",
      "version": "3.7.4"
    }
  },
  "nbformat": 4,
  "nbformat_minor": 0
}
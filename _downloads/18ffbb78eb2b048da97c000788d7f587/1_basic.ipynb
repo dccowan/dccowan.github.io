{
  "cells": [
    {
      "cell_type": "code",
      "execution_count": null,
      "metadata": {
        "collapsed": false
      },
      "outputs": [],
      "source": [
        "%matplotlib inline"
      ]
    },
    {
      "cell_type": "markdown",
      "metadata": {},
      "source": [
        "\n# Basic Inner Products\n\nInner products between two scalar or vector quantities represents the most\nbasic class of inner products. For this class of inner products, we demonstrate:\n\n    - How to construct the inner product matrix\n    - How to use inner product matricies to approximate the inner product\n    - How to construct the inverse of the inner product matrix.\n\nFor scalar quantities $\\psi$ and $\\phi$, the\ninner product is given by:\n\n\\begin{align}(\\psi , \\phi ) = \\int_\\Omega \\psi \\, \\phi \\, dv\\end{align}\n\n\nAnd for vector quantities $\\vec{u}$ and $\\vec{w}$, the\ninner product is given by:\n\n\\begin{align}(\\vec{u}, \\vec{w}) = \\int_\\Omega \\vec{u} \\cdot \\vec{w} \\, dv\\end{align}\n\n\nIn discretized form, we can approximate the aforementioned inner-products as:\n\n\\begin{align}(\\psi , \\phi) \\approx \\mathbf{\\psi^T \\, M \\, \\phi}\\end{align}\n\n\nand\n\n\\begin{align}(\\vec{u}, \\vec{w}) \\approx \\mathbf{u^T \\, M \\, w}\\end{align}\n\n\nwhere $\\mathbf{M}$ in either equation represents an\n*inner-product matrix*. $\\mathbf{\\psi}$, $\\mathbf{\\phi}$,\n$\\mathbf{u}$ and $\\mathbf{w}$ are discrete variables that live\non the mesh. It is important to note a few things about the\ninner-product matrix in this case:\n\n    1. It depends on the dimensions and discretization of the mesh\n    2. It depends on where the discrete variables live; e.g. edges, faces, nodes, centers\n\nFor this simple class of inner products, the inner product matricies for\ndiscrete quantities living on various parts of the mesh have the form:\n\n\\begin{align}\\textrm{Centers:} \\; \\mathbf{M_c} &= \\textrm{diag} (\\mathbf{v} ) \n\n    \\textrm{Nodes:} \\; \\mathbf{M_n} &= \\frac{1}{2^{2k}} \\mathbf{P_n^T } \\textrm{diag} (\\mathbf{v} ) \\mathbf{P_n} \n\n    \\textrm{Faces:} \\; \\mathbf{M_f} &= \\frac{1}{4} \\mathbf{P_f^T } \\textrm{diag} (\\mathbf{e_k \\otimes v} ) \\mathbf{P_f} \n\n    \\textrm{Edges:} \\; \\mathbf{M_e} &= \\frac{1}{4^{k-1}} \\mathbf{P_e^T } \\textrm{diag} (\\mathbf{e_k \\otimes v}) \\mathbf{P_e}\\end{align}\n\nwhere\n\n    - $k = 1,2,3$ is the dimension (1D, 2D or 3D)\n    - $\\mathbf{e_k}$ is a vector of 1s of length $k$\n    - $\\otimes$ is the kronecker product\n    - $\\mathbf{P}$ are projection matricies that map quantities from one part of the cell (nodes, faces, edges) to cell centers\n    - $\\mathbf{v}$ is a vector that contains the cell volumes\n"
      ]
    },
    {
      "cell_type": "markdown",
      "metadata": {},
      "source": [
        "## Import Packages\n\nHere we import the packages required for this tutorial\n\n\n"
      ]
    },
    {
      "cell_type": "code",
      "execution_count": null,
      "metadata": {
        "collapsed": false
      },
      "outputs": [],
      "source": [
        "from discretize.utils import sdiag\nfrom discretize import TensorMesh\nimport matplotlib.pyplot as plt\nimport numpy as np\n\n# sphinx_gallery_thumbnail_number = 2"
      ]
    },
    {
      "cell_type": "markdown",
      "metadata": {},
      "source": [
        "## Scalars\n\nIt is natural for scalar quantities to live at cell centers or nodes. Here\nwe will define a scalar function (a Gaussian distribution in this case):\n\n\\begin{align}\\phi(x) = \\frac{1}{\\sqrt{2 \\pi \\sigma^2}} \\, e^{- \\frac{(x- \\mu )^2}{2 \\sigma^2}}\\end{align}\n\n\nWe will then evaluate the following inner product:\n\n\\begin{align}(\\phi , \\phi) = \\int_\\Omega \\phi^2 \\, dx = \\frac{1}{2\\sigma \\sqrt{\\pi}}\\end{align}\n\n\naccording to the mid-point rule using inner-product matricies. Next we\ncompare the numerical approximation of the inner product with the analytic\nsolution. *Note that the method for evaluating inner products here can be\nextended to variables in 2D and 3D*.\n\n\n"
      ]
    },
    {
      "cell_type": "code",
      "execution_count": null,
      "metadata": {
        "collapsed": false
      },
      "outputs": [],
      "source": [
        "# Define the Gaussian function\ndef fcn_gaussian(x, mu, sig):\n\n    return (1 / np.sqrt(2 * np.pi * sig ** 2)) * np.exp(-0.5 * (x - mu) ** 2 / sig ** 2)\n\n\n# Create a tensor mesh that is sufficiently large\nh = 0.1 * np.ones(100)\nmesh = TensorMesh([h], \"C\")\n\n# Define center point and standard deviation\nmu = 0\nsig = 1.5\n\n# Evaluate at cell centers and nodes\nphi_c = fcn_gaussian(mesh.gridCC, mu, sig)\nphi_n = fcn_gaussian(mesh.gridN, mu, sig)\n\n# Define inner-product matricies\nMc = sdiag(mesh.vol)  # cell-centered\n# Mn = mesh.getNodalInnerProduct()  # on nodes (*functionality pending*)\n\n# Compute the inner product\nipt = 1 / (2 * sig * np.sqrt(np.pi))  # true value of (f, f)\nipc = np.dot(phi_c, (Mc * phi_c))\n# ipn = np.dot(phi_n, (Mn*phi_n)) (*functionality pending*)\n\nfig = plt.figure(figsize=(5, 5))\nax = fig.add_subplot(111)\nax.plot(mesh.gridCC, phi_c)\nax.set_title(\"phi at cell centers\")\n\n# Verify accuracy\nprint(\"ACCURACY\")\nprint(\"Analytic solution:    \", ipt)\nprint(\"Cell-centered approx.:\", ipc)\n# print('Nodal approx.:        ', ipn)"
      ]
    },
    {
      "cell_type": "markdown",
      "metadata": {},
      "source": [
        "## Vectors\n\nTo preserve the natural boundary conditions for each cell, it is standard\npractice to define fields on cell edges and fluxes on cell faces. Here we\nwill define a 2D vector quantity:\n\n\\begin{align}\\vec{u}(x,y) = \\Bigg [ \\frac{-y}{r} \\hat{x} + \\frac{x}{r} \\hat{y} \\Bigg ]\n    \\, e^{-\\frac{x^2+y^2}{2\\sigma^2}}\\end{align}\n\nWe will then evaluate the following inner product:\n\n\\begin{align}(\\vec{u}, \\vec{u}) = \\int_\\Omega \\vec{u} \\cdot \\vec{u} \\, da\n    = 2 \\pi \\sigma^2\\end{align}\n\nusing inner-product matricies. Next we compare the numerical evaluation\nof the inner products with the analytic solution. *Note that the method for\nevaluating inner products here can be extended to variables in 3D*.\n\n\n"
      ]
    },
    {
      "cell_type": "code",
      "execution_count": null,
      "metadata": {
        "collapsed": false
      },
      "outputs": [],
      "source": [
        "# Define components of the function\ndef fcn_x(xy, sig):\n    return (-xy[:, 1] / np.sqrt(np.sum(xy ** 2, axis=1))) * np.exp(\n        -0.5 * np.sum(xy ** 2, axis=1) / sig ** 2\n    )\n\n\ndef fcn_y(xy, sig):\n    return (xy[:, 0] / np.sqrt(np.sum(xy ** 2, axis=1))) * np.exp(\n        -0.5 * np.sum(xy ** 2, axis=1) / sig ** 2\n    )\n\n\n# Create a tensor mesh that is sufficiently large\nh = 0.1 * np.ones(100)\nmesh = TensorMesh([h, h], \"CC\")\n\n# Define center point and standard deviation\nsig = 1.5\n\n# Evaluate inner-product using edge-defined discrete variables\nux = fcn_x(mesh.gridEx, sig)\nuy = fcn_y(mesh.gridEy, sig)\nu = np.r_[ux, uy]\n\nMe = mesh.getEdgeInnerProduct()  # Edge inner product matrix\n\nipe = np.dot(u, Me * u)\n\n# Evaluate inner-product using face-defined discrete variables\nux = fcn_x(mesh.gridFx, sig)\nuy = fcn_y(mesh.gridFy, sig)\nu = np.r_[ux, uy]\n\nMf = mesh.getFaceInnerProduct()  # Edge inner product matrix\n\nipf = np.dot(u, Mf * u)\n\n# The analytic solution of (u, u)\nipt = np.pi * sig ** 2\n\n# Plot the vector function\nfig = plt.figure(figsize=(5, 5))\nax = fig.add_subplot(111)\nmesh.plotImage(\n    u, ax=ax, v_type=\"F\", view=\"vec\", stream_opts={\"color\": \"w\", \"density\": 1.0}\n)\nax.set_title(\"u at cell faces\")\n\nfig.show()\n\n# Verify accuracy\nprint(\"ACCURACY\")\nprint(\"Analytic solution:    \", ipt)\nprint(\"Edge variable approx.:\", ipe)\nprint(\"Face variable approx.:\", ipf)"
      ]
    },
    {
      "cell_type": "markdown",
      "metadata": {},
      "source": [
        "## Inverse of Inner Product Matricies\n\nThe final discretized system using the finite volume method may contain\nthe inverse of an inner-product matrix. Here we show how the inverse of\nthe inner product matrix can be explicitly constructed. We validate its\naccuracy for cell-centers, nodes, edges and faces by computing the folling\nL2-norm for each:\n\n\\begin{align}\\| \\mathbf{u - M^{-1} M u} \\|^2\\end{align}\n\n\n\n"
      ]
    },
    {
      "cell_type": "code",
      "execution_count": null,
      "metadata": {
        "collapsed": false
      },
      "outputs": [],
      "source": [
        "# Create a tensor mesh\nh = 0.1 * np.ones(100)\nmesh = TensorMesh([h, h], \"CC\")\n\n# Cell centered for scalar quantities\nMc = sdiag(mesh.vol)\nMc_inv = sdiag(1 / mesh.vol)\n\n# Edges for vector quantities\nMe = mesh.getEdgeInnerProduct()\nMe_inv = mesh.getEdgeInnerProduct(invMat=True)\n\n# Faces for vector quantities\nMf = mesh.getFaceInnerProduct()\nMf_inv = mesh.getFaceInnerProduct(invMat=True)\n\n# Generate some random vectors\nphi_c = np.random.rand(mesh.nC)\nvec_e = np.random.rand(mesh.nE)\nvec_f = np.random.rand(mesh.nF)\n\n# Generate some random vectors\nnorm_c = np.linalg.norm(phi_c - Mc_inv.dot(Mc.dot(phi_c)))\nnorm_e = np.linalg.norm(vec_e - Me_inv * Me * vec_e)\nnorm_f = np.linalg.norm(vec_f - Mf_inv * Mf * vec_f)\n\n# Verify accuracy\nprint(\"ACCURACY\")\nprint(\"Norm for centers:\", norm_c)\nprint(\"Norm for edges:  \", norm_e)\nprint(\"Norm for faces:  \", norm_f)"
      ]
    }
  ],
  "metadata": {
    "kernelspec": {
      "display_name": "Python 3",
      "language": "python",
      "name": "python3"
    },
    "language_info": {
      "codemirror_mode": {
        "name": "ipython",
        "version": 3
      },
      "file_extension": ".py",
      "mimetype": "text/x-python",
      "name": "python",
      "nbconvert_exporter": "python",
      "pygments_lexer": "ipython3",
      "version": "3.7.4"
    }
  },
  "nbformat": 4,
  "nbformat_minor": 0
}
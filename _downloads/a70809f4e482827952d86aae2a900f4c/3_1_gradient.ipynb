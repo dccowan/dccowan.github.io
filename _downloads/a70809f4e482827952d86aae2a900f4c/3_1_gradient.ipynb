{
  "cells": [
    {
      "cell_type": "code",
      "execution_count": null,
      "metadata": {
        "collapsed": false
      },
      "outputs": [],
      "source": [
        "%matplotlib inline"
      ]
    },
    {
      "cell_type": "markdown",
      "metadata": {},
      "source": [
        "\n# Gradient Operator\n\nWhen solving PDEs using the finite volume approach, inner products may\ncontain the gradient operator. Where $\\phi$ is a scalar quantity\nand $\\vec{u}$ is a vector quantity, we may need to derive a\ndiscrete approximation to the following inner product:\n\n\\begin{align}(\\vec{u} , \\nabla \\phi) = \\int_\\Omega \\, \\vec{u} \\cdot \\nabla \\phi \\, dv\\end{align}\n\nIn this section, we demonstrate how to go from the inner product to the\ndiscrete approximation. In doing so, we must construct\ndiscrete differential operators, inner product matricies and consider\nboundary conditions.\n"
      ]
    },
    {
      "cell_type": "markdown",
      "metadata": {},
      "source": [
        "## Background Theory\n\nFor the inner product between a vector $\\vec{u}$ and\nthe gradient of a scalar $\\phi$,\nthere are two options for where the variables should live.\n\n**For** $\\boldsymbol{\\phi}$ **on the nodes and** $\\boldsymbol{u}$ **on cell edges:**\n\n\\begin{align}\\int_\\Omega \\vec{u} \\cdot \\nabla \\phi \\, dv \\approx \\boldsymbol{u^T M_e G \\, \\phi}\\end{align}\n\nwhere\n\n    - $\\boldsymbol{M_e}$ is the basic inner product matrix for vectors at edges\n    - $\\boldsymbol{G}$ is the discrete gradient operator which maps from nodes to edges\n\n**For** $\\boldsymbol{\\phi}$ **at cell centers and** $\\boldsymbol{u}$ **on cell faces**,\nthe gradient operator would have to map from cell centers to faces. This would require knowledge\nof $\\phi$ outside the domain for boundary faces. In this case, we use the identity\n$\\vec{u} \\cdot \\nabla \\phi = \\nabla \\cdot \\phi\\vec{u} - \\phi \\nabla \\cdot \\vec{u}$\nand apply the divergence theorem such that:\n\n\\begin{align}\\int_\\Omega \\vec{u} \\cdot \\nabla \\phi \\, dv =\n    - \\int_\\Omega \\phi \\nabla \\cdot \\vec{u} \\, dv + \\oint_{\\partial \\Omega} \\phi \\hat{n} \\cdot \\vec{u} \\, da\n    \\approx - \\boldsymbol{u^T D^T M_c \\, \\phi} + \\boldsymbol{u^T B \\, \\phi}\n    = \\boldsymbol{u^T \\tilde{G} \\, \\phi}\\end{align}\n\nwhere\n\n    - $\\boldsymbol{D}$ is the discrete divergence operator from faces to cell centers\n    - $\\boldsymbol{M_c}$ is the basic inner product matrix for scalars at cell centers\n    - $\\boldsymbol{B}$ is a sparse matrix that imposes the boundary conditions on $\\phi$\n    - $\\boldsymbol{\\tilde{G}} = \\boldsymbol{-D^T M_c + B}$ acts as a modified gradient operator with boundary conditions imposed\n\nNote that when $\\phi = 0$ on the boundary, the term containing $\\boldsymbol{B}$ is zero.\n\n\n"
      ]
    },
    {
      "cell_type": "markdown",
      "metadata": {},
      "source": [
        "## Import Packages\n\n\n"
      ]
    },
    {
      "cell_type": "code",
      "execution_count": null,
      "metadata": {
        "collapsed": false
      },
      "outputs": [],
      "source": [
        "from discretize.utils import sdiag\nfrom discretize import TensorMesh\nimport numpy as np\nimport matplotlib.pyplot as plt"
      ]
    },
    {
      "cell_type": "markdown",
      "metadata": {},
      "source": [
        "## Gradient\n\n\n"
      ]
    },
    {
      "cell_type": "code",
      "execution_count": null,
      "metadata": {
        "collapsed": false
      },
      "outputs": [],
      "source": [
        "# Make basic mesh\nh = np.ones(10)\nmesh = TensorMesh([h, h, h])\n\n# Items required to perform u.T*(Me*Gn*phi)\nMe = mesh.getEdgeInnerProduct()  # Basic inner product matrix (edges)\nGn = mesh.nodalGrad  # Nodes to edges gradient\n\n# Items required to perform u.T*(Mf*Gc*phi)\nMf = mesh.getFaceInnerProduct()  # Basic inner product matrix (faces)\nmesh.setCellGradBC([\"neumann\", \"dirichlet\", \"neumann\"])  # Set boundary conditions\nGc = mesh.cellGrad  # Cells to faces gradient\n\n# Plot Sparse Representation\nfig = plt.figure(figsize=(5, 6))\n\nax1 = fig.add_subplot(121)\nax1.spy(Me * Gn, markersize=0.5)\nax1.set_title(\"Me*Gn\")\n\nax2 = fig.add_subplot(122)\nax2.spy(Mf * Gc, markersize=0.5)\nax2.set_title(\"Mf*Gc\")"
      ]
    }
  ],
  "metadata": {
    "kernelspec": {
      "display_name": "Python 3",
      "language": "python",
      "name": "python3"
    },
    "language_info": {
      "codemirror_mode": {
        "name": "ipython",
        "version": 3
      },
      "file_extension": ".py",
      "mimetype": "text/x-python",
      "name": "python",
      "nbconvert_exporter": "python",
      "pygments_lexer": "ipython3",
      "version": "3.7.4"
    }
  },
  "nbformat": 4,
  "nbformat_minor": 0
}
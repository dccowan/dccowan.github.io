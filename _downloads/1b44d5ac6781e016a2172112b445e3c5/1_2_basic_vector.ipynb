{
  "cells": [
    {
      "cell_type": "code",
      "execution_count": null,
      "metadata": {
        "collapsed": false
      },
      "outputs": [],
      "source": [
        "%matplotlib inline"
      ]
    },
    {
      "cell_type": "markdown",
      "metadata": {},
      "source": [
        "\n# Basic Vector Inner Products\n\nThe inner product between two vector quantities represents one of the most\nbasic classes of inner products. For this class of inner products, we demonstrate:\n\n    - How to construct the inner product matrix\n    - How to use inner product matricies to approximate the inner product\n    - How to construct the inverse of the inner product matrix.\n"
      ]
    },
    {
      "cell_type": "markdown",
      "metadata": {},
      "source": [
        "## Background Theory\n\nFor vector quantities $\\vec{u}$ and $\\vec{w}$, the\ninner product is given by:\n\n\\begin{align}(\\vec{u}, \\vec{w}) = \\int_\\Omega \\vec{u} \\cdot \\vec{w} \\, dv\\end{align}\n\nIn discretized form, we can approximate the aforementioned inner-products as:\n\n\\begin{align}(\\vec{u}, \\vec{w}) \\approx \\boldsymbol{u^T M \\, w}\\end{align}\n\nwhere $\\mathbf{M}$ represents the *inner-product matrix*.\n$\\boldsymbol{u}$ and $\\boldsymbol{w}$\nare discrete variables that live on the mesh (face or edges).\n\nIt is important to note a few things about the inner-product matrix:\n\n    1. It depends on the dimensions and discretization of the mesh\n    2. It depends on whether the discrete scalar quantities live on faces or edges\n\nFor this simple class of inner products, the corresponding form of the inner product matrices for\ndiscrete vector quantities living on faces and edges are shown below:\n\n\\begin{align}\\textrm{Vectors on faces:} \\; \\boldsymbol{M_f} &= \\frac{1}{4} \\boldsymbol{P_f^T } \\textrm{diag} (\\boldsymbol{e_k \\otimes v} ) \\boldsymbol{P_f} \\\\\n    \\textrm{Vectors on edges:} \\; \\boldsymbol{M_e} &= \\frac{1}{4^{k-1}} \\boldsymbol{P_e^T } \\textrm{diag} (\\boldsymbol{e_k \\otimes v}) \\boldsymbol{P_e}\\end{align}\n\nwhere\n\n    - $\\boldsymbol{v}$ is a vector that stores all of the volumes of the cells\n    - $k = 1,2,3$ represent the dimension (1D, 2D or 3D)\n    - $\\boldsymbol{e_k}$ is a vector of 1s of length $k$\n    - $\\otimes$ is the kronecker product\n    - $\\boldsymbol{P_f}$ is a projection matrix that maps quantities from faces to cell centers\n    - $\\boldsymbol{P_e}$ is a projection matrix that maps quantities from faces to cell centers\n\n\n\n"
      ]
    },
    {
      "cell_type": "markdown",
      "metadata": {},
      "source": [
        "## Import Packages\n\n\n"
      ]
    },
    {
      "cell_type": "code",
      "execution_count": null,
      "metadata": {
        "collapsed": false
      },
      "outputs": [],
      "source": [
        "from discretize.utils import sdiag\nfrom discretize import TensorMesh\nimport matplotlib.pyplot as plt\nimport numpy as np\n\n# sphinx_gallery_thumbnail_number = 1"
      ]
    },
    {
      "cell_type": "markdown",
      "metadata": {},
      "source": [
        "## Approximating the Inner Product for 2D Vectors\n\nTo preserve the natural boundary conditions for each cell, it is standard\npractice to define fields on cell edges and fluxes on cell faces. Here we\nwill define a 2D vector quantity:\n\n\\begin{align}\\vec{u}(x,y) = \\Bigg [ \\frac{-y}{r} \\hat{x} + \\frac{x}{r} \\hat{y} \\Bigg ]\n    \\, e^{-\\frac{x^2+y^2}{2\\sigma^2}}\\end{align}\n\nWe will then evaluate the following inner product:\n\n\\begin{align}(\\vec{u}, \\vec{u}) = \\int_\\Omega \\vec{u} \\cdot \\vec{u} \\, da\n    = 2 \\pi \\sigma^2\\end{align}\n\nusing inner-product matricies. Next we compare the numerical evaluation\nof the inner products with the analytic solution. *Note that the method for\nevaluating inner products here can be extended to variables in 3D*.\n\n\n"
      ]
    },
    {
      "cell_type": "code",
      "execution_count": null,
      "metadata": {
        "collapsed": false
      },
      "outputs": [],
      "source": [
        "# Define vector components of the function\ndef fcn_x(xy, sig):\n    return (-xy[:, 1] / np.sqrt(np.sum(xy ** 2, axis=1))) * np.exp(\n        -0.5 * np.sum(xy ** 2, axis=1) / sig ** 2\n    )\n\ndef fcn_y(xy, sig):\n    return (xy[:, 0] / np.sqrt(np.sum(xy ** 2, axis=1))) * np.exp(\n        -0.5 * np.sum(xy ** 2, axis=1) / sig ** 2\n    )\n\n# The analytic solution of (u, u)\nsig = 1.5\nipt = np.pi * sig ** 2\n\n# Create a tensor mesh that is sufficiently large\nh = 0.1 * np.ones(100)\nmesh = TensorMesh([h, h], \"CC\")\n\n# Evaluate inner-product using edge-defined discrete variables\nux = fcn_x(mesh.edges_x, sig)\nuy = fcn_y(mesh.edges_y, sig)\nu = np.r_[ux, uy]\n\nMe = mesh.get_edge_inner_product()  # Edge inner product matrix\n\nipe = np.dot(u, Me * u)\n\n# Evaluate inner-product using face-defined discrete variables\nux = fcn_x(mesh.faces_x, sig)\nuy = fcn_y(mesh.faces_y, sig)\nu = np.r_[ux, uy]\n\nMf = mesh.get_face_inner_product()  # Edge inner product matrix\n\nipf = np.dot(u, Mf * u)\n\n\n# Plot the vector function\nfig = plt.figure(figsize=(5, 5))\nax = fig.add_subplot(111)\nmesh.plot_image(\n    u, ax=ax, v_type=\"F\", view=\"vec\", stream_opts={\"color\": \"w\", \"density\": 1.0}\n)\nax.set_title(\"u at cell faces\")\n\nfig.show()\n\n# Verify accuracy\nprint(\"ACCURACY\")\nprint(\"Analytic solution:    \", ipt)\nprint(\"Edge variable approx.:\", ipe)\nprint(\"Face variable approx.:\", ipf)"
      ]
    },
    {
      "cell_type": "markdown",
      "metadata": {},
      "source": [
        "## Inverse of Inner Product Matricies\n\nThe final discretized system using the finite volume method may contain\nthe inverse of an inner-product matrix. Here we show how the inverse of\nthe inner product matrix can be explicitly constructed. We validate its\naccuracy for edges and faces by computing the folling\nL2-norm for each:\n\n\\begin{align}\\| \\mathbf{u - M^{-1} M u} \\|^2\\end{align}\n\nwhich we expect to be small\n\n\n"
      ]
    },
    {
      "cell_type": "code",
      "execution_count": null,
      "metadata": {
        "collapsed": false
      },
      "outputs": [],
      "source": [
        "# Create a tensor mesh\nh = 0.1 * np.ones(100)\nmesh = TensorMesh([h, h], \"CC\")\n\n# Cell centered for scalar quantities\nMc = sdiag(mesh.vol)\nMc_inv = sdiag(1 / mesh.vol)\n\n# Inner product for edges\nMe = mesh.get_edge_inner_product()\nMe_inv = mesh.get_edge_inner_product(invert_matrix=True)\n\n# Inner product for faces\nMf = mesh.get_face_inner_product()\nMf_inv = mesh.get_face_inner_product(invert_matrix=True)\n\n# Generate some random vectors\nvec_e = np.random.rand(mesh.nE)\nvec_f = np.random.rand(mesh.nF)\n\n# Compute norms\nnorm_e = np.linalg.norm(vec_e - Me_inv * Me * vec_e)\nnorm_f = np.linalg.norm(vec_f - Mf_inv * Mf * vec_f)\n\n# Verify accuracy\nprint(\"ACCURACY\")\nprint(\"Norm for edges:  \", norm_e)\nprint(\"Norm for faces:  \", norm_f)"
      ]
    }
  ],
  "metadata": {
    "kernelspec": {
      "display_name": "Python 3",
      "language": "python",
      "name": "python3"
    },
    "language_info": {
      "codemirror_mode": {
        "name": "ipython",
        "version": 3
      },
      "file_extension": ".py",
      "mimetype": "text/x-python",
      "name": "python",
      "nbconvert_exporter": "python",
      "pygments_lexer": "ipython3",
      "version": "3.7.4"
    }
  },
  "nbformat": 4,
  "nbformat_minor": 0
}
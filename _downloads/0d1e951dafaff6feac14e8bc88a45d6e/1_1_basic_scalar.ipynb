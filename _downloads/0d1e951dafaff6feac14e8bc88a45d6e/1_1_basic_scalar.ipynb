{
  "cells": [
    {
      "cell_type": "code",
      "execution_count": null,
      "metadata": {
        "collapsed": false
      },
      "outputs": [],
      "source": [
        "%matplotlib inline"
      ]
    },
    {
      "cell_type": "markdown",
      "metadata": {},
      "source": [
        "\n# Basic Scalar Inner Products\n\nThe inner product between two scalar quantities represents the most\nbasic class of inner products. For this class of inner products, we demonstrate:\n\n    - How to construct the inner product matrix for scalar on nodes or at cell centers\n    - How to use inner product matricies to approximate the inner product\n    - How to construct the inverse of the inner product matrix\n"
      ]
    },
    {
      "cell_type": "markdown",
      "metadata": {},
      "source": [
        "## Background Theory\n\nFor scalar quantities $\\psi$ and $\\phi$, the\ninner product is defined as:\n\n\\begin{align}(\\psi , \\phi ) = \\int_\\Omega \\psi \\, \\phi \\, dv\\end{align}\n\nIn discretized form, we can approximate the aforementioned inner-products as:\n\n\\begin{align}(\\psi , \\phi) \\approx \\mathbf{\\psi^T \\, M \\, \\phi}\\end{align}\n\nwhere $\\mathbf{M}$ represents the *inner-product matrix*.\n$\\mathbf{\\psi}$ and $\\mathbf{\\phi}$\nare discrete variables that live on the mesh (nodes or cell centers).\n\nIt is important to note a few things about the inner-product matrix:\n\n    1. It depends on the dimensions and discretization of the mesh\n    2. It depends on whether the discrete scalar quantities live at cell centers or on nodes\n\nFor this simple class of inner products, the inner product matricies for\ndiscrete scalar quantities living on various parts of the mesh have the form:\n\n\\begin{align}\\textrm{Centers:} \\; \\mathbf{M_c} &= \\textrm{diag} (\\mathbf{v} ) \\\\\n    \\textrm{Nodes:} \\; \\mathbf{M_n} &= \\frac{1}{2^{2k}} \\mathbf{P_n^T } \\textrm{diag} (\\mathbf{v} ) \\mathbf{P_n}\\end{align}\nwhere\n\n    - $\\mathbf{v}$ is a vector that contains the cell volumes\n    - $k = 1,2,3$ is the dimension (1D, 2D or 3D)\n    - $\\mathbf{P_n}$ is a projection matrix that maps from nodes to cell centers\n\n\n\n"
      ]
    },
    {
      "cell_type": "markdown",
      "metadata": {},
      "source": [
        "## Import Packages\n\n\n"
      ]
    },
    {
      "cell_type": "code",
      "execution_count": null,
      "metadata": {
        "collapsed": false
      },
      "outputs": [],
      "source": [
        "from discretize.utils import sdiag\nfrom discretize import TensorMesh\nimport matplotlib.pyplot as plt\nimport numpy as np\n\n# sphinx_gallery_thumbnail_number = 1"
      ]
    },
    {
      "cell_type": "markdown",
      "metadata": {},
      "source": [
        "## Inner Product Matrices in 1D\n\nHere we define a scalar function (a Gaussian distribution):\n\n\\begin{align}\\phi(x) = \\frac{1}{\\sqrt{2 \\pi \\sigma^2}} \\, e^{- \\frac{(x- \\mu )^2}{2 \\sigma^2}}\\end{align}\n\n\nWe then use the inner product matrx to approximate the following inner product\nnumerically:\n\n\\begin{align}(\\phi , \\phi) = \\int_\\Omega \\phi^2 \\, dx = \\frac{1}{2\\sigma \\sqrt{\\pi}}\\end{align}\n\n\nTo evaluate our approximation, we compare agains the analytic solution.\n*Note that the method for evaluating inner products here can be\nextended to variables in 2D and 3D*.\n\n\n"
      ]
    },
    {
      "cell_type": "code",
      "execution_count": null,
      "metadata": {
        "collapsed": false
      },
      "outputs": [],
      "source": [
        "# Define the Gaussian function\ndef fcn_gaussian(x, mu, sig):\n    return (1 / np.sqrt(2 * np.pi * sig ** 2)) * np.exp(-0.5 * (x - mu) ** 2 / sig ** 2)\n\n\n# Create a tensor mesh that is sufficiently large\nh = 0.1 * np.ones(100)\nmesh = TensorMesh([h], \"C\")\n\n# Define center point and standard deviation\nmu = 0\nsig = 1.5\n\n# Evaluate at cell centers and nodes\nphi_c = fcn_gaussian(mesh.gridCC, mu, sig)\nphi_n = fcn_gaussian(mesh.gridN, mu, sig)\n\n# Define inner-product matricies\nMc = sdiag(mesh.vol)  # cell-centered\n# Mn = mesh.getNodalInnerProduct()  # on nodes (*functionality pending*)\n\n# Compute the inner product\nipt = 1 / (2 * sig * np.sqrt(np.pi))  # true value of (phi, phi)\nipc = np.dot(phi_c, (Mc * phi_c))  # inner product for cell centers\n# ipn = np.dot(phi_n, (Mn*phi_n)) (*functionality pending*)\n\nfig = plt.figure(figsize=(3, 3))\nax = fig.add_subplot(111)\nax.plot(mesh.cell_centers, phi_c)\nax.set_title(\"phi at cell centers\")\n\n# Verify accuracy\nprint(\"ACCURACY\")\nprint(\"Analytic solution:    \", ipt)\nprint(\"Cell-centered approx.:\", ipc)\n# print('Nodal approx.:        ', ipn)"
      ]
    },
    {
      "cell_type": "markdown",
      "metadata": {},
      "source": [
        "## Inverse of Inner Product Matricies\n\nThe final discretized system using the finite volume method may contain\nthe inverse of an inner-product matrix. Here we show how the inverse of\nthe inner product matrix can be explicitly constructed. We then validate its\naccuracy for cell-centers and nodes by computing the following\nL2-norm for each:\n\n\\begin{align}\\| \\mathbf{u - M^{-1} M u} \\|^2\\end{align}\n\nwhich we expect to be very small.\n\n\n"
      ]
    },
    {
      "cell_type": "code",
      "execution_count": null,
      "metadata": {
        "collapsed": false
      },
      "outputs": [],
      "source": [
        "# Create a tensor mesh\nh = 0.1 * np.ones(100)\nmesh = TensorMesh([h, h], \"CC\")\n\n# Inner product and inverse for cell centered scalar quantities\nMc = sdiag(mesh.vol)\nMc_inv = sdiag(1 / mesh.vol)\n\n# Inner product and inverse for nodal scalar quantities\n# Mn = mesh.get_nodal_inner_product()\n# Mn_inv = mesh.get_nodal_inner_product(invert_matrix=True)\n\n# Generate a random vector\nphi_c = np.random.rand(mesh.nC)\nphi_n = np.random.rand(mesh.nN)\n\n# Compute the norm\nnorm_c = np.linalg.norm(phi_c - Mc_inv.dot(Mc.dot(phi_c)))\n# norm_n = np.linalg.norm(phi_n - Mn_inv.dot(Mn.dot(phi_n)))\n\n# Verify accuracy\nprint(\"ACCURACY\")\nprint(\"Norm for centers:\", norm_c)\nprint(\"Norm for nodes:\", norm_c)"
      ]
    }
  ],
  "metadata": {
    "kernelspec": {
      "display_name": "Python 3",
      "language": "python",
      "name": "python3"
    },
    "language_info": {
      "codemirror_mode": {
        "name": "ipython",
        "version": 3
      },
      "file_extension": ".py",
      "mimetype": "text/x-python",
      "name": "python",
      "nbconvert_exporter": "python",
      "pygments_lexer": "ipython3",
      "version": "3.7.4"
    }
  },
  "nbformat": 4,
  "nbformat_minor": 0
}
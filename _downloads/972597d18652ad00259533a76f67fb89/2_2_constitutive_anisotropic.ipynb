{
  "cells": [
    {
      "cell_type": "code",
      "execution_count": null,
      "metadata": {
        "collapsed": false
      },
      "outputs": [],
      "source": [
        "%matplotlib inline"
      ]
    },
    {
      "cell_type": "markdown",
      "metadata": {},
      "source": [
        "\n# Constitutive Relations (Anisotropic)\n\nA constitutive relationship quantifies the response of a material to an external stimulus.\nExamples include Ohm's law and Hooke's law.\nWhen the constitutive relationship is anisotropic, the relationship\nis between quantities is direction-dependent and must be defined by a tensor.\n\nWhen solving PDEs using the finite volume approach, inner products may\ncontain anisotropic constitutive relations. In this tutorial, you will learn how to:\n\n    - construct the inner-product matrix in the case of anisotropic constitutive relations\n    - construct the inverse of the inner-product matrix\n    - work with constitutive relations defined by the reciprocal of a parameter\n"
      ]
    },
    {
      "cell_type": "markdown",
      "metadata": {},
      "source": [
        "## Background Theory\n\nLet $\\vec{v}$ and $\\vec{w}$ be two physically related\nquantities. If their relationship is anisotropic,\nthen the constitutive relation is given by:\n\n\\begin{align}\\vec{v} = \\Sigma \\vec{w}\\end{align}\n\nwhere\n\n\\begin{align}\\Sigma = \\begin{bmatrix} \\sigma_{1} & \\sigma_{4} & \\sigma_{5} \\\\\n    \\sigma_{4} & \\sigma_{2} & \\sigma_{6} \\\\\n    \\sigma_{5} & \\sigma_{6} & \\sigma_{3} \\end{bmatrix}\\end{align}\n\nis symmetric and defined by 6 independent parameters. The inner product between\na vector $\\vec{u}$ and the right-hand side of this expression is given\nby:\n\n\\begin{align}(\\vec{u}, \\Sigma \\vec{w} ) = \\int_\\Omega \\vec{u} \\cdot \\Sigma \\vec{w}  \\, dv\\end{align}\n\nAssuming the constitutive relationship is spatially invariant within each\ncell of a mesh, the inner product can be approximated numerically using\nan *inner-product matrix* such that:\n\n\\begin{align}(\\vec{u}, \\Sigma \\vec{w} ) \\approx \\mathbf{u^T M w}\\end{align}\n\nwhere the inner product matrix $\\mathbf{M}$ depends on:\n\n    1. the dimensions and discretization of the mesh\n    2. where discrete variables $\\mathbf{u}$ and $\\mathbf{w}$ live\n    3. the spatial distribution and properties of the tensor $\\Sigma$\n\n\n"
      ]
    },
    {
      "cell_type": "markdown",
      "metadata": {},
      "source": [
        "## Import Packages\n\n\n"
      ]
    },
    {
      "cell_type": "code",
      "execution_count": null,
      "metadata": {
        "collapsed": false
      },
      "outputs": [],
      "source": [
        "from discretize import TensorMesh\nimport numpy as np\nimport matplotlib.pyplot as plt\n\n# sphinx_gallery_thumbnail_number = 1"
      ]
    },
    {
      "cell_type": "markdown",
      "metadata": {},
      "source": [
        "## Inner Product for a Single Cell\n\nHere we compare the inner product matricies for a single cell when the\nconstitutive relationship is:\n\n    - **isotropic:** $\\sigma_1 = \\sigma_2 = \\sigma_3 = \\sigma$ and $\\sigma_4 = \\sigma_5 = \\sigma_6 = 0$; e.g. $\\vec{J} = \\sigma \\vec{E}$\n    - **diagonal anisotropic:** independent parameters $\\sigma_1, \\sigma_2, \\sigma_3$ and $\\sigma_4 = \\sigma_5 = \\sigma_6 = 0$\n    - **fully anisotropic:** independent parameters $\\sigma_1, \\sigma_2, \\sigma_3, \\sigma_4, \\sigma_5, \\sigma_6$\n\nWhen approximating the inner product according to the finite volume approach,\nthe constitutive parameters are defined at cell centers; even if the\nfields/fluxes live at cell edges/faces. As we will see, inner-product\nmatricies are generally diagonal; except for in the fully anisotropic case\nwhere the inner product matrix contains a significant number of non-diagonal\nentries.\n\n\n"
      ]
    },
    {
      "cell_type": "code",
      "execution_count": null,
      "metadata": {
        "collapsed": false
      },
      "outputs": [],
      "source": [
        "# Create a single 3D cell\nh = np.ones(1)\nmesh = TensorMesh([h, h, h])\n\n# Define 6 constitutive parameters for the cell\nsig1, sig2, sig3, sig4, sig5, sig6 = 6, 5, 4, 3, 2, 1\n\n# Isotropic case\nsig = sig1 * np.ones((1, 1))\nsig_tensor_1 = np.diag(sig1 * np.ones(3))\nMe1 = mesh.get_edge_inner_product(sig)  # Edges inner product matrix\nMf1 = mesh.get_face_inner_product(sig)  # Faces inner product matrix\n\n# Diagonal anisotropic\nsig = np.c_[sig1, sig2, sig3]\nsig_tensor_2 = np.diag(np.array([sig1, sig2, sig3]))\nMe2 = mesh.get_edge_inner_product(sig)\nMf2 = mesh.get_face_inner_product(sig)\n\n# Full anisotropic\nsig = np.c_[sig1, sig2, sig3, sig4, sig5, sig6]\nsig_tensor_3 = np.diag(np.array([sig1, sig2, sig3]))\nsig_tensor_3[(0, 1), (1, 0)] = sig4\nsig_tensor_3[(0, 2), (2, 0)] = sig5\nsig_tensor_3[(1, 2), (2, 1)] = sig6\nMe3 = mesh.get_edge_inner_product(sig)\nMf3 = mesh.get_face_inner_product(sig)\n\n# Plotting matrix entries\nfig = plt.figure(figsize=(12, 12))\n\nax1 = fig.add_subplot(331)\nax1.imshow(sig_tensor_1)\nax1.set_title(\"Property Tensor (isotropic)\")\n\nax2 = fig.add_subplot(332)\nax2.imshow(sig_tensor_2)\nax2.set_title(\"Property Tensor (diagonal anisotropic)\")\n\nax3 = fig.add_subplot(333)\nax3.imshow(sig_tensor_3)\nax3.set_title(\"Property Tensor (full anisotropic)\")\n\nax4 = fig.add_subplot(334)\nax4.imshow(Mf1.todense())\nax4.set_title(\"M-faces Matrix (isotropic)\")\n\nax5 = fig.add_subplot(335)\nax5.imshow(Mf2.todense())\nax5.set_title(\"M-faces Matrix (diagonal anisotropic)\")\n\nax6 = fig.add_subplot(336)\nax6.imshow(Mf3.todense())\nax6.set_title(\"M-faces Matrix (full anisotropic)\")\n\nax7 = fig.add_subplot(337)\nax7.imshow(Me1.todense())\nax7.set_title(\"M-edges Matrix (isotropic)\")\n\nax8 = fig.add_subplot(338)\nax8.imshow(Me2.todense())\nax8.set_title(\"M-edges Matrix (diagonal anisotropic)\")\n\nax9 = fig.add_subplot(339)\nax9.imshow(Me3.todense())\nax9.set_title(\"M-edges Matrix (full anisotropic)\")"
      ]
    },
    {
      "cell_type": "markdown",
      "metadata": {},
      "source": [
        "## Spatially Variant Parameters\n\nIn practice, the tensor $\\Sigma$ will\nvary spatially. In this case, we must define the\n6 parameters in $\\Sigma$ for each cell. When\ncreating the inner product matrix, we enter these parameters as\na numpy array. This is demonstrated below. Properties of the resulting\ninner product matricies are discussed.\n\n\n"
      ]
    },
    {
      "cell_type": "code",
      "execution_count": null,
      "metadata": {
        "collapsed": false
      },
      "outputs": [],
      "source": [
        "# Create a small 3D mesh\nh = np.ones(5)\nmesh = TensorMesh([h, h, h])\n\n# Isotropic case: (nC, ) numpy array\nsig = np.random.rand(mesh.nC)            # sig for each cell\nMe1 = mesh.get_edge_inner_product(sig)   # Edges inner product matrix\nMf1 = mesh.get_face_inner_product(sig)   # Faces inner product matrix\n\n# Linear case: (nC, dim) numpy array\nsig = np.random.rand(mesh.nC, mesh.dim)\nMe2 = mesh.get_edge_inner_product(sig)\nMf2 = mesh.get_face_inner_product(sig)\n\n# Anisotropic case: (nC, 3) for 2D and (nC, 6) for 3D\nsig = np.random.rand(mesh.nC, 6)\nMe3 = mesh.get_edge_inner_product(sig)\nMf3 = mesh.get_face_inner_product(sig)\n\n# Properties of inner product matricies\nprint(\"\\n EDGE INNER PRODUCT MATRIX\")\nprint(\"- Number of edges              :\", mesh.nE)\nprint(\"- Dimensions of operator       :\", str(mesh.nE), \"x\", str(mesh.nE))\nprint(\"- Number non-zero (isotropic)  :\", str(Me1.nnz))\nprint(\"- Number non-zero (linear)     :\", str(Me2.nnz))\nprint(\"- Number non-zero (anisotropic):\", str(Me3.nnz), \"\\n\")\n\nprint(\"\\n FACE INNER PRODUCT MATRIX\")\nprint(\"- Number of faces              :\", mesh.nF)\nprint(\"- Dimensions of operator       :\", str(mesh.nF), \"x\", str(mesh.nF))\nprint(\"- Number non-zero (isotropic)  :\", str(Mf1.nnz))\nprint(\"- Number non-zero (linear)     :\", str(Mf2.nnz))\nprint(\"- Number non-zero (anisotropic):\", str(Mf3.nnz), \"\\n\")"
      ]
    },
    {
      "cell_type": "markdown",
      "metadata": {},
      "source": [
        "## Inverse\n\nYou may need to compute the inverse of the inner product matrix for \nconstitutive relationships. Here we show how to call this\nusing the *invert_matrix* keyword argument.\n\nFor the isotropic and diagonally anisotropic cases, the inner product matrix\nis diagonal. As a result, its inverse can be easily formed. For the full\nanisotropic case however, we cannot expicitly form the inverse because the\ninner product matrix contains a significant number of off-diagonal elements.\n\nFor the isotropic and diagonal anisotropic cases we can form\n$\\mathbf{M}^{-1}$ then apply it to a vector using the $*$\noperator. For the full anisotropic case, we must form the inner product\nmatrix and do a numerical solve.\n\n\n"
      ]
    },
    {
      "cell_type": "code",
      "execution_count": null,
      "metadata": {
        "collapsed": false
      },
      "outputs": [],
      "source": [
        "# Create a small 3D mesh\nh = np.ones(5)\nmesh = TensorMesh([h, h, h])\n\n# Isotropic case: (nC, ) numpy array\nsig = np.random.rand(mesh.nC)\nMe1_inv = mesh.get_edge_inner_product(sig, invert_matrix=True)\nMf1_inv = mesh.get_face_inner_product(sig, invert_matrix=True)\n\n# Diagonal anisotropic: (nC, dim) numpy array\nsig = np.random.rand(mesh.nC, mesh.dim)\nMe2_inv = mesh.get_edge_inner_product(sig, invert_matrix=True)\nMf2_inv = mesh.get_face_inner_product(sig, invert_matrix=True)\n\n# Full anisotropic: (nC, 3) for 2D and (nC, 6) for 3D\nsig = np.random.rand(mesh.nC, 6)\nMe3 = mesh.get_edge_inner_product(sig)\nMf3 = mesh.get_face_inner_product(sig)"
      ]
    },
    {
      "cell_type": "markdown",
      "metadata": {},
      "source": [
        "## Reciprocal Properties\n\nAt times, the constitutive relation may be defined by the reciprocal of\na parameter ($\\rho$). Here we demonstrate how inner product matricies\ncan be formed using the keyword argument *invert_model*. We will do this for a\nsingle cell and plot the matrix elements. We can easily extend this to\na mesh comprised of many cells.\n\nIn the case that the constitutive relation is defined by a\ntensor $P$, e.g.:\n\n\\begin{align}\\vec{v} = P \\vec{w}\\end{align}\n\nwhere\n\n\\begin{align}P = \\begin{bmatrix} \\rho_{1}^{-1} & \\rho_{4}^{-1} & \\rho_{5}^{-1} \\\\\n    \\rho_{4}^{-1} & \\rho_{2}^{-1} & \\rho_{6}^{-1} \\\\\n    \\rho_{5}^{-1} & \\rho_{6}^{-1} & \\rho_{3}^{-1} \\end{bmatrix}\\end{align}\n\nThe inner product between a vector $\\vec{u}$ and the right-hand side of\nthis expression is given by:\n\n\\begin{align}(\\vec{u}, P \\vec{w} ) = \\int_\\Omega \\vec{u} \\cdot P \\vec{w}  \\, dv\\end{align}\n\nOnce again we would like to approximate the inner product numerically using an\n*inner-product matrix* $\\mathbf{M_P}$ such that:\n\n\\begin{align}(\\vec{u}, P \\vec{w} ) \\approx \\mathbf{u^T M_P w}\\end{align}\n\nHere we demonstrate how to form the inner-product matricies\n$\\mathbf{M_{\\rho^{-1}}}$ and $\\mathbf{M_P}$.\n\n\n"
      ]
    },
    {
      "cell_type": "code",
      "execution_count": null,
      "metadata": {
        "collapsed": false
      },
      "outputs": [],
      "source": [
        "# Create a small 3D mesh\nh = np.ones(1)\nmesh = TensorMesh([h, h, h])\n\n# Define 6 constitutive parameters for the cell\nrho1, rho2, rho3, rho4, rho5, rho6 = (\n    1.0 / 6.0,\n    1.0 / 5.0,\n    1.0 / 4.0,\n    1.0 / 3.0,\n    1.0 / 2.0,\n    1,\n)\n\n# Isotropic case\nrho = rho1 * np.ones((1, 1))\nMe1 = mesh.get_edge_inner_product(rho, inverse_model=True)  # Edges inner product matrix\nMf1 = mesh.get_face_inner_product(rho, inverse_model=True)  # Faces inner product matrix\n\n# Diagonal anisotropic case\nrho = np.c_[rho1, rho2, rho3]\nMe2 = mesh.get_edge_inner_product(rho, inverse_model=True)\nMf2 = mesh.get_face_inner_product(rho, inverse_model=True)\n\n# Full anisotropic case\nrho = np.c_[rho1, rho2, rho3, rho4, rho5, rho6]\nMe3 = mesh.get_edge_inner_product(rho, inverse_model=True)\nMf3 = mesh.get_face_inner_product(rho, inverse_model=True)\n\n# Plotting matrix entries\nfig = plt.figure(figsize=(14, 9))\n\nax1 = fig.add_subplot(231)\nax1.imshow(Mf1.todense())\nax1.set_title(\"Isotropic (Faces)\")\n\nax2 = fig.add_subplot(232)\nax2.imshow(Mf2.todense())\nax2.set_title(\"Diagonal Anisotropic (Faces)\")\n\nax3 = fig.add_subplot(233)\nax3.imshow(Mf3.todense())\nax3.set_title(\"Full Anisotropic (Faces)\")\n\nax4 = fig.add_subplot(234)\nax4.imshow(Me1.todense())\nax4.set_title(\"Isotropic (Edges)\")\n\nax5 = fig.add_subplot(235)\nax5.imshow(Me2.todense())\nax5.set_title(\"Diagonal Anisotropic (Edges)\")\n\nax6 = fig.add_subplot(236)\nax6.imshow(Me3.todense())\nax6.set_title(\"Full Anisotropic (Edges)\")"
      ]
    }
  ],
  "metadata": {
    "kernelspec": {
      "display_name": "Python 3",
      "language": "python",
      "name": "python3"
    },
    "language_info": {
      "codemirror_mode": {
        "name": "ipython",
        "version": 3
      },
      "file_extension": ".py",
      "mimetype": "text/x-python",
      "name": "python",
      "nbconvert_exporter": "python",
      "pygments_lexer": "ipython3",
      "version": "3.7.4"
    }
  },
  "nbformat": 4,
  "nbformat_minor": 0
}
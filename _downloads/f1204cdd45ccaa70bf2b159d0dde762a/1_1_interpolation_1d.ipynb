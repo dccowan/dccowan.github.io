{
  "cells": [
    {
      "cell_type": "code",
      "execution_count": null,
      "metadata": {
        "collapsed": false
      },
      "outputs": [],
      "source": [
        "%matplotlib inline"
      ]
    },
    {
      "cell_type": "markdown",
      "metadata": {},
      "source": [
        "\n# Interpolation and Averaging in 1D\n\nInterpolation is used when a discrete quantity is known on the mesh (centers, nodes, edges or faces),\nbut we would like to estimate its value at locations within the continuous domain.\nFor any mesh type, *discretize* allows the user to construct a sparse interpolation matrix\nfor a corresponding set of locations.\n\nIn *discretize*, averaging matrices are constructed when a discrete quantity must be mapped\nbetween centers, nodes, edges or faces.\nAveraging matrices are a property of the mesh and are constructed when called.\n\nIn this tutorial, we demonstrate:\n\n        - how to construct interpolation and averaging matrices\n        - how to apply the interpolation and averaging to 1D functions\n    \n"
      ]
    },
    {
      "cell_type": "markdown",
      "metadata": {},
      "source": [
        "## Background Theory\n\nLet us define a 1D mesh that contains 8 cells of arbitrary width.\nThe mesh is illustrated in the figure below. The width of each cell is\ndefined as $h_i$. The location of each node is defined as $x_i$.\n\n.. figure:: ../../images/interpolation_1d.png\n    :align: center\n    :width: 600\n    :name: operators_interpolation_1d\n\n    Tensor mesh in 1D.\n\nNow let $u(x)$ be a function whose values are known at the nodes;\ni.e. $u_i = u(x_i)$.\nThe approximate value of the function at location $x^*$ \nusing linear interpolation is given by:\n\n\\begin{align}u(x^*) \\approx u_3 + \\Bigg ( \\frac{u_4 - u_3}{h_3} \\Bigg ) (x^* - x_3)\n    :label: operators_averaging_interpolation_1d\\end{align}\n\n\nSuppose now that we organize the known values of $u(x)$ at the nodes\ninto a vector of the form:\n\n\\begin{align}\\boldsymbol{u} = \\begin{bmatrix} u_0 & u_1 & u_2 & u_3 & u_4 & u_5 & u_6 & u_7 & u_8 \\end{bmatrix}^T\\end{align}\n\nIf we define a row:\n\n\\begin{align}\\boldsymbol{p_0} = \\begin{bmatrix} 0 & 0 & 0 & a_3 & a_4 & 0 & 0 & 0 & 0 \\end{bmatrix}\\end{align}\n\nwhere\n\n\\begin{align}a_3 = 1 - \\frac{x^* - x_3}{h_3} \\;\\;\\;\\;\\; \\textrm{and} \\;\\;\\;\\;\\; a_4 = \\frac{x^* - x_3}{h_3}\\end{align}\n\nthen\n\n\\begin{align}u(x^*) \\approx \\boldsymbol{p_0 \\, u}\\end{align}\n\nFor a single location, we have just seen how a linear operator can be constructed to\ncompute the interpolation using a matrix vector-product.\n\nNow consider the case where you would like to interpolate the function from the nodes to\nan arbitrary number of locations within the boundaries of the mesh.\nFor each location, we simply construct the corresponding row in the interpolation matrix.\nWhere $\\boldsymbol{u^*}$ is a vector containing the approximations of $u(x)$ at $M$\nlocations:\n\n\\begin{align}\\boldsymbol{u^*} \\approx \\boldsymbol{P\\, u} \\;\\;\\;\\;\\;\\; \\textrm{where} \\;\\;\\;\\;\\;\\;\n    \\boldsymbol{P} = \\begin{bmatrix} \\cdots \\;\\; \\boldsymbol{p_0} \\;\\; \\cdots \\\\\n    \\cdots \\;\\; \\boldsymbol{p_1} \\;\\; \\cdots \\\\ \\vdots \\\\\n    \\cdots \\, \\boldsymbol{p_{M-1}} \\, \\cdots \\end{bmatrix}\n    :label: operators_averaging_interpolation_matrix\\end{align}\n\n$\\boldsymbol{P}$ is a sparse matrix whose rows contain a maximum of 2 non-zero elements.\nThe size of $\\boldsymbol{P}$ is the number of locations by the number of nodes.\nFor seven locations ($x^* = 3,1,9,2,5,2,10$) and our mesh (9 nodes),\nthe non-zero elements of the interpolation matrix are illustrated below.\n\n.. figure:: ../../images/interpolation_1d_sparse.png\n    :align: center\n    :width: 250\n\n\n"
      ]
    },
    {
      "cell_type": "markdown",
      "metadata": {},
      "source": [
        "## Import Packages\n\n\n"
      ]
    },
    {
      "cell_type": "code",
      "execution_count": null,
      "metadata": {
        "collapsed": false
      },
      "outputs": [],
      "source": [
        "from discretize import TensorMesh, TreeMesh\nfrom discretize.utils import refine_tree_xyz\nimport matplotlib as mpl\nimport matplotlib.pyplot as plt\nimport numpy as np\nmpl.rcParams.update({'font.size':14})\n\n# sphinx_gallery_thumbnail_number = 1"
      ]
    },
    {
      "cell_type": "markdown",
      "metadata": {},
      "source": [
        "## Constructing and Applying a 1D Interpolation Matrix\n\nHere we discretize a continuous scalar function to live on cell nodes,\nthen interpolate the values to a set of locations within the domain.\nNext, we compute the scalar function at the specified locations to\nvalidate out 1D interpolation operator.\n\n\n"
      ]
    },
    {
      "cell_type": "code",
      "execution_count": null,
      "metadata": {
        "collapsed": false
      },
      "outputs": [],
      "source": [
        "# Create a uniform grid\nh = 10 * np.ones(20)\nmesh = TensorMesh([h], \"C\")\n\n# Define locations\nx_nodes = mesh.nodes_x\n\n# Define a set of locations for the interpolation\nnp.random.seed(6)\nx_interp = np.random.uniform(np.min(x_nodes), np.max(x_nodes), 20)\n\n# Define a continuous function\ndef fun(x):\n    return np.exp(-(x ** 2) / 50 ** 2)\n\n# Compute function on nodes and at the location\nv_nodes = fun(x_nodes)\nv_true = fun(x_interp)\n\n# Create interpolation matrix and apply. When creating the interpolation matrix,\n# we must define where the discrete quantity lives and where it is being\n# interpolated to.\nP = mesh.get_interpolation_matrix(x_interp, 'N')\nv_interp = P * v_nodes\n\n# Compare\nfig = plt.figure(figsize=(12, 4))\nax1 = fig.add_axes([0.1, 0.05, 0.25, 0.8])\nax1.spy(P, markersize=5)\nax1.set_title(\"Spy plot for interpolation operator\", pad=15)\n\nk = np.argsort(x_interp)\n\nax2 = fig.add_axes([0.45, 0.1, 0.5, 0.8])\nax2.plot(\n    x_nodes, v_nodes, 'k',\n    x_interp[k], v_true[k], \"b^\",\n    x_interp[k], v_interp[k], \"gv\",\n    x_interp[k], np.c_[v_true[k] - v_interp[k]], \"ro\",\n)\nax2.set_ylim([-0.1, 1.5])\nax2.set_title(\"Comparison plot\")\nax2.legend(\n    (\n    \"original function\", \"true value at locations\",\n    \"interpolated from nodes\", \"error\"\n    ), loc=\"upper right\"\n)\n\nfig.show()"
      ]
    },
    {
      "cell_type": "markdown",
      "metadata": {},
      "source": [
        "## Constructing and Applying a 1D Averaging Matrix\n\nHere we compute a scalar function on cell nodes and average to cell centers.\nWe then compute the scalar function at cell centers to validate the\naveraging operator.\n\n\n"
      ]
    },
    {
      "cell_type": "code",
      "execution_count": null,
      "metadata": {
        "collapsed": false
      },
      "outputs": [],
      "source": [
        "# Create a uniform grid\nh = 10 * np.ones(20)\nmesh = TensorMesh([h], \"C\")\n\n# Get node and cell center locations\nx_nodes = mesh.vectorNx\nx_centers = mesh.vectorCCx\n\n# Define a continuous function\ndef fun(x):\n    return np.exp(-(x ** 2) / 50 ** 2)\n\n# Compute function on nodes and cell centers\nv_nodes = fun(x_nodes)\nv_centers = fun(x_centers)\n\n# Create operator and average from nodes to cell centers\nA = mesh.average_node_to_cell\nv_approx = A * v_nodes\n\n# Compare\nfig = plt.figure(figsize=(12, 4))\nax1 = fig.add_axes([0.1, 0.05, 0.25, 0.8])\nax1.spy(A, markersize=5)\nax1.set_title(\"Sparse representation of A\", pad=10)\n\nax2 = fig.add_axes([0.45, 0.1, 0.5, 0.8])\nax2.plot(\n    x_centers, v_centers, \"b-\",\n    x_centers, v_approx, \"ko\",\n    x_centers, np.c_[v_centers - v_approx], \"r-\"\n)\nax2.set_title(\"Comparison plot\")\nax2.legend((\"evaluated at centers\", \"averaged from nodes\", \"error\"))\n\nfig.show()"
      ]
    }
  ],
  "metadata": {
    "kernelspec": {
      "display_name": "Python 3",
      "language": "python",
      "name": "python3"
    },
    "language_info": {
      "codemirror_mode": {
        "name": "ipython",
        "version": 3
      },
      "file_extension": ".py",
      "mimetype": "text/x-python",
      "name": "python",
      "nbconvert_exporter": "python",
      "pygments_lexer": "ipython3",
      "version": "3.7.4"
    }
  },
  "nbformat": 4,
  "nbformat_minor": 0
}
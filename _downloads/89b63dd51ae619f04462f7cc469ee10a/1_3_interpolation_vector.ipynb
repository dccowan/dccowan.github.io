{
  "cells": [
    {
      "cell_type": "code",
      "execution_count": null,
      "metadata": {
        "collapsed": false
      },
      "outputs": [],
      "source": [
        "%matplotlib inline"
      ]
    },
    {
      "cell_type": "markdown",
      "metadata": {},
      "source": [
        "\n# Interpolating and Averaging Vector Quantities in 2D and 3D\n\nInterpolation is used when a discrete quantity is known on the mesh (centers, nodes, edges or faces),\nbut we would like to estimate its value at locations within the continuous domain.\nFor any mesh type, *discretize* allows the user to construct a sparse interpolation matrix\nfor a corresponding set of locations.\n\nIn *discretize*, averaging matrices are constructed when a discrete quantity must be mapped\nbetween centers, nodes, edges or faces.\nAveraging matrices are a property of the mesh and are constructed when called.\n\nIn this tutorial, we demonstrate:\n\n    - how to construct interpolation and averaging matrices\n    - how to apply the interpolation and averaging to vector functions\n    \n"
      ]
    },
    {
      "cell_type": "markdown",
      "metadata": {},
      "source": [
        "## Background Theory\n\nWe will begin by presenting the theory for 2D interpolation, then extend the\ntheory to cover 3D interpolation.\nThe components of a vector quantity are discretized to live either on\ntheir respective mesh faces or edges. Thus different components of the\nvector are being interpolated from different locations.\n\n.. figure:: ../../images/interpolation_2d_vectors.png\n    :align: center\n    :width: 600\n\n    A tensor mesh in 2D denoting interpolation from faces (left) and edges (right).\n\nLet $\\vec{u} (x,y)$ be a 2D vector function that is known on the faces of the mesh;\nthat is, $u_x$ lives on the x-faces and $u_y$ lives on the y-faces. \nNote that in the above figure, the x-faces and y-faces both form tensor grids.\nIf we want to approximate the components of the vector at a location $(x^*,y^*)$,\nwe simply need to treat each component as a scalar function and interpolate it separately.\n\nWhere $u_{x,i}$ represents the x-component of $\\vec{u} (x,y)$ on a face $i$ being used for the interpolation,\nthe approximation of the x-component at $(x^*, y^*)$ has the form:\n\n\\begin{align}u_x(x^*, y^*) \\approx a_0 u_{x,0} + a_1 u_{x,1} + a_2 u_{x,2} + a_3 u_{x,3}\n    :label: operators_interpolation_xvec_coef\\end{align}\n\nFor the the y-component, we have a similar representation:\n\n\\begin{align}u_y(x^*, y^*) \\approx b_0 u_{y,0} + b_1 u_{y,1} + b_2 u_{y,2} + b_3 u_{y,3}\\end{align}\n\nWhere $\\boldsymbol{u}$ is a vector that organizes the discrete components of $\\vec{u} (x,y)$ on cell faces,\nand $\\boldsymbol{u^*}$ is a vector organizing the components of the approximations of $\\vec{u}(x,y)$ at an arbitrary number of locations,\nthe interpolation matrix $\\boldsymbol{P}$ is defined by:\n\n\\begin{align}\\boldsymbol{u^*} \\approx \\boldsymbol{P \\, u}\n    :label: operators_interpolation_2d_sys\\end{align}\n\nwhere\n\n\\begin{align}\\boldsymbol{u} = \\begin{bmatrix} \\boldsymbol{u_x} \\\\ \\boldsymbol{u_y} \\end{bmatrix}\n    \\;\\;\\textrm{,}\\;\\;\\;\\;\n    \\boldsymbol{u^*} = \\begin{bmatrix} \\boldsymbol{u_x^*} \\\\ \\boldsymbol{u_y^*} \\end{bmatrix}\n    \\;\\;\\;\\;\\textrm{and}\\;\\;\\;\\;\n    \\boldsymbol{P} = \\begin{bmatrix} \\boldsymbol{P_x} & \\boldsymbol{0} \\\\ \\boldsymbol{0} & \\boldsymbol{P_y} \\end{bmatrix}\\end{align}\n\nThe interpolation matrix $\\boldsymbol{P}$ is a sparse block-diagonal matrix.\nThe size of the interpolation matrix is the number of locations by the number of faces in the mesh.\n\n**What if we want to interpolate from edges?**\n\nIn this case, the derivation is effectively the same.\nHowever, the locations used for the interpolation are different and\n$\\boldsymbol{u}$ is now a vector that organizes the discrete components of $\\vec{u} (x,y)$ on cell edges.\n\n\n**What if we are interpolating a 3D vector?**\n\nIn this case, there are 8 face locations or 8 edge locations that are used to approximate\n$\\vec{u}(x,y,z)$ at each location $(x^*, y^*, z^*)$.\nSimilar to expression :eq:`operators_interpolation_xvec_coef` we have:\n\n\\begin{align}\\begin{align}\n    u_x(x^*, y^*, z^*) & \\approx \\sum_{i=1}^7 a_i u_{x,i} \\\\\n    u_y(x^*, y^*, z^*) & \\approx \\sum_{i=1}^7 b_i u_{y,i} \\\\\n    u_z(x^*, y^*, z^*) & \\approx \\sum_{i=1}^7 c_i u_{z,i}\n    \\end{align}\\end{align}\n\nThe interpolation can be expressed similar to that in equation :eq:`operators_interpolation_2d_sys`,\nhowever:\n\n\\begin{align}\\boldsymbol{u} = \\begin{bmatrix} \\boldsymbol{u_x} \\\\ \\boldsymbol{u_y} \\\\ \\boldsymbol{u_z} \\end{bmatrix}\n    \\;\\;\\textrm{,}\\;\\;\\;\\;\n    \\boldsymbol{u^*} = \\begin{bmatrix} \\boldsymbol{u_x^*} \\\\ \\boldsymbol{u_y^*} \\\\ \\boldsymbol{u_z^*} \\end{bmatrix}\n    \\;\\;\\;\\;\\textrm{and}\\;\\;\\;\\;\n    \\boldsymbol{P} = \\begin{bmatrix} \\boldsymbol{P_x} & \\boldsymbol{0} & \\boldsymbol{0} \\\\\n    \\boldsymbol{0} & \\boldsymbol{P_y} & \\boldsymbol{0} \\\\\n    \\boldsymbol{0} & \\boldsymbol{0} & \\boldsymbol{P_z} \n    \\end{bmatrix}\\end{align}\n\n\n"
      ]
    },
    {
      "cell_type": "markdown",
      "metadata": {},
      "source": [
        "## Import Packages\n\n\n"
      ]
    },
    {
      "cell_type": "code",
      "execution_count": null,
      "metadata": {
        "collapsed": false
      },
      "outputs": [],
      "source": [
        "from discretize import TensorMesh, TreeMesh\nfrom discretize.utils import refine_tree_xyz\nimport matplotlib as mpl\nimport matplotlib.pyplot as plt\nimport numpy as np\nmpl.rcParams.update({'font.size':14})\n\n# sphinx_gallery_thumbnail_number = 1"
      ]
    },
    {
      "cell_type": "markdown",
      "metadata": {},
      "source": [
        "## Constructing and Applying a 2D/3D Interpolation Matrix\n\nHere we discretize a vector quantity to live on the edges of a 2D tensor mesh,\nwhere the x component lives on x-edges and the y component lives on y-edges.\nWe then use interpolation matrices to approximate the vector components\non the faces of the mesh. That is, we interpolate the x component from x-edges\nto x-faces, and we interpolate the y component from y-edges to y-faces.\nSince the x and y components of vectors are discretized at different locations\non the mesh, separate interpolation matrices must be constructed for the\nx and y components.\n\n\n"
      ]
    },
    {
      "cell_type": "code",
      "execution_count": null,
      "metadata": {
        "collapsed": false
      },
      "outputs": [],
      "source": [
        "# Create a tensor mesh\nh = np.ones(75)\nmesh = TensorMesh([h, h], \"CC\")\n\n# Define the x and y components of the vector function.\n# In this case, the vector function is a circular vortex.\ndef fun_x(xy):\n    r = np.sqrt(np.sum(xy ** 2, axis=1))\n    return 5. * (-xy[:, 1] / r) * (1 + np.tanh(0.15 * (28.0 - r)))\n\ndef fun_y(xy):\n    r = np.sqrt(np.sum(xy ** 2, axis=1))\n    return 5. * (xy[:, 0] / r) * (1 + np.tanh(0.15 * (28.0 - r)))\n\n# Evaluate x and y components of the vector on x and y edges, respectively\nedges_x = mesh.edges_x\nedges_y = mesh.edges_y\n\nux_edges = fun_x(edges_x)\nuy_edges = fun_y(edges_y)\nu_edges = np.r_[ux_edges, uy_edges]\n\n# Compute true x and y components of the vector on x and y faces, respectively\nfaces_x = mesh.faces_x\nfaces_y = mesh.faces_y\n\nux_faces = fun_x(faces_x)\nuy_faces = fun_y(faces_y)\nu_faces = np.r_[ux_faces, uy_faces]\n\n# Generate the interpolation matricies and interpolate from edges to faces.\n# Interpolation matrices from edges and faces assume all vector components\n# are defined on their respective edges or faces. Thus an interpolation matrix\n# from x-edges will extract the x component values then interpolate to locations.\nPx = mesh.get_interpolation_matrix(faces_x, \"Ex\")\nPy = mesh.get_interpolation_matrix(faces_y, \"Ey\")\n\nux_interp = Px*u_edges\nuy_interp = Py*u_edges\nu_interp = np.r_[ux_interp, uy_interp]\n\n# Plotting\nfig = plt.figure(figsize=(14, 4))\n\nax1 = fig.add_axes([0.05, 0.15, 0.22, 0.75])\nmesh.plot_image(\n    u_faces, ax=ax1, v_type=\"F\", view=\"vec\",\n    stream_opts={\"color\": \"w\", \"density\": 1.0}, clim=[0.0, 10.0],\n)\nax1.set_title(\"True Vector on Faces\")\n\nax2 = fig.add_axes([0.35, 0.15, 0.22, 0.75])\nmesh.plot_image(\n    u_interp, ax=ax2, v_type=\"F\", view=\"vec\",\n    stream_opts={\"color\": \"w\", \"density\": 1.0}, clim=[0.0, 10.0],\n)\nax2.set_title(\"Interpolated from Edges to Faces\")\n\nax3 = fig.add_axes([0.65, 0.15, 0.22, 0.75])\nmesh.plot_image(\n    u_faces-u_interp, ax=ax3, v_type=\"F\", view=\"vec\",\n    stream_opts={\"color\": \"w\", \"density\": 1.0}, clim=[0.0, 10.0],\n)\nax3.set_title(\"Error\")\n\nax4 = fig.add_axes([0.92, 0.15, 0.025, 0.75])\nnorm = mpl.colors.Normalize(vmin=0., vmax=10.)\ncbar = mpl.colorbar.ColorbarBase(\n    ax4, norm=norm, orientation=\"vertical\"\n)"
      ]
    },
    {
      "cell_type": "markdown",
      "metadata": {},
      "source": [
        "## Constructing and Applying a 2D Averaging Matrix\n\nHere we compute a vector function that lives on the edges.\nWe then create an averaging operator to approximate the components\nof the vector at cell centers.\n\n\n"
      ]
    },
    {
      "cell_type": "code",
      "execution_count": null,
      "metadata": {
        "collapsed": false
      },
      "outputs": [],
      "source": [
        "# Create a tensor mesh\nh = np.ones(75)\nmesh = TensorMesh([h, h], \"CC\")\n\n# Define the x and y components of the vector function.\n# In this case, the vector function is a circular vortex.\ndef fun_x(xy):\n    r = np.sqrt(np.sum(xy ** 2, axis=1))\n    return 5. * (-xy[:, 1] / r) * (1 + np.tanh(0.15 * (28.0 - r)))\n\ndef fun_y(xy):\n    r = np.sqrt(np.sum(xy ** 2, axis=1))\n    return 5. * (xy[:, 0] / r) * (1 + np.tanh(0.15 * (28.0 - r)))\n\n# Evaluate x and y components of the vector on x and y edges, respectively\nedges_x = mesh.edges_x\nedges_y = mesh.edges_y\n\nux_edges = fun_x(edges_x)\nuy_edges = fun_y(edges_y)\nu_edges = np.r_[ux_edges, uy_edges]\n\n# Compute true x and y components of the vector at cell centers\ncenters = mesh.cell_centers\n\nux_centers = fun_x(centers)\nuy_centers = fun_y(centers)\nu_centers = np.r_[ux_centers, uy_centers]\n\n# Create the averaging operator for a vector from edges to cell centers\nA = mesh.average_edge_to_cell_vector\n\n# Apply the averaging operator\nu_average = A*u_edges\n\n# Plotting\nfig = plt.figure(figsize=(14, 4))\n\nax1 = fig.add_axes([0.05, 0.15, 0.22, 0.75])\nmesh.plot_image(\n    u_edges, ax=ax1, v_type=\"E\", view=\"vec\",\n    stream_opts={\"color\": \"w\", \"density\": 1.0}, clim=[0.0, 10.0],\n)\nax1.set_title(\"True Vector on Edges\")\n\nax2 = fig.add_axes([0.35, 0.15, 0.22, 0.75])\nmesh.plot_image(\n    u_average, ax=ax2, v_type=\"CCv\", view=\"vec\",\n    stream_opts={\"color\": \"w\", \"density\": 1.0}, clim=[0.0, 10.0],\n)\nax2.set_title(\"Averaged to Cell Centers\")\n\nax3 = fig.add_axes([0.65, 0.15, 0.22, 0.75])\nmesh.plot_image(\n    u_centers-u_average, ax=ax3, v_type=\"CCv\", view=\"vec\",\n    stream_opts={\"color\": \"w\", \"density\": 1.0}, clim=[0.0, 10.0],\n)\nax3.set_title(\"Error\")\n\nax4 = fig.add_axes([0.92, 0.15, 0.025, 0.75])\nnorm = mpl.colors.Normalize(vmin=0., vmax=10.)\ncbar = mpl.colorbar.ColorbarBase(\n    ax4, norm=norm, orientation=\"vertical\"\n)"
      ]
    }
  ],
  "metadata": {
    "kernelspec": {
      "display_name": "Python 3",
      "language": "python",
      "name": "python3"
    },
    "language_info": {
      "codemirror_mode": {
        "name": "ipython",
        "version": 3
      },
      "file_extension": ".py",
      "mimetype": "text/x-python",
      "name": "python",
      "nbconvert_exporter": "python",
      "pygments_lexer": "ipython3",
      "version": "3.7.4"
    }
  },
  "nbformat": 4,
  "nbformat_minor": 0
}
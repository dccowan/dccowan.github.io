{
  "cells": [
    {
      "cell_type": "code",
      "execution_count": null,
      "metadata": {
        "collapsed": false
      },
      "outputs": [],
      "source": [
        "%matplotlib inline"
      ]
    },
    {
      "cell_type": "markdown",
      "metadata": {},
      "source": [
        "\n# Interpolation Matricies\n\nInterpolation is required when a discrete quantity is known on the mesh (centers, nodes, edges or faces),\nbut we would like to estimate its value at locations within the continuous domain.\nHere, we demonstrate how a sparse matrix can be formed which interpolates\nthe discrete values to a set of locations in continuous space.\nThe focus of this tutorial is as follows:\n\n    - How to construct and apply interpolation matrices in 1D, 2D and 3D\n    - Interpolation on different mesh types\n    - Interpolation of scalars and vectors\n\n`See our theory section on interpolation operators <operators_interpolation>`\n"
      ]
    },
    {
      "cell_type": "markdown",
      "metadata": {},
      "source": [
        "## Import Packages\n\nHere we import the packages required for this tutorial.\n\n\n"
      ]
    },
    {
      "cell_type": "code",
      "execution_count": null,
      "metadata": {
        "collapsed": false
      },
      "outputs": [],
      "source": [
        "from discretize import TensorMesh, TreeMesh\nfrom discretize.utils import refine_tree_xyz\nimport matplotlib as mpl\nimport matplotlib.pyplot as plt\nimport numpy as np\nmpl.rcParams.update({'font.size':14})\n\n# sphinx_gallery_thumbnail_number = 2"
      ]
    },
    {
      "cell_type": "markdown",
      "metadata": {},
      "source": [
        "## 1D Example\n\nHere discretize a scalar function to live on cell nodes and\ninterpolate the values to a set of locations within the domain.\nWe then compute the scalar function at these locations to\nvalidate the interpolation operator.\n\n\n"
      ]
    },
    {
      "cell_type": "code",
      "execution_count": null,
      "metadata": {
        "collapsed": false
      },
      "outputs": [],
      "source": [
        "# Create a uniform grid\nh = 10 * np.ones(20)\nmesh = TensorMesh([h], \"C\")\n\n# Define locations\nx_nodes = mesh.nodes_x\n\n# Define a set of locations for the interpolation\nnp.random.seed(6)\nx_interp = np.random.uniform(np.min(x_nodes), np.max(x_nodes), 20)\n\n# Define a continuous function\ndef fun(x):\n    return np.exp(-(x ** 2) / 50 ** 2)\n\n# Compute function on nodes and at the location\nv_nodes = fun(x_nodes)\nv_true = fun(x_interp)\n\n# Create interpolation matrix and apply. When creating the interpolation matrix,\n# we must define where the discrete quantity lives and where it is being\n# interpolated to.\nP = mesh.get_interpolation_matrix(x_interp, 'N')\nv_interp = P * v_nodes\n\n# Compare\nfig = plt.figure(figsize=(12, 4))\nax1 = fig.add_axes([0.1, 0.05, 0.25, 0.8])\nax1.spy(P, markersize=5)\nax1.set_title(\"Spy plot for interpolation operator\", pad=15)\n\nk = np.argsort(x_interp)\n\nax2 = fig.add_axes([0.45, 0.1, 0.5, 0.8])\nax2.plot(\n    x_nodes, v_nodes, 'k',\n    x_interp[k], v_true[k], \"b^\",\n    x_interp[k], v_interp[k], \"gv\",\n    x_interp[k], np.c_[v_true[k] - v_interp[k]], \"ro\",\n)\nax2.set_ylim([-0.1, 1.5])\nax2.set_title(\"Comparison plot\")\nax2.legend(\n    (\n    \"original function\", \"true value at locations\",\n    \"interpolated from nodes\", \"error\"\n    ), loc=\"upper right\"\n)\n\nfig.show()"
      ]
    },
    {
      "cell_type": "markdown",
      "metadata": {},
      "source": [
        "## Interpolate a Scalar Quantity in 2D\n\nHere we discretize a scalar quantity to live at cell centers of a tree mesh.\nWe then use the interpolation matrix to approximate the values of the\nscalar function along a profile. The approach for 2D and 3D meshes\nare essentially the same.\n\n\n"
      ]
    },
    {
      "cell_type": "code",
      "execution_count": null,
      "metadata": {
        "collapsed": false
      },
      "outputs": [],
      "source": [
        "# Construct a tree mesh\nh = 2* np.ones(128)\nmesh = TreeMesh([h, h], x0=\"CC\")\n\nxy = np.c_[0., 0.]\nmesh = refine_tree_xyz(mesh, xy, octree_levels=[8, 8, 8], method=\"radial\", finalize=False)\nmesh.finalize()  # Must finalize tree mesh before use\n\n# Define the points along the profile\nd = np.linspace(-100, 100, 21)  # distance along profile\nphi = 35.                       # heading of profile\nxp = d*np.cos(np.pi*phi/180.)\nyp = d*np.sin(np.pi*phi/180.)\n\n# Define a continuous 2D scalar function\ndef fun(x, y):\n    return np.exp(-(x ** 2 + y ** 2) / 40 ** 2)\n\n# Get all cell center locations from the mesh and evaluate function\n# at the centers. Also compute true value at interpolation locations\ncenters = mesh.cell_centers\nv_centers = fun(centers[:, 0], centers[:, 1])\nv_true = fun(xp, yp)\n\n# Create interpolation matrix and apply. When creating the interpolation matrix,\n# we must define where the discrete quantity lives and where it is being\n# interpolated to.\nlocations = np.c_[xp, yp]\nP = mesh.get_interpolation_matrix(locations, 'CC')\nv_interp = P * v_centers\n\n# Plot mesh and profile line\nfig = plt.figure(figsize=(14, 4.5))\n\nax1 = fig.add_axes([0.1, 0.15, 0.25, 0.75])\nmesh.plot_grid(ax=ax1)\nax1.plot(xp, yp, 'ko')\nax1.set_xlim(np.min(mesh.nodes_x), np.max(mesh.nodes_x))\nax1.set_ylim(np.min(mesh.nodes_y), np.max(mesh.nodes_y))\nax1.set_xlabel('X')\nax1.set_ylabel('Y')\nax1.set_title('Tree mesh and profile line')\n\nax2 = fig.add_axes([0.43, 0.15, 0.5, 0.75])\nax2.plot(\n    d, v_true, \"k-\",\n    d, v_interp, \"bo\",\n    d, np.c_[v_true - v_interp], \"ro\",\n)\nax2.set_ylim([-0.1, 1.3])\nax2.set_title(\"Comparison plot\")\nax2.set_xlabel(\"Position along profile\")\nax2.legend((\n    \"true value\", \"interpolated from centers\", \"error\"\n))\n\nfig.show()"
      ]
    },
    {
      "cell_type": "markdown",
      "metadata": {},
      "source": [
        "## Interpolate a Vector Quantity in 2D\n\nHere we discretize a vector quantity to live on the edges of a 2D tensor mesh,\nwhere the x component lives on x-edges and the y component lives on y-edges.\nWe then use interpolation matrices to approximate the vector components\non the faces of the mesh. That is, we interpolate the x component from x-edges\nto x-faces, and we interpolate the y component from y-edges to y-faces.\nSince the x and y components of vectors are discretized at different locations\non the mesh, separate interpolation matrices must be constructed for the\nx and y components.\n\n\n"
      ]
    },
    {
      "cell_type": "code",
      "execution_count": null,
      "metadata": {
        "collapsed": false
      },
      "outputs": [],
      "source": [
        "# Create a tensor mesh\nh = np.ones(75)\nmesh = TensorMesh([h, h], \"CC\")\n\n# Define the x and y components of the vector function.\n# In this case, the vector function is a circular vortex.\ndef fun_x(xy):\n    r = np.sqrt(np.sum(xy ** 2, axis=1))\n    return 5. * (-xy[:, 1] / r) * (1 + np.tanh(0.15 * (28.0 - r)))\n\ndef fun_y(xy):\n    r = np.sqrt(np.sum(xy ** 2, axis=1))\n    return 5. * (xy[:, 0] / r) * (1 + np.tanh(0.15 * (28.0 - r)))\n\n# Evaluate x and y components of the vector on x and y edges, respectively\nedges_x = mesh.edges_x\nedges_y = mesh.edges_y\n\nux_edges = fun_x(edges_x)\nuy_edges = fun_y(edges_y)\nu_edges = np.r_[ux_edges, uy_edges]\n\n# Compute true x and y components of the vector on x and y faces, respectively\nfaces_x = mesh.faces_x\nfaces_y = mesh.faces_y\n\nux_faces = fun_x(faces_x)\nuy_faces = fun_y(faces_y)\nu_faces = np.r_[ux_faces, uy_faces]\n\n# Generate the interpolation matricies and interpolate from edges to faces.\n# Interpolation matrices from edges and faces assume all vector components\n# are defined on their respective edges or faces. Thus an interpolation matrix\n# from x-edges will extract the x component values then interpolate to locations.\nPx = mesh.get_interpolation_matrix(faces_x, \"Ex\")\nPy = mesh.get_interpolation_matrix(faces_y, \"Ey\")\n\nux_interp = Px*u_edges\nuy_interp = Py*u_edges\nu_interp = np.r_[ux_interp, uy_interp]\n\n# Plotting\nfig = plt.figure(figsize=(14, 4))\n\nax1 = fig.add_axes([0.05, 0.15, 0.22, 0.75])\nmesh.plotImage(\n    u_faces, ax=ax1, v_type=\"F\", view=\"vec\",\n    stream_opts={\"color\": \"w\", \"density\": 1.0}, clim=[0.0, 10.0],\n)\nax1.set_title(\"True Vector on Faces\")\n\nax2 = fig.add_axes([0.35, 0.15, 0.22, 0.75])\nmesh.plotImage(\n    u_interp, ax=ax2, v_type=\"F\", view=\"vec\",\n    stream_opts={\"color\": \"w\", \"density\": 1.0}, clim=[0.0, 10.0],\n)\nax2.set_title(\"Interpolated from Edges to Faces\")\n\nax3 = fig.add_axes([0.65, 0.15, 0.22, 0.75])\nmesh.plotImage(\n    u_faces-u_interp, ax=ax3, v_type=\"F\", view=\"vec\",\n    stream_opts={\"color\": \"w\", \"density\": 1.0}, clim=[0.0, 10.0],\n)\nax3.set_title(\"Error\")\n\nax4 = fig.add_axes([0.92, 0.15, 0.025, 0.75])\nnorm = mpl.colors.Normalize(vmin=0., vmax=10.)\ncbar = mpl.colorbar.ColorbarBase(\n    ax4, norm=norm, orientation=\"vertical\"\n)"
      ]
    }
  ],
  "metadata": {
    "kernelspec": {
      "display_name": "Python 3",
      "language": "python",
      "name": "python3"
    },
    "language_info": {
      "codemirror_mode": {
        "name": "ipython",
        "version": 3
      },
      "file_extension": ".py",
      "mimetype": "text/x-python",
      "name": "python",
      "nbconvert_exporter": "python",
      "pygments_lexer": "ipython3",
      "version": "3.7.4"
    }
  },
  "nbformat": 4,
  "nbformat_minor": 0
}
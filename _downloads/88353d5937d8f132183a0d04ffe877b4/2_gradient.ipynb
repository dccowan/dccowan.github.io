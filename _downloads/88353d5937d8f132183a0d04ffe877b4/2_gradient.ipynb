{
  "cells": [
    {
      "cell_type": "code",
      "execution_count": null,
      "metadata": {
        "collapsed": false
      },
      "outputs": [],
      "source": [
        "%matplotlib inline"
      ]
    },
    {
      "cell_type": "markdown",
      "metadata": {},
      "source": [
        "\n# Gradient Operator\n\nFor geophysical problems, the relationship between two physical quantities may include the gradient:\n\n\\begin{align}\\nabla \\phi = \\dfrac{\\partial \\phi}{\\partial x}\\hat{x} + \\dfrac{\\partial \\phi}{\\partial y}\\hat{y} + \\dfrac{\\partial \\phi}{\\partial z}\\hat{z}\\end{align}\n\nFor discretized quantities living on 1D, 2D or 3D meshes, sparse matricies can be used to\napproximate the gradient operator. For each mesh type, the gradient\noperator is a property that is only constructed when called.\n\nThis tutorial focusses on:\n\n    - how to construct the gradient operator\n    - applying the gradient operator to a discrete quantity\n    - mapping and dimensions or the gradient operator\n"
      ]
    },
    {
      "cell_type": "markdown",
      "metadata": {},
      "source": [
        "## Background Theory\n\nLet us define a continuous scalar function $\\phi$ and a continuous vector function $\\vec{u}$ such that:\n\n\\begin{align}\\vec{u} = \\nabla \\phi\\end{align}\n\nAnd let $\\boldsymbol{\\phi}$ and $\\boldsymbol{u}$ be the discrete representations of $\\phi$ and $\\vec{u}$\nthat live on the mesh. Provided we know the discrete values $\\boldsymbol{\\phi}$,\nour goal is to use discrete differentiation to approximate the vector components of $\\boldsymbol{u}$.\nWe begin by considering a single cell (2D or 3D). We let the indices $i$, $j$ and $k$ \ndenote positions along the x, y and z axes, respectively.\n\n.. figure:: ../../images/gradient_discretization.png\n    :align: center\n    :width: 600\n\n    Discretization for approximating the gradient on the edges of a single 2D cell (left) and 3D cell (right).\n\nAs we will see, it makes the most sense for $\\boldsymbol{\\phi}$ to live at the cell nodes and\nfor the components of $\\boldsymbol{u}$ to live on corresponding edges. If $\\phi$ lives on the nodes, then:\n\n    - the partial derivative $\\dfrac{\\partial \\phi}{\\partial x}\\hat{x}$ lives on x-edges,\n    - the partial derivative $\\dfrac{\\partial \\phi}{\\partial y}\\hat{y}$ lives on y-edges, and\n    - the partial derivative $\\dfrac{\\partial \\phi}{\\partial z}\\hat{z}$ lives on z-edges\n\nThus to approximate the gradient of $\\phi$, \nwe simply need to take discrete derivatives of $\\phi$ with respect to $x$, $y$ and $z$,\nand organize the resulting vector components on the corresponding edges.\nLet $h_x$, $h_y$ and $h_z$ represent the dimension of the cell along the x, y and\nz directions, respectively.\n\n**In 2D**, the value of $\\phi$ at 4 node locations is used to approximate the vector components of the\ngradient at 4 edges locations (2 x-edges and 2 y-edges) as follows:\n\n\\begin{align}\\begin{align}\n    u_x \\Big ( i+\\frac{1}{2},j \\Big ) \\approx \\; & \\frac{\\phi (i+1,j) - \\phi (i,j)}{h_x} \\\\\n    u_x \\Big ( i+\\frac{1}{2},j+1 \\Big ) \\approx \\; & \\frac{\\phi (i+1,j+1) - \\phi (i,j+1)}{h_x} \\\\\n    u_y \\Big ( i,j+\\frac{1}{2} \\Big ) \\approx \\; & \\frac{\\phi (i,j+1) - \\phi (i,j)}{h_y} \\\\\n    u_y \\Big ( i+1,j+\\frac{1}{2} \\Big ) \\approx \\; & \\frac{\\phi (i+1,j+1) - \\phi (i+1,j)}{h_y}\n    \\end{align}\\end{align}\n\n**In 3D**, the value of $\\phi$ at 8 node locations is used to approximate the vector components of the\ngradient at 12 edges locations (4 x-edges, 4 y-edges and 4 z-edges). An example of the approximation\nfor each vector component is given below:\n\n\\begin{align}\\begin{align}\n    u_x \\Big ( i+\\frac{1}{2},j,k \\Big ) \\approx \\; & \\frac{\\phi (i+1,j,k) - \\phi (i,j,k)}{h_x} \\\\\n    u_y \\Big ( i,j+\\frac{1}{2},k \\Big ) \\approx \\; & \\frac{\\phi (i,j+1,k) - \\phi (i,j,k)}{h_y} \\\\\n    u_z \\Big ( i,j,k+\\frac{1}{2} \\Big ) \\approx \\; & \\frac{\\phi (i,j,k+1) - \\phi (i,j,k)}{h_z}\n    \\end{align}\\end{align}\n\n\nUltimately we are trying to approximate the vector components of the gradient at all edges of a mesh.\nAdjacent cells share nodes. If $\\phi$ is continuous at the nodes, then $\\boldsymbol{\\phi}$ and $\\boldsymbol{u}$\ncan be related by a sparse matrix-vector product:\n\n\\begin{align}\\boldsymbol{u} = \\boldsymbol{G \\, \\phi}\\end{align}\n\nwhere $\\boldsymbol{G}$ is the gradient matrix that maps from nodes to edges,\n$\\boldsymbol{\\phi}$ is a vector containing $\\phi$ at all nodes,\nand $\\boldsymbol{u}$ stores the components of $\\vec{u}$ on cell edges as a vector of the form:\n\n\\begin{align}\\boldsymbol{u} = \\begin{bmatrix} \\boldsymbol{u_x} \\\\ \\boldsymbol{u_y} \\\\ \\boldsymbol{u_z} \\end{bmatrix}\\end{align}\n\n\n\n"
      ]
    },
    {
      "cell_type": "markdown",
      "metadata": {},
      "source": [
        "## Import Packages\n\n\n"
      ]
    },
    {
      "cell_type": "code",
      "execution_count": null,
      "metadata": {
        "collapsed": false
      },
      "outputs": [],
      "source": [
        "from discretize import TensorMesh, TreeMesh\nfrom discretize.utils import mkvc, refine_tree_xyz\nimport matplotlib.pyplot as plt\nimport numpy as np\n\n# sphinx_gallery_thumbnail_number = 2"
      ]
    },
    {
      "cell_type": "markdown",
      "metadata": {},
      "source": [
        "## 1D Example\n\nFor the 1D case, the gradient operator simply approximates the derivative\nof a function. Here we compute a scalar function on cell nodes and\ndifferentiate with respect to x. We then compute the analytic\nderivative of function to validate the numerical differentiation.\n\n\n"
      ]
    },
    {
      "cell_type": "code",
      "execution_count": null,
      "metadata": {
        "collapsed": false
      },
      "outputs": [],
      "source": [
        "# Create a uniform grid\nh = np.ones(20)\nmesh = TensorMesh([h], \"C\")\n\n# Get node and cell center locations\nx_nodes = mesh.vectorNx\nx_centers = mesh.vectorCCx\n\n# Compute function on nodes and derivative at cell centers\nv = np.exp(-(x_nodes ** 2) / 4 ** 2)\ndvdx = -(2 * x_centers / 4 ** 2) * np.exp(-(x_centers ** 2) / 4 ** 2)\n\n# Derivative in x (gradient in 1D) from nodes to cell centers\nG = mesh.nodalGrad\ndvdx_approx = G * v\n\n# Compare\nfig = plt.figure(figsize=(12, 4))\nax1 = fig.add_axes([0.1, 0.02, 0.25, 0.8])\nax1.spy(G, markersize=5)\nax1.set_title(\"Spy plot of gradient\", pad=10)\n\nax2 = fig.add_axes([0.4, 0.06, 0.55, 0.85])\nax2.plot(x_nodes, v, \"b-\", x_centers, dvdx, \"r-\", x_centers, dvdx_approx, \"ko\")\nax2.set_title(\"Comparison plot\")\nax2.legend((\"function\", \"analytic derivative\", \"numeric derivative\"))\n\nfig.show()"
      ]
    },
    {
      "cell_type": "markdown",
      "metadata": {},
      "source": [
        "## 2D Example\n\nHere we apply the gradient to a scalar function that lives\non the nodes of a 2D tensor mesh. This produces a\na discrete approximation of the gradient that lives\non the edges of the mesh.\n\n\n"
      ]
    },
    {
      "cell_type": "code",
      "execution_count": null,
      "metadata": {
        "collapsed": false
      },
      "outputs": [],
      "source": [
        "# Create a uniform grid\nh = np.ones(20)\nmesh = TensorMesh([h, h], \"CC\")\n\n# Get the gradient\nGRAD = mesh.nodal_gradient  # Gradient from nodes to edges\n\n# Evaluate gradient of a scalar function\nnodes = mesh.nodes\nu = np.exp(-(nodes[:, 0] ** 2 + nodes[:, 1] ** 2) / 4 ** 2)\ngrad_u = GRAD * u\n\n# Plot Gradient of u\nfig = plt.figure(figsize=(11, 5))\n\nax1 = fig.add_subplot(121)\nmesh.plotImage(u, ax=ax1, v_type=\"N\")\nax1.set_title(\"u on cell nodes\")\n\nax2 = fig.add_subplot(122)\nmesh.plotImage(\n    grad_u, ax=ax2, v_type=\"E\", view=\"vec\", stream_opts={\"color\": \"w\", \"density\": 1.0}\n)\nax2.set_title(\"gradient of u on edges\")\n\nfig.show()"
      ]
    },
    {
      "cell_type": "markdown",
      "metadata": {},
      "source": [
        "## Mapping and Dimensions\n\nWhen discretizing and solving differential equations, it is\nnatural for:\n\n   - Scalar quantities on nodes or at cell centers\n   - Vector quantities on cell edges or on cell faces\n\nAs a result, the gradient operator will map from one part of\nthe mesh to another; either nodes to edges or cell centers to faces.\n\nHere we construct the gradient operator for a tensor mesh and for\na tree mesh. By plotting the operators on a spy plot, we gain\nan understanding of the dimensions\nof the gradient operator and its structure.\n\n\n"
      ]
    },
    {
      "cell_type": "code",
      "execution_count": null,
      "metadata": {
        "collapsed": false
      },
      "outputs": [],
      "source": [
        "# Create a basic tensor mesh\nh = np.ones(20)\ntensor_mesh = TensorMesh([h, h], \"CC\")\n\n# Create a basic tree mesh\nh = np.ones(32)\ntree_mesh = TreeMesh([h, h], origin=\"CC\")\nxp, yp = np.meshgrid([-8., 8.], [-8., 8.])\nxy = np.c_[mkvc(xp), mkvc(yp)]\ntree_mesh = refine_tree_xyz(tree_mesh, xy, octree_levels=[1, 1], method=\"box\", finalize=False)\ntree_mesh.finalize()\n\n# Plot meshes\nfig, ax = plt.subplots(1, 2, figsize=(11, 5))\n\ntensor_mesh.plot_grid(ax=ax[0])\nax[0].set_title(\"Tensor Mesh\")\n\ntree_mesh.plot_grid(ax=ax[1])\nax[1].set_title(\"Tree Mesh\")\n\n# Construct gradient operators\ntensor_gradient = tensor_mesh.cell_gradient  # 2D gradient from centers to faces\ntree_gradient = tree_mesh.nodal_gradient  # 2D gradient from nodes to edges \n\n# Plot gradient operators\nfig = plt.figure(figsize=(7, 5))\n\nax1 = fig.add_axes([0.15, 0.05, 0.30, 0.85])\nax1.spy(tensor_gradient, markersize=0.5)\nax1.set_title(\"Tensor Gradient\")\n\nax2 = fig.add_axes([0.65, 0.05, 0.30, 0.85])\nax2.spy(tree_gradient, markersize=0.5)\nax2.set_title(\"Tree Gradient\")\n\nfig.show()\n\n# Print some properties\nprint(\"\\n Centers to Faces on Tensor Mesh:\")\nprint(\"- Number of nodes:\", str(tensor_mesh.nN))\nprint(\"- Number of edges:\", str(tensor_mesh.nE))\nprint(\"- Dimensions of operator:\", str(tensor_mesh.nE), \"x\", str(tensor_mesh.nN))\nprint(\"- Number of non-zero elements:\", str(tensor_gradient.nnz), \"\\n\")\n\nprint(\"\\n Nodes to Edges on Tree Mesh:\")\nprint(\"- Number of nodes:\", str(tree_mesh.nN))\nprint(\"- Number of edges:\", str(tree_mesh.nE))\nprint(\"- Dimensions of operator:\", str(tree_mesh.nE), \"x\", str(tree_mesh.nN))\nprint(\"- Number of non-zero elements:\", str(tree_gradient.nnz), \"\\n\")"
      ]
    }
  ],
  "metadata": {
    "kernelspec": {
      "display_name": "Python 3",
      "language": "python",
      "name": "python3"
    },
    "language_info": {
      "codemirror_mode": {
        "name": "ipython",
        "version": 3
      },
      "file_extension": ".py",
      "mimetype": "text/x-python",
      "name": "python",
      "nbconvert_exporter": "python",
      "pygments_lexer": "ipython3",
      "version": "3.7.4"
    }
  },
  "nbformat": 4,
  "nbformat_minor": 0
}
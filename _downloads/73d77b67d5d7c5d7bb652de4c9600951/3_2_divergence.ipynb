{
  "cells": [
    {
      "cell_type": "code",
      "execution_count": null,
      "metadata": {
        "collapsed": false
      },
      "outputs": [],
      "source": [
        "%matplotlib inline"
      ]
    },
    {
      "cell_type": "markdown",
      "metadata": {},
      "source": [
        "\n# Divergence Operator\n\nWhen solving PDEs using the finite volume approach, inner products may\ncontain the divergence operator. Where $\\psi$ is a scalar quantity\nand $\\vec{w}$ is a vector quantity, we may need to derive a\ndiscrete approximation to the following inner product:\n\n\\begin{align}(\\psi , \\nabla \\cdot \\vec{w}) = \\int_\\Omega \\, \\psi \\, \\nabla \\cdot \\vec{w} \\, dv\\end{align}\n\nIn this section, we demonstrate how to go from the inner product to the\ndiscrete approximation. In doing so, we must construct\ndiscrete differential operators, inner product matricies and consider\nboundary conditions.\n"
      ]
    },
    {
      "cell_type": "markdown",
      "metadata": {},
      "source": [
        "## Import Packages\n\n\n"
      ]
    },
    {
      "cell_type": "code",
      "execution_count": null,
      "metadata": {
        "collapsed": false
      },
      "outputs": [],
      "source": [
        "from discretize.utils import sdiag\nfrom discretize import TensorMesh\nimport numpy as np\nimport matplotlib.pyplot as plt"
      ]
    },
    {
      "cell_type": "markdown",
      "metadata": {},
      "source": [
        "## Background Theory\n\nFor the inner product between a scalar ($\\psi$) and the divergence of a vector ($\\vec{w}$),\nthere are two options for where the variables should live.\n\n**For** $\\boldsymbol{\\psi}$ **at cell centers and** $\\boldsymbol{w}$ **on cell faces:**\n\n\\begin{align}\\int_\\Omega \\psi \\; (\\nabla \\cdot \\vec{w}) \\, dv \\approx \\boldsymbol{\\psi^T M_c D \\, w}\\end{align}\n\nwhere\n\n    - $\\boldsymbol{D}$ is the discrete divergence operator from faces to cell centers\n    - $\\boldsymbol{M_c}$ is the basic inner product matrix for scalars at cell centers\n\n**For** $\\boldsymbol{\\psi}$ **on the nodes and** $\\boldsymbol{w}$ **on cell edges** ,\nthe divergence operator would have to map from edges to nodes. For boundary nodes, this would\nrequire knowledge of $\\vec{w}$ outside the boundary. To evaluate the inner product we use the identity\n$\\psi \\nabla \\cdot \\vec{w} = \\nabla \\cdot \\psi\\vec{w} - \\vec{w} \\cdot \\nabla \\psi$\nand apply the divergence theorem such that:\n\n\\begin{align}\\int_\\Omega \\psi \\; (\\nabla \\cdot \\vec{w}) \\, dv =\n    - \\int_\\Omega \\vec{w} \\cdot \\nabla \\psi \\, dv + \\oint_{\\partial \\Omega} \\psi (\\hat{n} \\cdot \\vec{w}) \\, da\n    \\approx - \\boldsymbol{\\psi^T G^T M_e \\, w } + \\boldsymbol{\\psi^T B \\, w }\n    = \\boldsymbol{\\psi^T \\tilde{D} \\, w }\\end{align}\n\nwhere\n\n    - $\\boldsymbol{G}$ is the discrete gradient operator from nodes to edges\n    - $\\boldsymbol{M_e}$ is the basic inner product matrix for vectors on edges\n    - $\\boldsymbol{B}$ is a sparse matrix that imposes boundary conditions on $\\vec{w}$\n    - $\\boldsymbol{\\tilde{D}} = \\boldsymbol{- G^T M_e + B}$ acts as a modified divergence operator with boundary conditions imposed\n\nNote that when $\\hat{n} \\cdot \\vec{w} = 0$ on the boundary, the term containing $\\boldsymbol{B}$ is zero.\n\n\n"
      ]
    },
    {
      "cell_type": "markdown",
      "metadata": {},
      "source": [
        "## Divergence\n\n\n"
      ]
    },
    {
      "cell_type": "code",
      "execution_count": null,
      "metadata": {
        "collapsed": false
      },
      "outputs": [],
      "source": [
        "# Make basic mesh\nh = np.ones(10)\nmesh = TensorMesh([h, h, h])\n\n# Items required to perform psi.T*(Mc*D*v)\nMc = sdiag(mesh.vol)  # Basic inner product matrix (centers)\nD = mesh.faceDiv  # Faces to centers divergence\n\n# Plot sparse representation\nfig = plt.figure(figsize=(8, 5))\n\nax1 = fig.add_subplot(111)\nax1.spy(Mc * D, markersize=0.5)\nax1.set_title(\"Mc*D\", pad=20)"
      ]
    }
  ],
  "metadata": {
    "kernelspec": {
      "display_name": "Python 3",
      "language": "python",
      "name": "python3"
    },
    "language_info": {
      "codemirror_mode": {
        "name": "ipython",
        "version": 3
      },
      "file_extension": ".py",
      "mimetype": "text/x-python",
      "name": "python",
      "nbconvert_exporter": "python",
      "pygments_lexer": "ipython3",
      "version": "3.7.4"
    }
  },
  "nbformat": 4,
  "nbformat_minor": 0
}
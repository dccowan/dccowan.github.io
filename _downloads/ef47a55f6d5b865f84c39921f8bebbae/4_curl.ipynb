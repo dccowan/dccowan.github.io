{
  "cells": [
    {
      "cell_type": "code",
      "execution_count": null,
      "metadata": {
        "collapsed": false
      },
      "outputs": [],
      "source": [
        "%matplotlib inline"
      ]
    },
    {
      "cell_type": "markdown",
      "metadata": {},
      "source": [
        "\n# Curl Opertor\n\nFor geophysical problems, the relationship between two physical quantities may include the curl:\n\n\\begin{align}\\nabla \\times \\vec{u} = \\Bigg ( \\dfrac{\\partial u_y}{\\partial z} - \\dfrac{\\partial u_z}{\\partial y} \\Bigg )\\hat{x} - \\Bigg ( \\dfrac{\\partial u_x}{\\partial z} - \\dfrac{\\partial u_z}{\\partial x} \\Bigg )\\hat{y} + \\Bigg ( \\dfrac{\\partial u_x}{\\partial y} - \\dfrac{\\partial u_y}{\\partial x} \\Bigg )\\hat{z}\\end{align}\n\nFor discretized quantities living on 2D or 3D meshes, sparse matricies can be used to\napproximate the curl operator. For each mesh type, the curl\noperator is a property that is only constructed when called.\n\nThis tutorial focusses on:\n\n    - how to construct the curl operator\n    - applying the curl operator to a discrete quantity\n    - mapping and dimensions\n"
      ]
    },
    {
      "cell_type": "markdown",
      "metadata": {},
      "source": [
        "## Background Theory\n\nLet us define two continuous vector functions $\\vec{u}$ and $\\vec{w}$ such that:\n\n\\begin{align}\\vec{w} = \\nabla \\times \\vec{u}\\end{align}\n\nAnd let $\\boldsymbol{u}$ and $\\boldsymbol{w}$ be the discrete representations of $\\vec{u}$ and $\\vec{w}$\nthat live on the mesh. Provided we know the discrete values $\\boldsymbol{u}$,\nour goal is to use discrete differentiation to approximate the vector components of $\\boldsymbol{w}$.\nWe begin by considering a single 3D cell. We let the indices $i$, $j$ and $k$ \ndenote positions along the x, y and z axes, respectively.\n\n.. figure:: ../../images/curl_discretization.png\n    :align: center\n    :width: 800\n\n    Discretization for approximating the x, y and z components of the curl on the respective faces of a 3D cell.\n\n\nAs we will see, it makes the most sense for the vector components of $\\boldsymbol{u}$ to live on the edges\nfor the vector components of $\\boldsymbol{w}$ to live the faces. In this case, we need to approximate:\n\n\n    - the partial derivatives $\\dfrac{\\partial u_y}{\\partial z}$ and $\\dfrac{\\partial u_z}{\\partial y}$ to compute $w_x$,\n    - the partial derivatives $\\dfrac{\\partial u_x}{\\partial z}$ and $\\dfrac{\\partial u_z}{\\partial x}$ to compute $w_y$, and\n    - the partial derivatives $\\dfrac{\\partial u_x}{\\partial y}$ and $\\dfrac{\\partial u_y}{\\partial x}$ to compute $w_z$\n\n**In 3D**, discrete values at 12 edge locations (4 x-edges, 4 y-edges and 4 z-edges) are used to\napproximate the vector components of the curl at 6 face locations (2 x-faces, 2-faces and 2 z-faces).\nAn example of the approximation for each vector component is given below:\n\n\\begin{align}\\begin{align}\n    w_x \\Big ( i,j \\! +\\!\\!\\frac{1}{2},k \\! +\\!\\!\\frac{1}{2} \\Big ) \\!\\approx\\! \\; &\n    \\!\\Bigg ( \\! \\frac{u_z (i,j \\! +\\!\\!1,k \\! +\\!\\!\\frac{1}{2})  \\! -\\! u_z (i,j,k \\! +\\!\\!\\frac{1}{2})}{h_y} \\Bigg) \\!\n    \\! -\\! \\!\\Bigg ( \\! \\frac{u_y (i,j \\! +\\!\\!\\frac{1}{2},k \\! +\\!\\!1)  \\! -\\! u_y (i,j \\! +\\!\\!\\frac{1}{2},k)}{h_z} \\Bigg) \\! \\\\\n    & \\\\\n    w_y \\Big ( i \\! +\\!\\!\\frac{1}{2},j,k \\! +\\!\\!\\frac{1}{2} \\Big ) \\!\\approx\\! \\; &\n    \\!\\Bigg ( \\! \\frac{u_x (i \\! +\\!\\!\\frac{1}{2},j,k \\! +\\!\\!1)  \\! -\\! u_x (i \\! +\\!\\!\\frac{1}{2},j,k)}{h_z} \\Bigg)\n    \\! -\\! \\!\\Bigg ( \\! \\frac{u_z (i \\! +\\!\\!1,j,k \\! +\\!\\!\\frac{1}{2})  \\! -\\! u_z (i,j,k \\! +\\!\\!\\frac{1}{2})}{h_x} \\Bigg) \\! \\\\\n    & \\\\\n    w_z \\Big ( i \\! +\\!\\!\\frac{1}{2},j \\! +\\!\\!\\frac{1}{2},k \\Big ) \\!\\approx\\! \\; &\n    \\!\\Bigg ( \\! \\frac{u_y (i \\! +\\!\\!1,j \\! +\\!\\!\\frac{1}{2},k)  \\! -\\! u_y (i,j \\! +\\!\\!\\frac{1}{2},k)}{h_x} \\Bigg )\n    \\! -\\! \\!\\Bigg ( \\! \\frac{u_x (i \\! +\\!\\!\\frac{1}{2},j \\! +\\!\\!1,k)  \\! -\\! u_x (i \\! +\\!\\!\\frac{1}{2},j,k)}{h_y} \\Bigg) \\!\n    \\end{align}\\end{align}\n\n\nUltimately we are trying to approximate the curl on all the faces within a mesh.\nAdjacent cells share edges. If the components $u_x$, $u_y$ and $u_z$ are\ncontinuous across at the edges, then $\\boldsymbol{u}$ and $\\boldsymbol{w}$\ncan be related by a sparse matrix-vector product:\n\n\\begin{align}\\boldsymbol{w} = \\boldsymbol{C \\, u}\\end{align}\n\nwhere $\\boldsymbol{C}$ is the curl matrix from edges to faces,\n$\\boldsymbol{u}$ is a vector that stores the components of $\\vec{u}$ on cell edges,\nand $\\boldsymbol{w}$ is a vector that stores the components of $\\vec{w}$ on cell faces such that:\n\n\\begin{align}\\boldsymbol{u} = \\begin{bmatrix} \\boldsymbol{u_x} \\\\ \\boldsymbol{u_y} \\\\ \\boldsymbol{u_z} \\end{bmatrix}\n    \\;\\;\\;\\; \\textrm{and} \\;\\;\\;\\; \\begin{bmatrix} \\boldsymbol{w_x} \\\\ \\boldsymbol{w_y} \\\\ \\boldsymbol{w_z} \\end{bmatrix}\\end{align}\n\n\n\n"
      ]
    },
    {
      "cell_type": "markdown",
      "metadata": {},
      "source": [
        "## Import Packages\n\nHere we import the packages required for this tutorial.\n\n\n"
      ]
    },
    {
      "cell_type": "code",
      "execution_count": null,
      "metadata": {
        "collapsed": false
      },
      "outputs": [],
      "source": [
        "from discretize import TensorMesh, TreeMesh\nfrom discretize.utils import mkvc, refine_tree_xyz\nimport matplotlib.pyplot as plt\nimport numpy as np\n\n# sphinx_gallery_thumbnail_number = 1"
      ]
    },
    {
      "cell_type": "markdown",
      "metadata": {},
      "source": [
        "## 2D Example\n\nHere we apply the curl operator to a vector that lives\non the edges of a 2D tensor mesh. We then plot the results.\nThe goal is to demonstrate the construction of the\ndiscrete curl operator. In practise, the curl is only present\nin 3D problems.\n\n\n"
      ]
    },
    {
      "cell_type": "code",
      "execution_count": null,
      "metadata": {
        "collapsed": false
      },
      "outputs": [],
      "source": [
        "# Create a uniform grid\nh = np.ones(20)\nmesh = TensorMesh([h, h], \"CC\")\n\n# Get the curl operator\nCURL = mesh.edgeCurl  # Curl edges to cell centers (goes to faces in 3D)\n\n# Evaluate curl of a vector function in x and y\nedges_x = mesh.gridEx\nedges_y = mesh.gridEy\n\nwx = (-edges_x[:, 1] / np.sqrt(np.sum(edges_x ** 2, axis=1))) * np.exp(\n    -(edges_x[:, 0] ** 2 + edges_x[:, 1] ** 2) / 6 ** 2\n)\n\nwy = (edges_y[:, 0] / np.sqrt(np.sum(edges_y ** 2, axis=1))) * np.exp(\n    -(edges_y[:, 0] ** 2 + edges_y[:, 1] ** 2) / 6 ** 2\n)\n\nw = np.r_[wx, wy]\ncurl_w = CURL * w\n\n# Plot curl of w\nfig = plt.figure(figsize=(11, 5))\n\nax1 = fig.add_subplot(121)\nmesh.plotImage(\n    w, ax=ax1, v_type=\"E\", view=\"vec\", stream_opts={\"color\": \"w\", \"density\": 1.0}\n)\nax1.set_title(\"w at cell edges\")\n\nax2 = fig.add_subplot(122)\nmesh.plotImage(curl_w, ax=ax2)\nax2.set_title(\"curl of w at cell centers\")\n\nfig.show()"
      ]
    },
    {
      "cell_type": "markdown",
      "metadata": {},
      "source": [
        "## Mapping and Dimensions\n\nWhen discretizing and solving differential equations, it is\nnatural for vector quantities on cell edges or on cell faces\nThe curl operator is generally defined by map from edges to faces;\nalthough one could theoretically construct a curl operator which\nmaps from faces to edges.\n\nHere we construct the curl operator for a tensor mesh and for\na tree mesh. By plotting the operators on a spy plot, we gain\nan understanding of the dimensions\nof the gradient operator and its structure.\n\n\n"
      ]
    },
    {
      "cell_type": "code",
      "execution_count": null,
      "metadata": {
        "collapsed": false
      },
      "outputs": [],
      "source": [
        "# Create a basic tensor mesh\nh = np.ones(20)\ntensor_mesh = TensorMesh([h, h, h], \"CCC\")\n\n# Create a basic tree mesh\nh = np.ones(32)\ntree_mesh = TreeMesh([h, h, h], origin=\"CCC\")\nxp, yp, zp = np.meshgrid([-8., 8.], [-8., 8.], [-8., 8.])\nxyz = np.c_[mkvc(xp), mkvc(yp), mkvc(zp)]\ntree_mesh = refine_tree_xyz(tree_mesh, xyz, octree_levels=[1, 1], method=\"box\", finalize=False)\ntree_mesh.finalize()\n\n# Construct curl operators\ntensor_curl = tensor_mesh.edge_curl  # 3D curl from edges to faces\ntree_curl = tree_mesh.edge_curl  # 3D curl from edges to faces\n\nfig = plt.figure(figsize=(9, 4))\n\nax1 = fig.add_axes([0.15, 0.05, 0.35, 0.85])\nax1.spy(tensor_curl, markersize=0.5)\nax1.set_title(\"Tensor Mesh Curl\")\n\nax2 = fig.add_axes([0.65, 0.05, 0.30, 0.85])\nax2.spy(tree_curl, markersize=0.5)\nax2.set_title(\"Tree Mesh Curl\")\n\nfig.show()\n\n# Print some properties\nprint(\"Curl on Tensor Mesh:\")\nprint(\"- Number of faces:\", str(tensor_mesh.nF))\nprint(\"- Number of edges:\", str(tensor_mesh.nE))\nprint(\"- Dimensions of operator:\", str(tensor_mesh.nE), \"x\", str(tensor_mesh.nF))\nprint(\"- Number of non-zero elements:\", str(tensor_curl.nnz))\n\nprint(\"Curl on Tree Mesh:\")\nprint(\"- Number of faces:\", str(tree_mesh.nF))\nprint(\"- Number of edges:\", str(tree_mesh.nE))\nprint(\"- Dimensions of operator:\", str(tree_mesh.nE), \"x\", str(tree_mesh.nF))\nprint(\"- Number of non-zero elements:\", str(tree_curl.nnz))"
      ]
    }
  ],
  "metadata": {
    "kernelspec": {
      "display_name": "Python 3",
      "language": "python",
      "name": "python3"
    },
    "language_info": {
      "codemirror_mode": {
        "name": "ipython",
        "version": 3
      },
      "file_extension": ".py",
      "mimetype": "text/x-python",
      "name": "python",
      "nbconvert_exporter": "python",
      "pygments_lexer": "ipython3",
      "version": "3.7.4"
    }
  },
  "nbformat": 4,
  "nbformat_minor": 0
}